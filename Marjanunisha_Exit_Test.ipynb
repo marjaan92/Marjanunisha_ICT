{
 "cells": [
  {
   "cell_type": "code",
   "execution_count": 473,
   "id": "7cfb6a9e",
   "metadata": {},
   "outputs": [],
   "source": [
    "import numpy as np\n",
    "import pandas as pd\n",
    "import matplotlib.pyplot as plt\n",
    "import seaborn as sns"
   ]
  },
  {
   "cell_type": "code",
   "execution_count": 474,
   "id": "f5122588",
   "metadata": {},
   "outputs": [],
   "source": [
    "data = pd.read_csv('data_car.csv')"
   ]
  },
  {
   "cell_type": "code",
   "execution_count": 475,
   "id": "04775211",
   "metadata": {},
   "outputs": [
    {
     "data": {
      "text/html": [
       "<div>\n",
       "<style scoped>\n",
       "    .dataframe tbody tr th:only-of-type {\n",
       "        vertical-align: middle;\n",
       "    }\n",
       "\n",
       "    .dataframe tbody tr th {\n",
       "        vertical-align: top;\n",
       "    }\n",
       "\n",
       "    .dataframe thead th {\n",
       "        text-align: right;\n",
       "    }\n",
       "</style>\n",
       "<table border=\"1\" class=\"dataframe\">\n",
       "  <thead>\n",
       "    <tr style=\"text-align: right;\">\n",
       "      <th></th>\n",
       "      <th>Make</th>\n",
       "      <th>Model</th>\n",
       "      <th>Year</th>\n",
       "      <th>Engine Fuel Type</th>\n",
       "      <th>Engine HP</th>\n",
       "      <th>Engine Cylinders</th>\n",
       "      <th>Transmission Type</th>\n",
       "      <th>Driven_Wheels</th>\n",
       "      <th>Number of Doors</th>\n",
       "      <th>Market Category</th>\n",
       "      <th>Vehicle Size</th>\n",
       "      <th>Vehicle Style</th>\n",
       "      <th>highway MPG</th>\n",
       "      <th>city mpg</th>\n",
       "      <th>Popularity</th>\n",
       "      <th>MSRP</th>\n",
       "    </tr>\n",
       "  </thead>\n",
       "  <tbody>\n",
       "    <tr>\n",
       "      <th>0</th>\n",
       "      <td>BMW</td>\n",
       "      <td>1 Series M</td>\n",
       "      <td>2011</td>\n",
       "      <td>premium unleaded (required)</td>\n",
       "      <td>335.0</td>\n",
       "      <td>6.0</td>\n",
       "      <td>MANUAL</td>\n",
       "      <td>rear wheel drive</td>\n",
       "      <td>2.0</td>\n",
       "      <td>Factory Tuner,Luxury,High-Performance</td>\n",
       "      <td>Compact</td>\n",
       "      <td>Coupe</td>\n",
       "      <td>26</td>\n",
       "      <td>19</td>\n",
       "      <td>3916</td>\n",
       "      <td>46135</td>\n",
       "    </tr>\n",
       "    <tr>\n",
       "      <th>1</th>\n",
       "      <td>BMW</td>\n",
       "      <td>1 Series</td>\n",
       "      <td>2011</td>\n",
       "      <td>premium unleaded (required)</td>\n",
       "      <td>300.0</td>\n",
       "      <td>6.0</td>\n",
       "      <td>MANUAL</td>\n",
       "      <td>rear wheel drive</td>\n",
       "      <td>2.0</td>\n",
       "      <td>Luxury,Performance</td>\n",
       "      <td>Compact</td>\n",
       "      <td>Convertible</td>\n",
       "      <td>28</td>\n",
       "      <td>19</td>\n",
       "      <td>3916</td>\n",
       "      <td>40650</td>\n",
       "    </tr>\n",
       "    <tr>\n",
       "      <th>2</th>\n",
       "      <td>BMW</td>\n",
       "      <td>1 Series</td>\n",
       "      <td>2011</td>\n",
       "      <td>premium unleaded (required)</td>\n",
       "      <td>300.0</td>\n",
       "      <td>6.0</td>\n",
       "      <td>MANUAL</td>\n",
       "      <td>rear wheel drive</td>\n",
       "      <td>2.0</td>\n",
       "      <td>Luxury,High-Performance</td>\n",
       "      <td>Compact</td>\n",
       "      <td>Coupe</td>\n",
       "      <td>28</td>\n",
       "      <td>20</td>\n",
       "      <td>3916</td>\n",
       "      <td>36350</td>\n",
       "    </tr>\n",
       "    <tr>\n",
       "      <th>3</th>\n",
       "      <td>BMW</td>\n",
       "      <td>1 Series</td>\n",
       "      <td>2011</td>\n",
       "      <td>premium unleaded (required)</td>\n",
       "      <td>230.0</td>\n",
       "      <td>6.0</td>\n",
       "      <td>MANUAL</td>\n",
       "      <td>rear wheel drive</td>\n",
       "      <td>2.0</td>\n",
       "      <td>Luxury,Performance</td>\n",
       "      <td>Compact</td>\n",
       "      <td>Coupe</td>\n",
       "      <td>28</td>\n",
       "      <td>18</td>\n",
       "      <td>3916</td>\n",
       "      <td>29450</td>\n",
       "    </tr>\n",
       "    <tr>\n",
       "      <th>4</th>\n",
       "      <td>BMW</td>\n",
       "      <td>1 Series</td>\n",
       "      <td>2011</td>\n",
       "      <td>premium unleaded (required)</td>\n",
       "      <td>230.0</td>\n",
       "      <td>6.0</td>\n",
       "      <td>MANUAL</td>\n",
       "      <td>rear wheel drive</td>\n",
       "      <td>2.0</td>\n",
       "      <td>Luxury</td>\n",
       "      <td>Compact</td>\n",
       "      <td>Convertible</td>\n",
       "      <td>28</td>\n",
       "      <td>18</td>\n",
       "      <td>3916</td>\n",
       "      <td>34500</td>\n",
       "    </tr>\n",
       "  </tbody>\n",
       "</table>\n",
       "</div>"
      ],
      "text/plain": [
       "  Make       Model  Year             Engine Fuel Type  Engine HP  \\\n",
       "0  BMW  1 Series M  2011  premium unleaded (required)      335.0   \n",
       "1  BMW    1 Series  2011  premium unleaded (required)      300.0   \n",
       "2  BMW    1 Series  2011  premium unleaded (required)      300.0   \n",
       "3  BMW    1 Series  2011  premium unleaded (required)      230.0   \n",
       "4  BMW    1 Series  2011  premium unleaded (required)      230.0   \n",
       "\n",
       "   Engine Cylinders Transmission Type     Driven_Wheels  Number of Doors  \\\n",
       "0               6.0            MANUAL  rear wheel drive              2.0   \n",
       "1               6.0            MANUAL  rear wheel drive              2.0   \n",
       "2               6.0            MANUAL  rear wheel drive              2.0   \n",
       "3               6.0            MANUAL  rear wheel drive              2.0   \n",
       "4               6.0            MANUAL  rear wheel drive              2.0   \n",
       "\n",
       "                         Market Category Vehicle Size Vehicle Style  \\\n",
       "0  Factory Tuner,Luxury,High-Performance      Compact         Coupe   \n",
       "1                     Luxury,Performance      Compact   Convertible   \n",
       "2                Luxury,High-Performance      Compact         Coupe   \n",
       "3                     Luxury,Performance      Compact         Coupe   \n",
       "4                                 Luxury      Compact   Convertible   \n",
       "\n",
       "   highway MPG  city mpg  Popularity   MSRP  \n",
       "0           26        19        3916  46135  \n",
       "1           28        19        3916  40650  \n",
       "2           28        20        3916  36350  \n",
       "3           28        18        3916  29450  \n",
       "4           28        18        3916  34500  "
      ]
     },
     "execution_count": 475,
     "metadata": {},
     "output_type": "execute_result"
    }
   ],
   "source": [
    "data.head()"
   ]
  },
  {
   "cell_type": "markdown",
   "id": "d39a335a",
   "metadata": {},
   "source": [
    "# EXPLORATORY DATA ANALYSIS"
   ]
  },
  {
   "cell_type": "code",
   "execution_count": 476,
   "id": "2d730fda",
   "metadata": {},
   "outputs": [
    {
     "data": {
      "text/plain": [
       "(11914, 16)"
      ]
     },
     "execution_count": 476,
     "metadata": {},
     "output_type": "execute_result"
    }
   ],
   "source": [
    "data.shape"
   ]
  },
  {
   "cell_type": "code",
   "execution_count": 477,
   "id": "fa4ce3aa",
   "metadata": {},
   "outputs": [
    {
     "data": {
      "text/plain": [
       "Make                   48\n",
       "Model                 915\n",
       "Year                   28\n",
       "Engine Fuel Type       10\n",
       "Engine HP             356\n",
       "Engine Cylinders        9\n",
       "Transmission Type       5\n",
       "Driven_Wheels           4\n",
       "Number of Doors         3\n",
       "Market Category        71\n",
       "Vehicle Size            3\n",
       "Vehicle Style          16\n",
       "highway MPG            59\n",
       "city mpg               69\n",
       "Popularity             48\n",
       "MSRP                 6049\n",
       "dtype: int64"
      ]
     },
     "execution_count": 477,
     "metadata": {},
     "output_type": "execute_result"
    }
   ],
   "source": [
    "data.nunique()"
   ]
  },
  {
   "cell_type": "code",
   "execution_count": 478,
   "id": "b261ef25",
   "metadata": {},
   "outputs": [
    {
     "data": {
      "text/plain": [
       "array(['BMW', 'Audi', 'FIAT', 'Mercedes-Benz', 'Chrysler', 'Nissan',\n",
       "       'Volvo', 'Mazda', 'Mitsubishi', 'Ferrari', 'Alfa Romeo', 'Toyota',\n",
       "       'McLaren', 'Maybach', 'Pontiac', 'Porsche', 'Saab', 'GMC',\n",
       "       'Hyundai', 'Plymouth', 'Honda', 'Oldsmobile', 'Suzuki', 'Ford',\n",
       "       'Cadillac', 'Kia', 'Bentley', 'Chevrolet', 'Dodge', 'Lamborghini',\n",
       "       'Lincoln', 'Subaru', 'Volkswagen', 'Spyker', 'Buick', 'Acura',\n",
       "       'Rolls-Royce', 'Maserati', 'Lexus', 'Aston Martin', 'Land Rover',\n",
       "       'Lotus', 'Infiniti', 'Scion', 'Genesis', 'HUMMER', 'Tesla',\n",
       "       'Bugatti'], dtype=object)"
      ]
     },
     "execution_count": 478,
     "metadata": {},
     "output_type": "execute_result"
    }
   ],
   "source": [
    "data['Make'].unique()"
   ]
  },
  {
   "cell_type": "code",
   "execution_count": 479,
   "id": "21c88e93",
   "metadata": {},
   "outputs": [
    {
     "data": {
      "text/plain": [
       "array(['1 Series M', '1 Series', '100', '124 Spider', '190-Class',\n",
       "       '2 Series', '200', '200SX', '240SX', '240', '2',\n",
       "       '3 Series Gran Turismo', '3 Series', '300-Class', '3000GT', '300',\n",
       "       '300M', '300ZX', '323', '350-Class', '350Z', '360', '370Z', '3',\n",
       "       '4 Series Gran Coupe', '4 Series', '400-Class', '420-Class',\n",
       "       '456M', '458 Italia', '4C', '4Runner', '5 Series Gran Turismo',\n",
       "       '5 Series', '500-Class', '500e', '500', '500L', '500X', '550',\n",
       "       '560-Class', '570S', '575M', '57', '599', '5',\n",
       "       '6 Series Gran Coupe', '6 Series', '600-Class', '6000',\n",
       "       '612 Scaglietti', '626', '62', '650S Coupe', '650S Spider', '6',\n",
       "       '7 Series', '718 Cayman', '740', '760', '780', '8 Series', '80',\n",
       "       '850', '86', '9-2X', '9-3 Griffin', '9-3', '9-4X', '9-5', '9-7X',\n",
       "       '9000', '900', '90', '911', '928', '929', '940', '944', '960',\n",
       "       '968', 'A3', 'A4 allroad', 'A4', 'A5', 'A6', 'A7', 'A8',\n",
       "       'Acadia Limited', 'Acadia', 'Accent', 'Acclaim',\n",
       "       'Accord Crosstour', 'Accord Hybrid', 'Accord Plug-In Hybrid',\n",
       "       'Accord', 'Achieva', 'ActiveHybrid 5', 'ActiveHybrid 7',\n",
       "       'ActiveHybrid X6', 'Aerio', 'Aerostar', 'Alero', 'Allante',\n",
       "       'allroad quattro', 'allroad', 'ALPINA B6 Gran Coupe', 'ALPINA B7',\n",
       "       'Alpina', 'Altima Hybrid', 'Altima', 'Amanti', 'AMG GT', 'Armada',\n",
       "       'Arnage', 'Aspen', 'Aspire', 'Astro Cargo', 'Astro', 'ATS Coupe',\n",
       "       'ATS-V', 'ATS', 'Aurora', 'Avalanche', 'Avalon Hybrid', 'Avalon',\n",
       "       'Avenger', 'Aventador', 'Aveo', 'Aviator', 'Axxess', 'Azera',\n",
       "       'Aztek', 'Azure T', 'Azure', 'B-Class Electric Drive',\n",
       "       'B-Series Pickup', 'B-Series Truck', 'B-Series', 'B9 Tribeca',\n",
       "       'Baja', 'Beetle Convertible', 'Beetle', 'Beretta',\n",
       "       'Black Diamond Avalanche', 'Blackwood', 'Blazer', 'Bolt EV',\n",
       "       'Bonneville', 'Borrego', 'Boxster', 'Bravada', 'Breeze',\n",
       "       'Bronco II', 'Bronco', 'Brooklands', 'Brougham', 'BRZ', 'C-Class',\n",
       "       'C-Max Hybrid', 'C30', 'C36 AMG', 'C43 AMG', 'C70', 'C8',\n",
       "       'Cabriolet', 'Cabrio', 'Cadenza', 'Caliber', 'California T',\n",
       "       'California', 'Camaro', 'Camry Hybrid', 'Camry Solara', 'Camry',\n",
       "       'Canyon', 'Caprice', 'Captiva Sport', 'Caravan', 'Carrera GT',\n",
       "       'Cascada', 'Catera', 'Cavalier', 'Cayenne', 'Cayman S', 'Cayman',\n",
       "       'CC', 'Celebrity', 'Celica', 'Century', 'Challenger', 'Charger',\n",
       "       'Chevy Van', 'Ciera', 'Cirrus', 'City Express', 'Civic CRX',\n",
       "       'Civic del Sol', 'Civic', 'C/K 1500 Series', 'C/K 2500 Series',\n",
       "       'CL-Class', 'CLA-Class', 'CL', 'Classic', 'CLK-Class', 'CLS-Class',\n",
       "       'Cobalt', 'Colorado', 'Colt', 'Concorde',\n",
       "       'Continental Flying Spur Speed', 'Continental Flying Spur',\n",
       "       'Continental GT Speed Convertible', 'Continental GT Speed',\n",
       "       'Continental GT3-R', 'Continental GT', 'Continental GTC Speed',\n",
       "       'Continental GTC', 'Continental Supersports Convertible',\n",
       "       'Continental Supersports', 'Continental', 'Contour SVT', 'Contour',\n",
       "       'Corniche', 'Corolla iM', 'Corolla', 'Corrado', 'Corsica',\n",
       "       'Corvette Stingray', 'Corvette', 'Coupe', 'CR-V', 'CR-Z',\n",
       "       'Cressida', 'Crossfire', 'Crosstour', 'Crosstrek',\n",
       "       'Crown Victoria', 'Cruze Limited', 'Cruze', 'CT 200h', 'CT6',\n",
       "       'CTS Coupe', 'CTS-V Coupe', 'CTS-V Wagon', 'CTS-V', 'CTS Wagon',\n",
       "       'CTS', 'Cube', 'Custom Cruiser', 'Cutlass Calais', 'Cutlass Ciera',\n",
       "       'Cutlass Supreme', 'Cutlass', 'CX-3', 'CX-5', 'CX-7', 'CX-9',\n",
       "       'Dakota', 'Dart', 'Dawn', 'Daytona', 'DB7', 'DB9 GT', 'DB9', 'DBS',\n",
       "       'Defender', 'DeVille', 'Diablo', 'Diamante', 'Discovery Series II',\n",
       "       'Discovery Sport', 'Discovery', 'DTS', 'Durango', 'Dynasty',\n",
       "       'E-150', 'E-250', 'E-Class', 'e-Golf', 'E-Series Van',\n",
       "       'E-Series Wagon', 'E55 AMG', 'ECHO', 'Eclipse Spyder', 'Eclipse',\n",
       "       'Edge', 'Eighty-Eight Royale', 'Eighty-Eight', 'Elantra Coupe',\n",
       "       'Elantra GT', 'Elantra Touring', 'Elantra', 'Eldorado', 'Electra',\n",
       "       'Element', 'Elise', 'Enclave', 'Encore', 'Endeavor', 'Entourage',\n",
       "       'Envision', 'Envoy XL', 'Envoy XUV', 'Envoy', 'Enzo', 'Eos',\n",
       "       'Equator', 'Equinox', 'Equus', 'ES 250', 'ES 300h', 'ES 300',\n",
       "       'ES 330', 'ES 350', 'Escalade ESV', 'Escalade EXT',\n",
       "       'Escalade Hybrid', 'Escalade', 'Escape Hybrid', 'Escape', 'Escort',\n",
       "       'Esprit', 'Estate Wagon', 'Esteem', 'EuroVan', 'Evora 400',\n",
       "       'Evora', 'EX35', 'Excel', 'Exige', 'EX', 'Expedition',\n",
       "       'Explorer Sport Trac', 'Explorer Sport', 'Explorer', 'Expo',\n",
       "       'Express Cargo', 'Express', 'F-150 Heritage',\n",
       "       'F-150 SVT Lightning', 'F-150', 'F-250', 'F12 Berlinetta', 'F430',\n",
       "       'Festiva', 'FF', 'Fiesta', 'Firebird', 'Fit EV', 'Fit',\n",
       "       'Five Hundred', 'FJ Cruiser', 'Fleetwood', 'Flex', 'Flying Spur',\n",
       "       'Focus RS', 'Focus ST', 'Focus', 'Forenza', 'Forester', 'Forte',\n",
       "       'Fox', 'FR-S', 'Freelander', 'Freestar', 'Freestyle', 'Frontier',\n",
       "       'Fusion Hybrid', 'Fusion', 'FX35', 'FX45', 'FX50', 'FX', 'G-Class',\n",
       "       'G Convertible', 'G Coupe', 'G Sedan', 'G20', 'G35',\n",
       "       'G37 Convertible', 'G37 Coupe', 'G37 Sedan', 'G37', 'G3', 'G5',\n",
       "       'G6', 'G80', 'G8', 'Galant', 'Gallardo', 'Genesis Coupe',\n",
       "       'Genesis', 'Ghibli', 'Ghost Series II', 'Ghost', 'GL-Class',\n",
       "       'GLA-Class', 'GLC-Class', 'GLE-Class Coupe', 'GLE-Class', 'GLI',\n",
       "       'GLK-Class', 'GLS-Class', 'Golf Alltrack', 'Golf GTI', 'Golf R',\n",
       "       'Golf SportWagen', 'Golf', 'Grand Am', 'Grand Caravan',\n",
       "       'Grand Prix', 'Grand Vitara', 'Grand Voyager', 'GranSport',\n",
       "       'GranTurismo Convertible', 'GranTurismo', 'GS 200t', 'GS 300',\n",
       "       'GS 350', 'GS 400', 'GS 430', 'GS 450h', 'GS 460', 'GS F', 'GT-R',\n",
       "       'GT', 'GTI', 'GTO', 'GX 460', 'GX 470', 'H3', 'H3T', 'HHR',\n",
       "       'Highlander Hybrid', 'Highlander', 'Horizon', 'HR-V', 'HS 250h',\n",
       "       'Huracan', 'i-MiEV', 'I30', 'I35', 'i3', 'iA', 'ILX Hybrid', 'ILX',\n",
       "       'Impala Limited', 'Impala', 'Imperial', 'Impreza WRX', 'Impreza',\n",
       "       'iM', 'Insight', 'Integra', 'Intrepid', 'Intrigue', 'iQ',\n",
       "       'IS 200t', 'IS 250 C', 'IS 250', 'IS 300', 'IS 350 C', 'IS 350',\n",
       "       'IS F', 'J30', 'Jetta GLI', 'Jetta Hybrid', 'Jetta SportWagen',\n",
       "       'Jetta', 'Jimmy', 'Journey', 'Juke', 'Justy', 'JX', 'K900',\n",
       "       'Kizashi', 'LaCrosse', 'Lancer Evolution', 'Lancer Sportback',\n",
       "       'Lancer', 'Land Cruiser', 'Landaulet', 'Laser', 'Le Baron',\n",
       "       'Le Mans', 'Leaf', 'Legacy', 'Legend', 'LeSabre', 'Levante', 'LFA',\n",
       "       'LHS', 'Loyale', 'LR2', 'LR3', 'LR4', 'LS 400', 'LS 430', 'LS 460',\n",
       "       'LS 600h L', 'LS', 'LSS', 'LTD Crown Victoria', 'Lucerne',\n",
       "       'Lumina Minivan', 'Lumina', 'LX 450', 'LX 470', 'LX 570',\n",
       "       'M-Class', 'M2', 'M30', 'M35', 'M37', 'M3', 'M4 GTS', 'M45', 'M4',\n",
       "       'M56', 'M5', 'M6 Gran Coupe', 'M6', 'Macan', 'Magnum',\n",
       "       'Malibu Classic', 'Malibu Hybrid', 'Malibu Limited', 'Malibu Maxx',\n",
       "       'Malibu', 'Mark LT', 'Mark VIII', 'Mark VII', 'Matrix', 'Maxima',\n",
       "       'Maybach', 'Mazdaspeed 3', 'Mazdaspeed 6', 'Mazdaspeed MX-5 Miata',\n",
       "       'Mazdaspeed Protege', 'M', 'MDX', 'Metris', 'Metro',\n",
       "       'Mighty Max Pickup', 'Millenia', 'Mirage G4', 'Mirage', 'MKC',\n",
       "       'MKS', 'MKT', 'MKX', 'MKZ Hybrid', 'MKZ', 'ML55 AMG', 'Model S',\n",
       "       'Monaco', 'Montana SV6', 'Montana', 'Monte Carlo', 'Montero Sport',\n",
       "       'Montero', 'MP4-12C', 'MPV', 'MR2 Spyder', 'MR2', 'Mulsanne',\n",
       "       'Murano CrossCabriolet', 'Murano', 'Murcielago',\n",
       "       'Mustang SVT Cobra', 'Mustang', 'MX-3', 'MX-5 Miata', 'MX-6',\n",
       "       'Navajo', 'Navigator', 'Neon', 'New Beetle', 'New Yorker',\n",
       "       'Ninety-Eight', 'Nitro', 'NSX', 'NV200', 'NX 200t', 'NX 300h',\n",
       "       'NX', 'Odyssey', 'Omni', 'Optima Hybrid', 'Optima', 'Outback',\n",
       "       'Outlander Sport', 'Outlander', 'Pacifica', 'Panamera',\n",
       "       'Park Avenue', 'Park Ward', 'Paseo', 'Passat', 'Passport',\n",
       "       'Pathfinder', 'Phaeton', 'Phantom Coupe', 'Phantom Drophead Coupe',\n",
       "       'Phantom', 'Pickup', 'Pilot', 'Precis', 'Prelude', 'Previa',\n",
       "       'Prius c', 'Prius Prime', 'Prius v', 'Prius', 'Prizm', 'Probe',\n",
       "       'Protege5', 'Protege', 'Prowler', 'PT Cruiser', 'Pulsar', 'Q3',\n",
       "       'Q40', 'Q45', 'Q50', 'Q5', 'Q60 Convertible', 'Q60 Coupe', 'Q70',\n",
       "       'Q7', 'Quattroporte', 'Quest', 'QX4', 'QX50', 'QX56', 'QX60',\n",
       "       'QX70', 'QX80', 'QX', 'R-Class', 'R32', 'R8', 'Rabbit', 'Raider',\n",
       "       'Rainier', 'Rally Wagon', 'RAM 150', 'RAM 250', 'Ram 50 Pickup',\n",
       "       'Ram Cargo', 'Ram Pickup 1500', 'Ram Van', 'Ram Wagon',\n",
       "       'Ramcharger', 'Range Rover Evoque', 'Range Rover Sport',\n",
       "       'Range Rover', 'Ranger', 'Rapide S', 'Rapide', 'RAV4 EV',\n",
       "       'RAV4 Hybrid', 'RAV4', 'RC 200t', 'RC 300', 'RC 350', 'RC F',\n",
       "       'RDX', 'Reatta', 'Regal', 'Regency', 'Rendezvous', 'Reno',\n",
       "       'Reventon', 'Ridgeline', 'Rio', 'Riviera', 'RL', 'RLX',\n",
       "       'Roadmaster', 'Rogue Select', 'Rogue', 'Rondo', 'Routan', 'RS 4',\n",
       "       'RS 5', 'RS 6', 'RS 7', 'RSX', 'RX 300', 'RX 330', 'RX 350',\n",
       "       'RX 400h', 'RX 450h', 'RX-7', 'RX-8', 'S-10 Blazer', 'S-10',\n",
       "       'S-15 Jimmy', 'S-15', 'S-Class', 'S2000', 'S3', 'S40', 'S4', 'S5',\n",
       "       'S60 Cross Country', 'S60', 'S6', 'S70', 'S7', 'S80', 'S8', 'S90',\n",
       "       'Safari Cargo', 'Safari', 'Samurai', 'Santa Fe Sport', 'Santa Fe',\n",
       "       'Savana Cargo', 'Savana', 'SC 300', 'SC 400', 'SC 430', 'Scoupe',\n",
       "       'Sebring', 'Sedona', 'Sentra', 'Sephia', 'Sequoia', 'Seville',\n",
       "       'Shadow', 'Shelby GT350', 'Shelby GT500', 'Sidekick', 'Sienna',\n",
       "       'Sierra 1500 Classic', 'Sierra 1500 Hybrid', 'Sierra 1500',\n",
       "       'Sierra 1500HD', 'Sierra C3', 'Sierra Classic 1500', 'Sigma',\n",
       "       'Silhouette', 'Silver Seraph', 'Silverado 1500 Classic',\n",
       "       'Silverado 1500 Hybrid', 'Silverado 1500', 'Sixty Special',\n",
       "       'Skylark', 'SL-Class', 'SLC-Class', 'SLK-Class', 'SLR McLaren',\n",
       "       'SLS AMG GT Final Edition', 'SLS AMG GT', 'SLS AMG', 'SLX',\n",
       "       'Solstice', 'Sonata Hybrid', 'Sonata', 'Sonic', 'Sonoma',\n",
       "       'Sorento', 'Soul EV', 'Soul', 'Spark EV', 'Spark', 'Spectra',\n",
       "       'Spirit', 'Sportage', 'Sportvan', 'Spyder', 'SQ5', 'SRT Viper',\n",
       "       'SRX', 'SS', 'SSR', 'Stanza', 'Stealth', 'Stratus', 'STS-V', 'STS',\n",
       "       'Suburban', 'Sunbird', 'Sundance', 'Sunfire', 'Superamerica',\n",
       "       'Supersports Convertible ISR', 'Supra', 'SVX', 'Swift', 'SX4',\n",
       "       'Syclone', 'T100', 'Tacoma', 'Tahoe Hybrid', 'Tahoe Limited/Z71',\n",
       "       'Tahoe', 'Taurus X', 'Taurus', 'TC', 'tC', 'Tempo', 'Tercel',\n",
       "       'Terrain', 'Terraza', 'Thunderbird', 'Tiburon', 'Tiguan', 'Titan',\n",
       "       'TL', 'TLX', 'Toronado', 'Torrent', 'Touareg 2', 'Touareg',\n",
       "       'Town and Country', 'Town Car', 'Tracker', 'TrailBlazer EXT',\n",
       "       'TrailBlazer', 'Trans Sport', 'Transit Connect', 'Transit Wagon',\n",
       "       'Traverse', 'Trax', 'Tribeca', 'Tribute Hybrid', 'Tribute',\n",
       "       'Truck', 'TSX Sport Wagon', 'TSX', 'TT RS', 'TT', 'TTS', 'Tucson',\n",
       "       'Tundra', 'Typhoon', 'Uplander', 'V12 Vanquish', 'V12 Vantage S',\n",
       "       'V12 Vantage', 'V40', 'V50', 'V60 Cross Country', 'V60', 'V70',\n",
       "       'V8 Vantage', 'V8', 'V90', 'Vanagon', 'Vandura', 'Van', 'Vanquish',\n",
       "       'Vanwagon', 'Veloster', 'Venture', 'Venza', 'Veracruz', 'Verano',\n",
       "       'Verona', 'Versa Note', 'Versa', 'Veyron 16.4', 'Vibe', 'Vigor',\n",
       "       'Viper', 'Virage', 'Vitara', 'Voyager', 'Windstar Cargo',\n",
       "       'Windstar', 'Wraith', 'WRX', 'X-90', 'X1', 'X3', 'X4', 'X5 M',\n",
       "       'X5', 'X6 M', 'X6', 'xA', 'xB', 'XC60', 'XC70', 'XC90', 'XC', 'xD',\n",
       "       'XG300', 'XG350', 'XL-7', 'XL7', 'XLR-V', 'XLR', 'XT5', 'Xterra',\n",
       "       'XTS', 'XT', 'XV Crosstrek', 'Yaris iA', 'Yaris', 'Yukon Denali',\n",
       "       'Yukon Hybrid', 'Yukon XL', 'Yukon', 'Z3', 'Z4 M', 'Z4', 'Z8',\n",
       "       'ZDX', 'Zephyr'], dtype=object)"
      ]
     },
     "execution_count": 479,
     "metadata": {},
     "output_type": "execute_result"
    }
   ],
   "source": [
    "data['Model'].unique()"
   ]
  },
  {
   "cell_type": "code",
   "execution_count": 480,
   "id": "1ce46b55",
   "metadata": {},
   "outputs": [
    {
     "data": {
      "text/plain": [
       "array([2011, 2012, 2013, 1992, 1993, 1994, 2017, 1991, 2016, 1990, 2015,\n",
       "       1996, 1997, 1998, 2014, 1999, 2002, 2003, 2004, 1995, 2007, 2008,\n",
       "       2009, 2001, 2010, 2000, 2005, 2006], dtype=int64)"
      ]
     },
     "execution_count": 480,
     "metadata": {},
     "output_type": "execute_result"
    }
   ],
   "source": [
    "data['Year'].unique()"
   ]
  },
  {
   "cell_type": "code",
   "execution_count": 481,
   "id": "47af7854",
   "metadata": {},
   "outputs": [
    {
     "data": {
      "text/plain": [
       "array(['premium unleaded (required)', 'regular unleaded',\n",
       "       'premium unleaded (recommended)', 'flex-fuel (unleaded/E85)',\n",
       "       'diesel', 'electric',\n",
       "       'flex-fuel (premium unleaded recommended/E85)', 'natural gas',\n",
       "       'flex-fuel (premium unleaded required/E85)',\n",
       "       'flex-fuel (unleaded/natural gas)', nan], dtype=object)"
      ]
     },
     "execution_count": 481,
     "metadata": {},
     "output_type": "execute_result"
    }
   ],
   "source": [
    "data['Engine Fuel Type'].unique()"
   ]
  },
  {
   "cell_type": "code",
   "execution_count": 482,
   "id": "560506f5",
   "metadata": {},
   "outputs": [
    {
     "data": {
      "text/plain": [
       "array([ 335.,  300.,  230.,  320.,  172.,  160.,  130.,  158.,  240.,\n",
       "        248.,  162.,  217.,  184.,  295.,  115.,  140.,  155.,  114.,\n",
       "        100.,  241.,  180.,  177.,  228.,  121.,  148.,  194.,  218.,\n",
       "        161.,  292.,  250.,  255.,  222.,   82.,  134.,  306.,  400.,\n",
       "        425.,  350.,  332.,  268.,  282.,  275.,  201.,  442.,  562.,\n",
       "        597.,  237.,  270.,  445.,  443.,  302.,  322.,  315.,   nan,\n",
       "        101.,  135.,  485.,  238.,  515.,  543.,  631.,  604.,  620.,\n",
       "        611.,  661.,  157.,  402.,  389.,  110.,  532.,  170.,  165.,\n",
       "        125.,  641.,  535.,  153.,  144.,  188.,  372.,  108.,  168.,\n",
       "        190.,  205.,  200.,  227.,  173.,  220.,  210.,  280.,  207.,\n",
       "        265.,  260.,  290.,  285.,  390.,  225.,  185.,  150.,  430.,\n",
       "        520.,  560.,  475.,  500.,  540.,  370.,  580.,  420.,  345.,\n",
       "        195.,  193.,  208.,  181.,  236.,  186.,  252.,  310.,  333.,\n",
       "        340.,  450.,  281.,  288.,  138.,  137.,  106.,  271.,  196.,\n",
       "        212.,  278.,  189.,  480.,  152.,  600.,  375.,  198.,  182.,\n",
       "        179.,  264.,  503.,  456.,  317.,  235.,  385.,  303.,   63.,\n",
       "        321.,  272.,  464.,  202.,  215.,  283.,  700.,  720.,  750.,\n",
       "        107.,  293.,  119.,  143.,  245.,  120.,  337.,  276.,  330.,\n",
       "        132.,  199.,  530.,  451.,  329.,  469.,  362.,   94.,  553.,\n",
       "        453.,  483.,  323.,  426.,  505.,  455.,  650.,  178.,  242.,\n",
       "        305.,  605.,  440.,  570.,  325.,  175.,  707.,  131.,   62.,\n",
       "         92.,  102.,  127.,  174.,  621.,  510.,  429.,  536.,  355.,\n",
       "        382.,  577.,  113.,  136.,  234.,  552.,  626.,  616.,  572.,\n",
       "        521.,  567.,  582.,  460.,  164.,  192.,  224.,  239.,  404.,\n",
       "        318.,  556.,  640.,  122.,  146.,  244.,  273.,  563.,  141.,\n",
       "        435.,  550.,  360.,  145.,  349.,  166.,  147.,  128.,  197.,\n",
       "        291.,  660.,  261.,  156.,  403.,   95.,  297.,   81.,  257.,\n",
       "        365.,  203.,  231.,  731.,  651.,  287.,  123.,  126.,  416.,\n",
       "        343.,  348.,  328.,  298.,  171.,  219.,  221.,  311.,  361.,\n",
       "        256.,  415.,  274.,  449.,  395.,  401.,  454.,  444.,  338.,\n",
       "        342.,  467.,  545.,  565.,  301.,  263.,   93.,  187.,  610.,\n",
       "         66.,  111.,   98.,  204.,  211.,   73.,  304.,  381.,  142.,\n",
       "         74.,  424.,  253.,   90.,  386.,  359.,  438.,  232.,  383.,\n",
       "        518.,  493.,  259.,  523.,   55.,   79.,  116.,  151.,   78.,\n",
       "        191.,  592.,  632.,  670.,   88.,  167.,  118.,  380.,  214.,\n",
       "        573.,  284.,   99.,  103.,  525.,  254.,  470.,  154.,  176.,\n",
       "        279.,  377.,  251.,  223.,  308.,  105.,  316.,  124.,  526.,\n",
       "        662.,  266.,  296.,  557.,  617.,  583.,  622.,   84.,  163.,\n",
       "        354.,  159.,   96.,  206.,  169.,  133.,  568.,  109., 1001.,\n",
       "        645.,  490.,  624.,  410.,   97.,  394.])"
      ]
     },
     "execution_count": 482,
     "metadata": {},
     "output_type": "execute_result"
    }
   ],
   "source": [
    "data['Engine HP'].unique()"
   ]
  },
  {
   "cell_type": "code",
   "execution_count": 483,
   "id": "aa694c32",
   "metadata": {},
   "outputs": [
    {
     "data": {
      "text/plain": [
       "array([ 6.,  4.,  5.,  8., 12.,  0., nan, 10.,  3., 16.])"
      ]
     },
     "execution_count": 483,
     "metadata": {},
     "output_type": "execute_result"
    }
   ],
   "source": [
    "data['Engine Cylinders'].unique()"
   ]
  },
  {
   "cell_type": "code",
   "execution_count": 484,
   "id": "50f2ff13",
   "metadata": {},
   "outputs": [
    {
     "data": {
      "text/plain": [
       "array(['MANUAL', 'AUTOMATIC', 'AUTOMATED_MANUAL', 'DIRECT_DRIVE',\n",
       "       'UNKNOWN'], dtype=object)"
      ]
     },
     "execution_count": 484,
     "metadata": {},
     "output_type": "execute_result"
    }
   ],
   "source": [
    "data['Transmission Type'].unique()"
   ]
  },
  {
   "cell_type": "code",
   "execution_count": 485,
   "id": "1e9ab1d2",
   "metadata": {},
   "outputs": [
    {
     "data": {
      "text/plain": [
       "array(['rear wheel drive', 'front wheel drive', 'all wheel drive',\n",
       "       'four wheel drive'], dtype=object)"
      ]
     },
     "execution_count": 485,
     "metadata": {},
     "output_type": "execute_result"
    }
   ],
   "source": [
    "data['Driven_Wheels'].unique()"
   ]
  },
  {
   "cell_type": "code",
   "execution_count": 486,
   "id": "e3be063d",
   "metadata": {},
   "outputs": [
    {
     "data": {
      "text/plain": [
       "array([ 2.,  4.,  3., nan])"
      ]
     },
     "execution_count": 486,
     "metadata": {},
     "output_type": "execute_result"
    }
   ],
   "source": [
    "data['Number of Doors'].unique()"
   ]
  },
  {
   "cell_type": "code",
   "execution_count": 487,
   "id": "63b3dda6",
   "metadata": {},
   "outputs": [
    {
     "data": {
      "text/plain": [
       "array(['Compact', 'Midsize', 'Large'], dtype=object)"
      ]
     },
     "execution_count": 487,
     "metadata": {},
     "output_type": "execute_result"
    }
   ],
   "source": [
    "data['Vehicle Size'].unique()"
   ]
  },
  {
   "cell_type": "code",
   "execution_count": 488,
   "id": "4527cef0",
   "metadata": {},
   "outputs": [
    {
     "data": {
      "text/plain": [
       "array(['BMW', 'Audi', 'FIAT', 'Mercedes-Benz', 'Chrysler', 'Nissan',\n",
       "       'Volvo', 'Mazda', 'Mitsubishi', 'Ferrari', 'Alfa Romeo', 'Toyota',\n",
       "       'McLaren', 'Maybach', 'Pontiac', 'Porsche', 'Saab', 'GMC',\n",
       "       'Hyundai', 'Plymouth', 'Honda', 'Oldsmobile', 'Suzuki', 'Ford',\n",
       "       'Cadillac', 'Kia', 'Bentley', 'Chevrolet', 'Dodge', 'Lamborghini',\n",
       "       'Lincoln', 'Subaru', 'Volkswagen', 'Spyker', 'Buick', 'Acura',\n",
       "       'Rolls-Royce', 'Maserati', 'Lexus', 'Aston Martin', 'Land Rover',\n",
       "       'Lotus', 'Infiniti', 'Scion', 'Genesis', 'HUMMER', 'Tesla',\n",
       "       'Bugatti'], dtype=object)"
      ]
     },
     "execution_count": 488,
     "metadata": {},
     "output_type": "execute_result"
    }
   ],
   "source": [
    "data['Make'].unique()"
   ]
  },
  {
   "cell_type": "code",
   "execution_count": 489,
   "id": "5694899d",
   "metadata": {},
   "outputs": [
    {
     "data": {
      "text/plain": [
       "array(['Coupe', 'Convertible', 'Sedan', 'Wagon', '4dr Hatchback',\n",
       "       '2dr Hatchback', '4dr SUV', 'Passenger Minivan', 'Cargo Minivan',\n",
       "       'Crew Cab Pickup', 'Regular Cab Pickup', 'Extended Cab Pickup',\n",
       "       '2dr SUV', 'Cargo Van', 'Convertible SUV', 'Passenger Van'],\n",
       "      dtype=object)"
      ]
     },
     "execution_count": 489,
     "metadata": {},
     "output_type": "execute_result"
    }
   ],
   "source": [
    "data['Vehicle Style'].unique()"
   ]
  },
  {
   "cell_type": "code",
   "execution_count": 490,
   "id": "29ccea94",
   "metadata": {},
   "outputs": [
    {
     "data": {
      "text/plain": [
       "array([ 26,  28,  27,  25,  24,  20,  21,  22,  35,  34,  31,  30,  32,\n",
       "        33,  23,  36,  29,  45,  43,  40,  42,  19,  18,  17,  15,  37,\n",
       "        39,  41,  16,  14,  38, 108, 103,  12, 354,  47,  46,  82, 110,\n",
       "        44,  13, 105,  99, 102, 111, 106,  48, 101,  90,  97,  94,  98,\n",
       "       100, 107,  53,  50,  74,  92, 109], dtype=int64)"
      ]
     },
     "execution_count": 490,
     "metadata": {},
     "output_type": "execute_result"
    }
   ],
   "source": [
    "data['highway MPG'].unique()"
   ]
  },
  {
   "cell_type": "code",
   "execution_count": 491,
   "id": "d09094c4",
   "metadata": {},
   "outputs": [
    {
     "data": {
      "text/plain": [
       "array([ 19,  20,  18,  17,  16,  26,  23,  22,  21,  24,  15,  25,  29,\n",
       "        28,  32,  31,  30,  14,  10,  27,  12,  13,   9,  11, 122, 121,\n",
       "         8,  50,  49,  47,  35,  33,  40,  85, 128,  42,  43,  36,  44,\n",
       "       126,   7,  34, 132, 110, 137, 129,  39,  41, 124,  37,  88,  94,\n",
       "        86, 101,  95,  89, 102,  98,  92,  97,  91,  53,  55,  51,  54,\n",
       "        58,  78,  38, 120], dtype=int64)"
      ]
     },
     "execution_count": 491,
     "metadata": {},
     "output_type": "execute_result"
    }
   ],
   "source": [
    "data['city mpg'].unique()"
   ]
  },
  {
   "cell_type": "code",
   "execution_count": 492,
   "id": "8c3a71c0",
   "metadata": {},
   "outputs": [
    {
     "data": {
      "text/plain": [
       "array([3916, 3105,  819,  617, 1013, 2009,  870,  586,  436, 2774,  113,\n",
       "       2031,  416,   67,  210, 1715,  376,  549, 1439,  535, 2202,   26,\n",
       "        481, 5657, 1624, 1720,  520, 1385, 1851, 1158,   61,  640,  873,\n",
       "          2,  155,  204,   86,  238,  454,  259,  258,  613,  190,  105,\n",
       "         21,  130, 1391,  820], dtype=int64)"
      ]
     },
     "execution_count": 492,
     "metadata": {},
     "output_type": "execute_result"
    }
   ],
   "source": [
    "data['Popularity'].unique()"
   ]
  },
  {
   "cell_type": "code",
   "execution_count": 493,
   "id": "84b2747f",
   "metadata": {},
   "outputs": [
    {
     "name": "stdout",
     "output_type": "stream",
     "text": [
      "<class 'pandas.core.frame.DataFrame'>\n",
      "RangeIndex: 11914 entries, 0 to 11913\n",
      "Data columns (total 16 columns):\n",
      " #   Column             Non-Null Count  Dtype  \n",
      "---  ------             --------------  -----  \n",
      " 0   Make               11914 non-null  object \n",
      " 1   Model              11914 non-null  object \n",
      " 2   Year               11914 non-null  int64  \n",
      " 3   Engine Fuel Type   11911 non-null  object \n",
      " 4   Engine HP          11845 non-null  float64\n",
      " 5   Engine Cylinders   11884 non-null  float64\n",
      " 6   Transmission Type  11914 non-null  object \n",
      " 7   Driven_Wheels      11914 non-null  object \n",
      " 8   Number of Doors    11908 non-null  float64\n",
      " 9   Market Category    8172 non-null   object \n",
      " 10  Vehicle Size       11914 non-null  object \n",
      " 11  Vehicle Style      11914 non-null  object \n",
      " 12  highway MPG        11914 non-null  int64  \n",
      " 13  city mpg           11914 non-null  int64  \n",
      " 14  Popularity         11914 non-null  int64  \n",
      " 15  MSRP               11914 non-null  int64  \n",
      "dtypes: float64(3), int64(5), object(8)\n",
      "memory usage: 1.5+ MB\n"
     ]
    }
   ],
   "source": [
    "data.info()"
   ]
  },
  {
   "cell_type": "code",
   "execution_count": 494,
   "id": "30ffe86d",
   "metadata": {},
   "outputs": [
    {
     "data": {
      "text/html": [
       "<div>\n",
       "<style scoped>\n",
       "    .dataframe tbody tr th:only-of-type {\n",
       "        vertical-align: middle;\n",
       "    }\n",
       "\n",
       "    .dataframe tbody tr th {\n",
       "        vertical-align: top;\n",
       "    }\n",
       "\n",
       "    .dataframe thead th {\n",
       "        text-align: right;\n",
       "    }\n",
       "</style>\n",
       "<table border=\"1\" class=\"dataframe\">\n",
       "  <thead>\n",
       "    <tr style=\"text-align: right;\">\n",
       "      <th></th>\n",
       "      <th>Year</th>\n",
       "      <th>Engine HP</th>\n",
       "      <th>Engine Cylinders</th>\n",
       "      <th>Number of Doors</th>\n",
       "      <th>highway MPG</th>\n",
       "      <th>city mpg</th>\n",
       "      <th>Popularity</th>\n",
       "      <th>MSRP</th>\n",
       "    </tr>\n",
       "  </thead>\n",
       "  <tbody>\n",
       "    <tr>\n",
       "      <th>count</th>\n",
       "      <td>11914.000000</td>\n",
       "      <td>11845.00000</td>\n",
       "      <td>11884.000000</td>\n",
       "      <td>11908.000000</td>\n",
       "      <td>11914.000000</td>\n",
       "      <td>11914.000000</td>\n",
       "      <td>11914.000000</td>\n",
       "      <td>1.191400e+04</td>\n",
       "    </tr>\n",
       "    <tr>\n",
       "      <th>mean</th>\n",
       "      <td>2010.384338</td>\n",
       "      <td>249.38607</td>\n",
       "      <td>5.628829</td>\n",
       "      <td>3.436093</td>\n",
       "      <td>26.637485</td>\n",
       "      <td>19.733255</td>\n",
       "      <td>1554.911197</td>\n",
       "      <td>4.059474e+04</td>\n",
       "    </tr>\n",
       "    <tr>\n",
       "      <th>std</th>\n",
       "      <td>7.579740</td>\n",
       "      <td>109.19187</td>\n",
       "      <td>1.780559</td>\n",
       "      <td>0.881315</td>\n",
       "      <td>8.863001</td>\n",
       "      <td>8.987798</td>\n",
       "      <td>1441.855347</td>\n",
       "      <td>6.010910e+04</td>\n",
       "    </tr>\n",
       "    <tr>\n",
       "      <th>min</th>\n",
       "      <td>1990.000000</td>\n",
       "      <td>55.00000</td>\n",
       "      <td>0.000000</td>\n",
       "      <td>2.000000</td>\n",
       "      <td>12.000000</td>\n",
       "      <td>7.000000</td>\n",
       "      <td>2.000000</td>\n",
       "      <td>2.000000e+03</td>\n",
       "    </tr>\n",
       "    <tr>\n",
       "      <th>25%</th>\n",
       "      <td>2007.000000</td>\n",
       "      <td>170.00000</td>\n",
       "      <td>4.000000</td>\n",
       "      <td>2.000000</td>\n",
       "      <td>22.000000</td>\n",
       "      <td>16.000000</td>\n",
       "      <td>549.000000</td>\n",
       "      <td>2.100000e+04</td>\n",
       "    </tr>\n",
       "    <tr>\n",
       "      <th>50%</th>\n",
       "      <td>2015.000000</td>\n",
       "      <td>227.00000</td>\n",
       "      <td>6.000000</td>\n",
       "      <td>4.000000</td>\n",
       "      <td>26.000000</td>\n",
       "      <td>18.000000</td>\n",
       "      <td>1385.000000</td>\n",
       "      <td>2.999500e+04</td>\n",
       "    </tr>\n",
       "    <tr>\n",
       "      <th>75%</th>\n",
       "      <td>2016.000000</td>\n",
       "      <td>300.00000</td>\n",
       "      <td>6.000000</td>\n",
       "      <td>4.000000</td>\n",
       "      <td>30.000000</td>\n",
       "      <td>22.000000</td>\n",
       "      <td>2009.000000</td>\n",
       "      <td>4.223125e+04</td>\n",
       "    </tr>\n",
       "    <tr>\n",
       "      <th>max</th>\n",
       "      <td>2017.000000</td>\n",
       "      <td>1001.00000</td>\n",
       "      <td>16.000000</td>\n",
       "      <td>4.000000</td>\n",
       "      <td>354.000000</td>\n",
       "      <td>137.000000</td>\n",
       "      <td>5657.000000</td>\n",
       "      <td>2.065902e+06</td>\n",
       "    </tr>\n",
       "  </tbody>\n",
       "</table>\n",
       "</div>"
      ],
      "text/plain": [
       "               Year    Engine HP  Engine Cylinders  Number of Doors  \\\n",
       "count  11914.000000  11845.00000      11884.000000     11908.000000   \n",
       "mean    2010.384338    249.38607          5.628829         3.436093   \n",
       "std        7.579740    109.19187          1.780559         0.881315   \n",
       "min     1990.000000     55.00000          0.000000         2.000000   \n",
       "25%     2007.000000    170.00000          4.000000         2.000000   \n",
       "50%     2015.000000    227.00000          6.000000         4.000000   \n",
       "75%     2016.000000    300.00000          6.000000         4.000000   \n",
       "max     2017.000000   1001.00000         16.000000         4.000000   \n",
       "\n",
       "        highway MPG      city mpg    Popularity          MSRP  \n",
       "count  11914.000000  11914.000000  11914.000000  1.191400e+04  \n",
       "mean      26.637485     19.733255   1554.911197  4.059474e+04  \n",
       "std        8.863001      8.987798   1441.855347  6.010910e+04  \n",
       "min       12.000000      7.000000      2.000000  2.000000e+03  \n",
       "25%       22.000000     16.000000    549.000000  2.100000e+04  \n",
       "50%       26.000000     18.000000   1385.000000  2.999500e+04  \n",
       "75%       30.000000     22.000000   2009.000000  4.223125e+04  \n",
       "max      354.000000    137.000000   5657.000000  2.065902e+06  "
      ]
     },
     "execution_count": 494,
     "metadata": {},
     "output_type": "execute_result"
    }
   ],
   "source": [
    "data.describe()"
   ]
  },
  {
   "cell_type": "code",
   "execution_count": 495,
   "id": "94e66cc0",
   "metadata": {},
   "outputs": [
    {
     "data": {
      "text/plain": [
       "Make                  object\n",
       "Model                 object\n",
       "Year                   int64\n",
       "Engine Fuel Type      object\n",
       "Engine HP            float64\n",
       "Engine Cylinders     float64\n",
       "Transmission Type     object\n",
       "Driven_Wheels         object\n",
       "Number of Doors      float64\n",
       "Market Category       object\n",
       "Vehicle Size          object\n",
       "Vehicle Style         object\n",
       "highway MPG            int64\n",
       "city mpg               int64\n",
       "Popularity             int64\n",
       "MSRP                   int64\n",
       "dtype: object"
      ]
     },
     "execution_count": 495,
     "metadata": {},
     "output_type": "execute_result"
    }
   ],
   "source": [
    "data.dtypes"
   ]
  },
  {
   "cell_type": "code",
   "execution_count": 496,
   "id": "8eb97cb2",
   "metadata": {},
   "outputs": [
    {
     "data": {
      "text/plain": [
       "Make                    0\n",
       "Model                   0\n",
       "Year                    0\n",
       "Engine Fuel Type        3\n",
       "Engine HP              69\n",
       "Engine Cylinders       30\n",
       "Transmission Type       0\n",
       "Driven_Wheels           0\n",
       "Number of Doors         6\n",
       "Market Category      3742\n",
       "Vehicle Size            0\n",
       "Vehicle Style           0\n",
       "highway MPG             0\n",
       "city mpg                0\n",
       "Popularity              0\n",
       "MSRP                    0\n",
       "dtype: int64"
      ]
     },
     "execution_count": 496,
     "metadata": {},
     "output_type": "execute_result"
    }
   ],
   "source": [
    "data.isna().sum()"
   ]
  },
  {
   "cell_type": "code",
   "execution_count": 497,
   "id": "1e68e23c",
   "metadata": {},
   "outputs": [
    {
     "data": {
      "text/plain": [
       "<AxesSubplot:>"
      ]
     },
     "execution_count": 497,
     "metadata": {},
     "output_type": "execute_result"
    },
    {
     "data": {
      "image/png": "[encoded data removed]",
      "text/plain": [
       "<Figure size 1500x1000 with 2 Axes>"
      ]
     },
     "metadata": {},
     "output_type": "display_data"
    }
   ],
   "source": [
    "#Visualising with Heatmap\n",
    "corrmatrix = data.corr()\n",
    "plt.subplots(figsize=(15,10))\n",
    "sns.heatmap(corrmatrix,annot=True,cmap='YlGnBu')"
   ]
  },
  {
   "cell_type": "code",
   "execution_count": 498,
   "id": "f5c0fbea",
   "metadata": {},
   "outputs": [
    {
     "data": {
      "image/png": "[encoded data removed]",
      "text/plain": [
       "<Figure size 2000x1500 with 9 Axes>"
      ]
     },
     "metadata": {},
     "output_type": "display_data"
    }
   ],
   "source": [
    "freqgraph = data.select_dtypes(include=['int','float'])\n",
    "freqgraph.hist(figsize=(20,15))\n",
    "plt.show()"
   ]
  },
  {
   "cell_type": "code",
   "execution_count": null,
   "id": "19f354b1",
   "metadata": {},
   "outputs": [],
   "source": []
  },
  {
   "cell_type": "code",
   "execution_count": null,
   "id": "175117ef",
   "metadata": {},
   "outputs": [],
   "source": []
  },
  {
   "cell_type": "code",
   "execution_count": null,
   "id": "d98ee732",
   "metadata": {},
   "outputs": [],
   "source": []
  },
  {
   "cell_type": "code",
   "execution_count": 499,
   "id": "2733d371",
   "metadata": {},
   "outputs": [
    {
     "data": {
      "text/plain": [
       "AUTOMATIC           8266\n",
       "MANUAL              2935\n",
       "AUTOMATED_MANUAL     626\n",
       "DIRECT_DRIVE          68\n",
       "UNKNOWN               19\n",
       "Name: Transmission Type, dtype: int64"
      ]
     },
     "execution_count": 499,
     "metadata": {},
     "output_type": "execute_result"
    }
   ],
   "source": [
    "data_pie = data['Transmission Type'].value_counts()\n",
    "data_pie"
   ]
  },
  {
   "cell_type": "code",
   "execution_count": 500,
   "id": "db9d27e8",
   "metadata": {},
   "outputs": [
    {
     "data": {
      "application/vnd.plotly.v1+json": {
       "config": {
        "plotlyServerURL": "https://plot.ly"
       },
       "data": [
        {
         "hole": 0.3,
         "hoverinfo": "label+percent+name",
         "insidetextorientation": "radial",
         "labels": [
          "AUTOMATIC",
          "MANUAL",
          "AUTOMATED_MANUAL",
          "DIRECT_DRIVE",
          "UNKNOWN"
         ],
         "textinfo": "label+percent",
         "type": "pie",
         "values": [
          8266,
          2935,
          626,
          68,
          19
         ]
        }
       ],
       "layout": {
        "template": {
         "data": {
          "bar": [
           {
            "error_x": {
             "color": "#2a3f5f"
            },
            "error_y": {
             "color": "#2a3f5f"
            },
            "marker": {
             "line": {
              "color": "#E5ECF6",
              "width": 0.5
             },
             "pattern": {
              "fillmode": "overlay",
              "size": 10,
              "solidity": 0.2
             }
            },
            "type": "bar"
           }
          ],
          "barpolar": [
           {
            "marker": {
             "line": {
              "color": "#E5ECF6",
              "width": 0.5
             },
             "pattern": {
              "fillmode": "overlay",
              "size": 10,
              "solidity": 0.2
             }
            },
            "type": "barpolar"
           }
          ],
          "carpet": [
           {
            "aaxis": {
             "endlinecolor": "#2a3f5f",
             "gridcolor": "white",
             "linecolor": "white",
             "minorgridcolor": "white",
             "startlinecolor": "#2a3f5f"
            },
            "baxis": {
             "endlinecolor": "#2a3f5f",
             "gridcolor": "white",
             "linecolor": "white",
             "minorgridcolor": "white",
             "startlinecolor": "#2a3f5f"
            },
            "type": "carpet"
           }
          ],
          "choropleth": [
           {
            "colorbar": {
             "outlinewidth": 0,
             "ticks": ""
            },
            "type": "choropleth"
           }
          ],
          "contour": [
           {
            "colorbar": {
             "outlinewidth": 0,
             "ticks": ""
            },
            "colorscale": [
             [
              0,
              "#0d0887"
             ],
             [
              0.1111111111111111,
              "#46039f"
             ],
             [
              0.2222222222222222,
              "#7201a8"
             ],
             [
              0.3333333333333333,
              "#9c179e"
             ],
             [
              0.4444444444444444,
              "#bd3786"
             ],
             [
              0.5555555555555556,
              "#d8576b"
             ],
             [
              0.6666666666666666,
              "#ed7953"
             ],
             [
              0.7777777777777778,
              "#fb9f3a"
             ],
             [
              0.8888888888888888,
              "#fdca26"
             ],
             [
              1,
              "#f0f921"
             ]
            ],
            "type": "contour"
           }
          ],
          "contourcarpet": [
           {
            "colorbar": {
             "outlinewidth": 0,
             "ticks": ""
            },
            "type": "contourcarpet"
           }
          ],
          "heatmap": [
           {
            "colorbar": {
             "outlinewidth": 0,
             "ticks": ""
            },
            "colorscale": [
             [
              0,
              "#0d0887"
             ],
             [
              0.1111111111111111,
              "#46039f"
             ],
             [
              0.2222222222222222,
              "#7201a8"
             ],
             [
              0.3333333333333333,
              "#9c179e"
             ],
             [
              0.4444444444444444,
              "#bd3786"
             ],
             [
              0.5555555555555556,
              "#d8576b"
             ],
             [
              0.6666666666666666,
              "#ed7953"
             ],
             [
              0.7777777777777778,
              "#fb9f3a"
             ],
             [
              0.8888888888888888,
              "#fdca26"
             ],
             [
              1,
              "#f0f921"
             ]
            ],
            "type": "heatmap"
           }
          ],
          "heatmapgl": [
           {
            "colorbar": {
             "outlinewidth": 0,
             "ticks": ""
            },
            "colorscale": [
             [
              0,
              "#0d0887"
             ],
             [
              0.1111111111111111,
              "#46039f"
             ],
             [
              0.2222222222222222,
              "#7201a8"
             ],
             [
              0.3333333333333333,
              "#9c179e"
             ],
             [
              0.4444444444444444,
              "#bd3786"
             ],
             [
              0.5555555555555556,
              "#d8576b"
             ],
             [
              0.6666666666666666,
              "#ed7953"
             ],
             [
              0.7777777777777778,
              "#fb9f3a"
             ],
             [
              0.8888888888888888,
              "#fdca26"
             ],
             [
              1,
              "#f0f921"
             ]
            ],
            "type": "heatmapgl"
           }
          ],
          "histogram": [
           {
            "marker": {
             "pattern": {
              "fillmode": "overlay",
              "size": 10,
              "solidity": 0.2
             }
            },
            "type": "histogram"
           }
          ],
          "histogram2d": [
           {
            "colorbar": {
             "outlinewidth": 0,
             "ticks": ""
            },
            "colorscale": [
             [
              0,
              "#0d0887"
             ],
             [
              0.1111111111111111,
              "#46039f"
             ],
             [
              0.2222222222222222,
              "#7201a8"
             ],
             [
              0.3333333333333333,
              "#9c179e"
             ],
             [
              0.4444444444444444,
              "#bd3786"
             ],
             [
              0.5555555555555556,
              "#d8576b"
             ],
             [
              0.6666666666666666,
              "#ed7953"
             ],
             [
              0.7777777777777778,
              "#fb9f3a"
             ],
             [
              0.8888888888888888,
              "#fdca26"
             ],
             [
              1,
              "#f0f921"
             ]
            ],
            "type": "histogram2d"
           }
          ],
          "histogram2dcontour": [
           {
            "colorbar": {
             "outlinewidth": 0,
             "ticks": ""
            },
            "colorscale": [
             [
              0,
              "#0d0887"
             ],
             [
              0.1111111111111111,
              "#46039f"
             ],
             [
              0.2222222222222222,
              "#7201a8"
             ],
             [
              0.3333333333333333,
              "#9c179e"
             ],
             [
              0.4444444444444444,
              "#bd3786"
             ],
             [
              0.5555555555555556,
              "#d8576b"
             ],
             [
              0.6666666666666666,
              "#ed7953"
             ],
             [
              0.7777777777777778,
              "#fb9f3a"
             ],
             [
              0.8888888888888888,
              "#fdca26"
             ],
             [
              1,
              "#f0f921"
             ]
            ],
            "type": "histogram2dcontour"
           }
          ],
          "mesh3d": [
           {
            "colorbar": {
             "outlinewidth": 0,
             "ticks": ""
            },
            "type": "mesh3d"
           }
          ],
          "parcoords": [
           {
            "line": {
             "colorbar": {
              "outlinewidth": 0,
              "ticks": ""
             }
            },
            "type": "parcoords"
           }
          ],
          "pie": [
           {
            "automargin": true,
            "type": "pie"
           }
          ],
          "scatter": [
           {
            "fillpattern": {
             "fillmode": "overlay",
             "size": 10,
             "solidity": 0.2
            },
            "type": "scatter"
           }
          ],
          "scatter3d": [
           {
            "line": {
             "colorbar": {
              "outlinewidth": 0,
              "ticks": ""
             }
            },
            "marker": {
             "colorbar": {
              "outlinewidth": 0,
              "ticks": ""
             }
            },
            "type": "scatter3d"
           }
          ],
          "scattercarpet": [
           {
            "marker": {
             "colorbar": {
              "outlinewidth": 0,
              "ticks": ""
             }
            },
            "type": "scattercarpet"
           }
          ],
          "scattergeo": [
           {
            "marker": {
             "colorbar": {
              "outlinewidth": 0,
              "ticks": ""
             }
            },
            "type": "scattergeo"
           }
          ],
          "scattergl": [
           {
            "marker": {
             "colorbar": {
              "outlinewidth": 0,
              "ticks": ""
             }
            },
            "type": "scattergl"
           }
          ],
          "scattermapbox": [
           {
            "marker": {
             "colorbar": {
              "outlinewidth": 0,
              "ticks": ""
             }
            },
            "type": "scattermapbox"
           }
          ],
          "scatterpolar": [
           {
            "marker": {
             "colorbar": {
              "outlinewidth": 0,
              "ticks": ""
             }
            },
            "type": "scatterpolar"
           }
          ],
          "scatterpolargl": [
           {
            "marker": {
             "colorbar": {
              "outlinewidth": 0,
              "ticks": ""
             }
            },
            "type": "scatterpolargl"
           }
          ],
          "scatterternary": [
           {
            "marker": {
             "colorbar": {
              "outlinewidth": 0,
              "ticks": ""
             }
            },
            "type": "scatterternary"
           }
          ],
          "surface": [
           {
            "colorbar": {
             "outlinewidth": 0,
             "ticks": ""
            },
            "colorscale": [
             [
              0,
              "#0d0887"
             ],
             [
              0.1111111111111111,
              "#46039f"
             ],
             [
              0.2222222222222222,
              "#7201a8"
             ],
             [
              0.3333333333333333,
              "#9c179e"
             ],
             [
              0.4444444444444444,
              "#bd3786"
             ],
             [
              0.5555555555555556,
              "#d8576b"
             ],
             [
              0.6666666666666666,
              "#ed7953"
             ],
             [
              0.7777777777777778,
              "#fb9f3a"
             ],
             [
              0.8888888888888888,
              "#fdca26"
             ],
             [
              1,
              "#f0f921"
             ]
            ],
            "type": "surface"
           }
          ],
          "table": [
           {
            "cells": {
             "fill": {
              "color": "#EBF0F8"
             },
             "line": {
              "color": "white"
             }
            },
            "header": {
             "fill": {
              "color": "#C8D4E3"
             },
             "line": {
              "color": "white"
             }
            },
            "type": "table"
           }
          ]
         },
         "layout": {
          "annotationdefaults": {
           "arrowcolor": "#2a3f5f",
           "arrowhead": 0,
           "arrowwidth": 1
          },
          "autotypenumbers": "strict",
          "coloraxis": {
           "colorbar": {
            "outlinewidth": 0,
            "ticks": ""
           }
          },
          "colorscale": {
           "diverging": [
            [
             0,
             "#8e0152"
            ],
            [
             0.1,
             "#c51b7d"
            ],
            [
             0.2,
             "#de77ae"
            ],
            [
             0.3,
             "#f1b6da"
            ],
            [
             0.4,
             "#fde0ef"
            ],
            [
             0.5,
             "#f7f7f7"
            ],
            [
             0.6,
             "#e6f5d0"
            ],
            [
             0.7,
             "#b8e186"
            ],
            [
             0.8,
             "#7fbc41"
            ],
            [
             0.9,
             "#4d9221"
            ],
            [
             1,
             "#276419"
            ]
           ],
           "sequential": [
            [
             0,
             "#0d0887"
            ],
            [
             0.1111111111111111,
             "#46039f"
            ],
            [
             0.2222222222222222,
             "#7201a8"
            ],
            [
             0.3333333333333333,
             "#9c179e"
            ],
            [
             0.4444444444444444,
             "#bd3786"
            ],
            [
             0.5555555555555556,
             "#d8576b"
            ],
            [
             0.6666666666666666,
             "#ed7953"
            ],
            [
             0.7777777777777778,
             "#fb9f3a"
            ],
            [
             0.8888888888888888,
             "#fdca26"
            ],
            [
             1,
             "#f0f921"
            ]
           ],
           "sequentialminus": [
            [
             0,
             "#0d0887"
            ],
            [
             0.1111111111111111,
             "#46039f"
            ],
            [
             0.2222222222222222,
             "#7201a8"
            ],
            [
             0.3333333333333333,
             "#9c179e"
            ],
            [
             0.4444444444444444,
             "#bd3786"
            ],
            [
             0.5555555555555556,
             "#d8576b"
            ],
            [
             0.6666666666666666,
             "#ed7953"
            ],
            [
             0.7777777777777778,
             "#fb9f3a"
            ],
            [
             0.8888888888888888,
             "#fdca26"
            ],
            [
             1,
             "#f0f921"
            ]
           ]
          },
          "colorway": [
           "#636efa",
           "#EF553B",
           "#00cc96",
           "#ab63fa",
           "#FFA15A",
           "#19d3f3",
           "#FF6692",
           "#B6E880",
           "#FF97FF",
           "#FECB52"
          ],
          "font": {
           "color": "#2a3f5f"
          },
          "geo": {
           "bgcolor": "white",
           "lakecolor": "white",
           "landcolor": "#E5ECF6",
           "showlakes": true,
           "showland": true,
           "subunitcolor": "white"
          },
          "hoverlabel": {
           "align": "left"
          },
          "hovermode": "closest",
          "mapbox": {
           "style": "light"
          },
          "paper_bgcolor": "white",
          "plot_bgcolor": "#E5ECF6",
          "polar": {
           "angularaxis": {
            "gridcolor": "white",
            "linecolor": "white",
            "ticks": ""
           },
           "bgcolor": "#E5ECF6",
           "radialaxis": {
            "gridcolor": "white",
            "linecolor": "white",
            "ticks": ""
           }
          },
          "scene": {
           "xaxis": {
            "backgroundcolor": "#E5ECF6",
            "gridcolor": "white",
            "gridwidth": 2,
            "linecolor": "white",
            "showbackground": true,
            "ticks": "",
            "zerolinecolor": "white"
           },
           "yaxis": {
            "backgroundcolor": "#E5ECF6",
            "gridcolor": "white",
            "gridwidth": 2,
            "linecolor": "white",
            "showbackground": true,
            "ticks": "",
            "zerolinecolor": "white"
           },
           "zaxis": {
            "backgroundcolor": "#E5ECF6",
            "gridcolor": "white",
            "gridwidth": 2,
            "linecolor": "white",
            "showbackground": true,
            "ticks": "",
            "zerolinecolor": "white"
           }
          },
          "shapedefaults": {
           "line": {
            "color": "#2a3f5f"
           }
          },
          "ternary": {
           "aaxis": {
            "gridcolor": "white",
            "linecolor": "white",
            "ticks": ""
           },
           "baxis": {
            "gridcolor": "white",
            "linecolor": "white",
            "ticks": ""
           },
           "bgcolor": "#E5ECF6",
           "caxis": {
            "gridcolor": "white",
            "linecolor": "white",
            "ticks": ""
           }
          },
          "title": {
           "x": 0.05
          },
          "xaxis": {
           "automargin": true,
           "gridcolor": "white",
           "linecolor": "white",
           "ticks": "",
           "title": {
            "standoff": 15
           },
           "zerolinecolor": "white",
           "zerolinewidth": 2
          },
          "yaxis": {
           "automargin": true,
           "gridcolor": "white",
           "linecolor": "white",
           "ticks": "",
           "title": {
            "standoff": 15
           },
           "zerolinecolor": "white",
           "zerolinewidth": 2
          }
         }
        },
        "title": {
         "text": "Pie chart of Transmission Type"
        }
       }
      },
      "text/html": [
       "<div>                            <div id=\"b299b332-c952-4fa5-b1ae-0ef3f8a33746\" class=\"plotly-graph-div\" style=\"height:525px; width:100%;\"></div>            <script type=\"text/javascript\">                require([\"plotly\"], function(Plotly) {                    window.PLOTLYENV=window.PLOTLYENV || {};                                    if (document.getElementById(\"b299b332-c952-4fa5-b1ae-0ef3f8a33746\")) {                    Plotly.newPlot(                        \"b299b332-c952-4fa5-b1ae-0ef3f8a33746\",                        [{\"insidetextorientation\":\"radial\",\"labels\":[\"AUTOMATIC\",\"MANUAL\",\"AUTOMATED_MANUAL\",\"DIRECT_DRIVE\",\"UNKNOWN\"],\"textinfo\":\"label+percent\",\"values\":[8266,2935,626,68,19],\"type\":\"pie\",\"hole\":0.3,\"hoverinfo\":\"label+percent+name\"}],                        {\"template\":{\"data\":{\"histogram2dcontour\":[{\"type\":\"histogram2dcontour\",\"colorbar\":{\"outlinewidth\":0,\"ticks\":\"\"},\"colorscale\":[[0.0,\"#0d0887\"],[0.1111111111111111,\"#46039f\"],[0.2222222222222222,\"#7201a8\"],[0.3333333333333333,\"#9c179e\"],[0.4444444444444444,\"#bd3786\"],[0.5555555555555556,\"#d8576b\"],[0.6666666666666666,\"#ed7953\"],[0.7777777777777778,\"#fb9f3a\"],[0.8888888888888888,\"#fdca26\"],[1.0,\"#f0f921\"]]}],\"choropleth\":[{\"type\":\"choropleth\",\"colorbar\":{\"outlinewidth\":0,\"ticks\":\"\"}}],\"histogram2d\":[{\"type\":\"histogram2d\",\"colorbar\":{\"outlinewidth\":0,\"ticks\":\"\"},\"colorscale\":[[0.0,\"#0d0887\"],[0.1111111111111111,\"#46039f\"],[0.2222222222222222,\"#7201a8\"],[0.3333333333333333,\"#9c179e\"],[0.4444444444444444,\"#bd3786\"],[0.5555555555555556,\"#d8576b\"],[0.6666666666666666,\"#ed7953\"],[0.7777777777777778,\"#fb9f3a\"],[0.8888888888888888,\"#fdca26\"],[1.0,\"#f0f921\"]]}],\"heatmap\":[{\"type\":\"heatmap\",\"colorbar\":{\"outlinewidth\":0,\"ticks\":\"\"},\"colorscale\":[[0.0,\"#0d0887\"],[0.1111111111111111,\"#46039f\"],[0.2222222222222222,\"#7201a8\"],[0.3333333333333333,\"#9c179e\"],[0.4444444444444444,\"#bd3786\"],[0.5555555555555556,\"#d8576b\"],[0.6666666666666666,\"#ed7953\"],[0.7777777777777778,\"#fb9f3a\"],[0.8888888888888888,\"#fdca26\"],[1.0,\"#f0f921\"]]}],\"heatmapgl\":[{\"type\":\"heatmapgl\",\"colorbar\":{\"outlinewidth\":0,\"ticks\":\"\"},\"colorscale\":[[0.0,\"#0d0887\"],[0.1111111111111111,\"#46039f\"],[0.2222222222222222,\"#7201a8\"],[0.3333333333333333,\"#9c179e\"],[0.4444444444444444,\"#bd3786\"],[0.5555555555555556,\"#d8576b\"],[0.6666666666666666,\"#ed7953\"],[0.7777777777777778,\"#fb9f3a\"],[0.8888888888888888,\"#fdca26\"],[1.0,\"#f0f921\"]]}],\"contourcarpet\":[{\"type\":\"contourcarpet\",\"colorbar\":{\"outlinewidth\":0,\"ticks\":\"\"}}],\"contour\":[{\"type\":\"contour\",\"colorbar\":{\"outlinewidth\":0,\"ticks\":\"\"},\"colorscale\":[[0.0,\"#0d0887\"],[0.1111111111111111,\"#46039f\"],[0.2222222222222222,\"#7201a8\"],[0.3333333333333333,\"#9c179e\"],[0.4444444444444444,\"#bd3786\"],[0.5555555555555556,\"#d8576b\"],[0.6666666666666666,\"#ed7953\"],[0.7777777777777778,\"#fb9f3a\"],[0.8888888888888888,\"#fdca26\"],[1.0,\"#f0f921\"]]}],\"surface\":[{\"type\":\"surface\",\"colorbar\":{\"outlinewidth\":0,\"ticks\":\"\"},\"colorscale\":[[0.0,\"#0d0887\"],[0.1111111111111111,\"#46039f\"],[0.2222222222222222,\"#7201a8\"],[0.3333333333333333,\"#9c179e\"],[0.4444444444444444,\"#bd3786\"],[0.5555555555555556,\"#d8576b\"],[0.6666666666666666,\"#ed7953\"],[0.7777777777777778,\"#fb9f3a\"],[0.8888888888888888,\"#fdca26\"],[1.0,\"#f0f921\"]]}],\"mesh3d\":[{\"type\":\"mesh3d\",\"colorbar\":{\"outlinewidth\":0,\"ticks\":\"\"}}],\"scatter\":[{\"fillpattern\":{\"fillmode\":\"overlay\",\"size\":10,\"solidity\":0.2},\"type\":\"scatter\"}],\"parcoords\":[{\"type\":\"parcoords\",\"line\":{\"colorbar\":{\"outlinewidth\":0,\"ticks\":\"\"}}}],\"scatterpolargl\":[{\"type\":\"scatterpolargl\",\"marker\":{\"colorbar\":{\"outlinewidth\":0,\"ticks\":\"\"}}}],\"bar\":[{\"error_x\":{\"color\":\"#2a3f5f\"},\"error_y\":{\"color\":\"#2a3f5f\"},\"marker\":{\"line\":{\"color\":\"#E5ECF6\",\"width\":0.5},\"pattern\":{\"fillmode\":\"overlay\",\"size\":10,\"solidity\":0.2}},\"type\":\"bar\"}],\"scattergeo\":[{\"type\":\"scattergeo\",\"marker\":{\"colorbar\":{\"outlinewidth\":0,\"ticks\":\"\"}}}],\"scatterpolar\":[{\"type\":\"scatterpolar\",\"marker\":{\"colorbar\":{\"outlinewidth\":0,\"ticks\":\"\"}}}],\"histogram\":[{\"marker\":{\"pattern\":{\"fillmode\":\"overlay\",\"size\":10,\"solidity\":0.2}},\"type\":\"histogram\"}],\"scattergl\":[{\"type\":\"scattergl\",\"marker\":{\"colorbar\":{\"outlinewidth\":0,\"ticks\":\"\"}}}],\"scatter3d\":[{\"type\":\"scatter3d\",\"line\":{\"colorbar\":{\"outlinewidth\":0,\"ticks\":\"\"}},\"marker\":{\"colorbar\":{\"outlinewidth\":0,\"ticks\":\"\"}}}],\"scattermapbox\":[{\"type\":\"scattermapbox\",\"marker\":{\"colorbar\":{\"outlinewidth\":0,\"ticks\":\"\"}}}],\"scatterternary\":[{\"type\":\"scatterternary\",\"marker\":{\"colorbar\":{\"outlinewidth\":0,\"ticks\":\"\"}}}],\"scattercarpet\":[{\"type\":\"scattercarpet\",\"marker\":{\"colorbar\":{\"outlinewidth\":0,\"ticks\":\"\"}}}],\"carpet\":[{\"aaxis\":{\"endlinecolor\":\"#2a3f5f\",\"gridcolor\":\"white\",\"linecolor\":\"white\",\"minorgridcolor\":\"white\",\"startlinecolor\":\"#2a3f5f\"},\"baxis\":{\"endlinecolor\":\"#2a3f5f\",\"gridcolor\":\"white\",\"linecolor\":\"white\",\"minorgridcolor\":\"white\",\"startlinecolor\":\"#2a3f5f\"},\"type\":\"carpet\"}],\"table\":[{\"cells\":{\"fill\":{\"color\":\"#EBF0F8\"},\"line\":{\"color\":\"white\"}},\"header\":{\"fill\":{\"color\":\"#C8D4E3\"},\"line\":{\"color\":\"white\"}},\"type\":\"table\"}],\"barpolar\":[{\"marker\":{\"line\":{\"color\":\"#E5ECF6\",\"width\":0.5},\"pattern\":{\"fillmode\":\"overlay\",\"size\":10,\"solidity\":0.2}},\"type\":\"barpolar\"}],\"pie\":[{\"automargin\":true,\"type\":\"pie\"}]},\"layout\":{\"autotypenumbers\":\"strict\",\"colorway\":[\"#636efa\",\"#EF553B\",\"#00cc96\",\"#ab63fa\",\"#FFA15A\",\"#19d3f3\",\"#FF6692\",\"#B6E880\",\"#FF97FF\",\"#FECB52\"],\"font\":{\"color\":\"#2a3f5f\"},\"hovermode\":\"closest\",\"hoverlabel\":{\"align\":\"left\"},\"paper_bgcolor\":\"white\",\"plot_bgcolor\":\"#E5ECF6\",\"polar\":{\"bgcolor\":\"#E5ECF6\",\"angularaxis\":{\"gridcolor\":\"white\",\"linecolor\":\"white\",\"ticks\":\"\"},\"radialaxis\":{\"gridcolor\":\"white\",\"linecolor\":\"white\",\"ticks\":\"\"}},\"ternary\":{\"bgcolor\":\"#E5ECF6\",\"aaxis\":{\"gridcolor\":\"white\",\"linecolor\":\"white\",\"ticks\":\"\"},\"baxis\":{\"gridcolor\":\"white\",\"linecolor\":\"white\",\"ticks\":\"\"},\"caxis\":{\"gridcolor\":\"white\",\"linecolor\":\"white\",\"ticks\":\"\"}},\"coloraxis\":{\"colorbar\":{\"outlinewidth\":0,\"ticks\":\"\"}},\"colorscale\":{\"sequential\":[[0.0,\"#0d0887\"],[0.1111111111111111,\"#46039f\"],[0.2222222222222222,\"#7201a8\"],[0.3333333333333333,\"#9c179e\"],[0.4444444444444444,\"#bd3786\"],[0.5555555555555556,\"#d8576b\"],[0.6666666666666666,\"#ed7953\"],[0.7777777777777778,\"#fb9f3a\"],[0.8888888888888888,\"#fdca26\"],[1.0,\"#f0f921\"]],\"sequentialminus\":[[0.0,\"#0d0887\"],[0.1111111111111111,\"#46039f\"],[0.2222222222222222,\"#7201a8\"],[0.3333333333333333,\"#9c179e\"],[0.4444444444444444,\"#bd3786\"],[0.5555555555555556,\"#d8576b\"],[0.6666666666666666,\"#ed7953\"],[0.7777777777777778,\"#fb9f3a\"],[0.8888888888888888,\"#fdca26\"],[1.0,\"#f0f921\"]],\"diverging\":[[0,\"#8e0152\"],[0.1,\"#c51b7d\"],[0.2,\"#de77ae\"],[0.3,\"#f1b6da\"],[0.4,\"#fde0ef\"],[0.5,\"#f7f7f7\"],[0.6,\"#e6f5d0\"],[0.7,\"#b8e186\"],[0.8,\"#7fbc41\"],[0.9,\"#4d9221\"],[1,\"#276419\"]]},\"xaxis\":{\"gridcolor\":\"white\",\"linecolor\":\"white\",\"ticks\":\"\",\"title\":{\"standoff\":15},\"zerolinecolor\":\"white\",\"automargin\":true,\"zerolinewidth\":2},\"yaxis\":{\"gridcolor\":\"white\",\"linecolor\":\"white\",\"ticks\":\"\",\"title\":{\"standoff\":15},\"zerolinecolor\":\"white\",\"automargin\":true,\"zerolinewidth\":2},\"scene\":{\"xaxis\":{\"backgroundcolor\":\"#E5ECF6\",\"gridcolor\":\"white\",\"linecolor\":\"white\",\"showbackground\":true,\"ticks\":\"\",\"zerolinecolor\":\"white\",\"gridwidth\":2},\"yaxis\":{\"backgroundcolor\":\"#E5ECF6\",\"gridcolor\":\"white\",\"linecolor\":\"white\",\"showbackground\":true,\"ticks\":\"\",\"zerolinecolor\":\"white\",\"gridwidth\":2},\"zaxis\":{\"backgroundcolor\":\"#E5ECF6\",\"gridcolor\":\"white\",\"linecolor\":\"white\",\"showbackground\":true,\"ticks\":\"\",\"zerolinecolor\":\"white\",\"gridwidth\":2}},\"shapedefaults\":{\"line\":{\"color\":\"#2a3f5f\"}},\"annotationdefaults\":{\"arrowcolor\":\"#2a3f5f\",\"arrowhead\":0,\"arrowwidth\":1},\"geo\":{\"bgcolor\":\"white\",\"landcolor\":\"#E5ECF6\",\"subunitcolor\":\"white\",\"showland\":true,\"showlakes\":true,\"lakecolor\":\"white\"},\"title\":{\"x\":0.05},\"mapbox\":{\"style\":\"light\"}}},\"title\":{\"text\":\"Pie chart of Transmission Type\"}},                        {\"responsive\": true}                    ).then(function(){\n",
       "                            \n",
       "var gd = document.getElementById('b299b332-c952-4fa5-b1ae-0ef3f8a33746');\n",
       "var x = new MutationObserver(function (mutations, observer) {{\n",
       "        var display = window.getComputedStyle(gd).display;\n",
       "        if (!display || display === 'none') {{\n",
       "            console.log([gd, 'removed!']);\n",
       "            Plotly.purge(gd);\n",
       "            observer.disconnect();\n",
       "        }}\n",
       "}});\n",
       "\n",
       "// Listen for the removal of the full notebook cells\n",
       "var notebookContainer = gd.closest('#notebook-container');\n",
       "if (notebookContainer) {{\n",
       "    x.observe(notebookContainer, {childList: true});\n",
       "}}\n",
       "\n",
       "// Listen for the clearing of the current output cell\n",
       "var outputEl = gd.closest('.output');\n",
       "if (outputEl) {{\n",
       "    x.observe(outputEl, {childList: true});\n",
       "}}\n",
       "\n",
       "                        })                };                });            </script>        </div>"
      ]
     },
     "metadata": {},
     "output_type": "display_data"
    }
   ],
   "source": [
    "import plotly.graph_objects as go\n",
    "\n",
    "data_pie = data['Transmission Type'].value_counts()\n",
    "\n",
    "# Creating the pie chart\n",
    "fig = go.Figure(data=[go.Pie(labels=data_pie.index, values=data_pie.values, textinfo='label+percent',\n",
    "                             insidetextorientation='radial')])\n",
    "\n",
    "# Updating the layout\n",
    "fig.update_traces(hole=0.3, hoverinfo='label+percent+name')\n",
    "fig.update_layout(title='Pie chart of Transmission Type')\n",
    "\n",
    "# Displaying the pie chart\n",
    "fig.show()"
   ]
  },
  {
   "cell_type": "code",
   "execution_count": 501,
   "id": "8f80503c",
   "metadata": {},
   "outputs": [],
   "source": [
    "#The above visualisation tells us that people prefer automatic cars highly."
   ]
  },
  {
   "cell_type": "code",
   "execution_count": 502,
   "id": "b6c8bb99",
   "metadata": {},
   "outputs": [
    {
     "data": {
      "text/plain": [
       "front wheel drive    4787\n",
       "rear wheel drive     3371\n",
       "all wheel drive      2353\n",
       "four wheel drive     1403\n",
       "Name: Driven_Wheels, dtype: int64"
      ]
     },
     "execution_count": 502,
     "metadata": {},
     "output_type": "execute_result"
    }
   ],
   "source": [
    "data_wheels = data['Driven_Wheels'].value_counts()\n",
    "data_wheels"
   ]
  },
  {
   "cell_type": "code",
   "execution_count": 503,
   "id": "bd1ae5bc",
   "metadata": {},
   "outputs": [
    {
     "data": {
      "application/vnd.plotly.v1+json": {
       "config": {
        "plotlyServerURL": "https://plot.ly"
       },
       "data": [
        {
         "hole": 0.3,
         "hoverinfo": "label+percent+name",
         "insidetextorientation": "radial",
         "labels": [
          "front wheel drive",
          "rear wheel drive",
          "all wheel drive",
          "four wheel drive"
         ],
         "textinfo": "label+percent",
         "type": "pie",
         "values": [
          4787,
          3371,
          2353,
          1403
         ]
        }
       ],
       "layout": {
        "template": {
         "data": {
          "bar": [
           {
            "error_x": {
             "color": "#2a3f5f"
            },
            "error_y": {
             "color": "#2a3f5f"
            },
            "marker": {
             "line": {
              "color": "#E5ECF6",
              "width": 0.5
             },
             "pattern": {
              "fillmode": "overlay",
              "size": 10,
              "solidity": 0.2
             }
            },
            "type": "bar"
           }
          ],
          "barpolar": [
           {
            "marker": {
             "line": {
              "color": "#E5ECF6",
              "width": 0.5
             },
             "pattern": {
              "fillmode": "overlay",
              "size": 10,
              "solidity": 0.2
             }
            },
            "type": "barpolar"
           }
          ],
          "carpet": [
           {
            "aaxis": {
             "endlinecolor": "#2a3f5f",
             "gridcolor": "white",
             "linecolor": "white",
             "minorgridcolor": "white",
             "startlinecolor": "#2a3f5f"
            },
            "baxis": {
             "endlinecolor": "#2a3f5f",
             "gridcolor": "white",
             "linecolor": "white",
             "minorgridcolor": "white",
             "startlinecolor": "#2a3f5f"
            },
            "type": "carpet"
           }
          ],
          "choropleth": [
           {
            "colorbar": {
             "outlinewidth": 0,
             "ticks": ""
            },
            "type": "choropleth"
           }
          ],
          "contour": [
           {
            "colorbar": {
             "outlinewidth": 0,
             "ticks": ""
            },
            "colorscale": [
             [
              0,
              "#0d0887"
             ],
             [
              0.1111111111111111,
              "#46039f"
             ],
             [
              0.2222222222222222,
              "#7201a8"
             ],
             [
              0.3333333333333333,
              "#9c179e"
             ],
             [
              0.4444444444444444,
              "#bd3786"
             ],
             [
              0.5555555555555556,
              "#d8576b"
             ],
             [
              0.6666666666666666,
              "#ed7953"
             ],
             [
              0.7777777777777778,
              "#fb9f3a"
             ],
             [
              0.8888888888888888,
              "#fdca26"
             ],
             [
              1,
              "#f0f921"
             ]
            ],
            "type": "contour"
           }
          ],
          "contourcarpet": [
           {
            "colorbar": {
             "outlinewidth": 0,
             "ticks": ""
            },
            "type": "contourcarpet"
           }
          ],
          "heatmap": [
           {
            "colorbar": {
             "outlinewidth": 0,
             "ticks": ""
            },
            "colorscale": [
             [
              0,
              "#0d0887"
             ],
             [
              0.1111111111111111,
              "#46039f"
             ],
             [
              0.2222222222222222,
              "#7201a8"
             ],
             [
              0.3333333333333333,
              "#9c179e"
             ],
             [
              0.4444444444444444,
              "#bd3786"
             ],
             [
              0.5555555555555556,
              "#d8576b"
             ],
             [
              0.6666666666666666,
              "#ed7953"
             ],
             [
              0.7777777777777778,
              "#fb9f3a"
             ],
             [
              0.8888888888888888,
              "#fdca26"
             ],
             [
              1,
              "#f0f921"
             ]
            ],
            "type": "heatmap"
           }
          ],
          "heatmapgl": [
           {
            "colorbar": {
             "outlinewidth": 0,
             "ticks": ""
            },
            "colorscale": [
             [
              0,
              "#0d0887"
             ],
             [
              0.1111111111111111,
              "#46039f"
             ],
             [
              0.2222222222222222,
              "#7201a8"
             ],
             [
              0.3333333333333333,
              "#9c179e"
             ],
             [
              0.4444444444444444,
              "#bd3786"
             ],
             [
              0.5555555555555556,
              "#d8576b"
             ],
             [
              0.6666666666666666,
              "#ed7953"
             ],
             [
              0.7777777777777778,
              "#fb9f3a"
             ],
             [
              0.8888888888888888,
              "#fdca26"
             ],
             [
              1,
              "#f0f921"
             ]
            ],
            "type": "heatmapgl"
           }
          ],
          "histogram": [
           {
            "marker": {
             "pattern": {
              "fillmode": "overlay",
              "size": 10,
              "solidity": 0.2
             }
            },
            "type": "histogram"
           }
          ],
          "histogram2d": [
           {
            "colorbar": {
             "outlinewidth": 0,
             "ticks": ""
            },
            "colorscale": [
             [
              0,
              "#0d0887"
             ],
             [
              0.1111111111111111,
              "#46039f"
             ],
             [
              0.2222222222222222,
              "#7201a8"
             ],
             [
              0.3333333333333333,
              "#9c179e"
             ],
             [
              0.4444444444444444,
              "#bd3786"
             ],
             [
              0.5555555555555556,
              "#d8576b"
             ],
             [
              0.6666666666666666,
              "#ed7953"
             ],
             [
              0.7777777777777778,
              "#fb9f3a"
             ],
             [
              0.8888888888888888,
              "#fdca26"
             ],
             [
              1,
              "#f0f921"
             ]
            ],
            "type": "histogram2d"
           }
          ],
          "histogram2dcontour": [
           {
            "colorbar": {
             "outlinewidth": 0,
             "ticks": ""
            },
            "colorscale": [
             [
              0,
              "#0d0887"
             ],
             [
              0.1111111111111111,
              "#46039f"
             ],
             [
              0.2222222222222222,
              "#7201a8"
             ],
             [
              0.3333333333333333,
              "#9c179e"
             ],
             [
              0.4444444444444444,
              "#bd3786"
             ],
             [
              0.5555555555555556,
              "#d8576b"
             ],
             [
              0.6666666666666666,
              "#ed7953"
             ],
             [
              0.7777777777777778,
              "#fb9f3a"
             ],
             [
              0.8888888888888888,
              "#fdca26"
             ],
             [
              1,
              "#f0f921"
             ]
            ],
            "type": "histogram2dcontour"
           }
          ],
          "mesh3d": [
           {
            "colorbar": {
             "outlinewidth": 0,
             "ticks": ""
            },
            "type": "mesh3d"
           }
          ],
          "parcoords": [
           {
            "line": {
             "colorbar": {
              "outlinewidth": 0,
              "ticks": ""
             }
            },
            "type": "parcoords"
           }
          ],
          "pie": [
           {
            "automargin": true,
            "type": "pie"
           }
          ],
          "scatter": [
           {
            "fillpattern": {
             "fillmode": "overlay",
             "size": 10,
             "solidity": 0.2
            },
            "type": "scatter"
           }
          ],
          "scatter3d": [
           {
            "line": {
             "colorbar": {
              "outlinewidth": 0,
              "ticks": ""
             }
            },
            "marker": {
             "colorbar": {
              "outlinewidth": 0,
              "ticks": ""
             }
            },
            "type": "scatter3d"
           }
          ],
          "scattercarpet": [
           {
            "marker": {
             "colorbar": {
              "outlinewidth": 0,
              "ticks": ""
             }
            },
            "type": "scattercarpet"
           }
          ],
          "scattergeo": [
           {
            "marker": {
             "colorbar": {
              "outlinewidth": 0,
              "ticks": ""
             }
            },
            "type": "scattergeo"
           }
          ],
          "scattergl": [
           {
            "marker": {
             "colorbar": {
              "outlinewidth": 0,
              "ticks": ""
             }
            },
            "type": "scattergl"
           }
          ],
          "scattermapbox": [
           {
            "marker": {
             "colorbar": {
              "outlinewidth": 0,
              "ticks": ""
             }
            },
            "type": "scattermapbox"
           }
          ],
          "scatterpolar": [
           {
            "marker": {
             "colorbar": {
              "outlinewidth": 0,
              "ticks": ""
             }
            },
            "type": "scatterpolar"
           }
          ],
          "scatterpolargl": [
           {
            "marker": {
             "colorbar": {
              "outlinewidth": 0,
              "ticks": ""
             }
            },
            "type": "scatterpolargl"
           }
          ],
          "scatterternary": [
           {
            "marker": {
             "colorbar": {
              "outlinewidth": 0,
              "ticks": ""
             }
            },
            "type": "scatterternary"
           }
          ],
          "surface": [
           {
            "colorbar": {
             "outlinewidth": 0,
             "ticks": ""
            },
            "colorscale": [
             [
              0,
              "#0d0887"
             ],
             [
              0.1111111111111111,
              "#46039f"
             ],
             [
              0.2222222222222222,
              "#7201a8"
             ],
             [
              0.3333333333333333,
              "#9c179e"
             ],
             [
              0.4444444444444444,
              "#bd3786"
             ],
             [
              0.5555555555555556,
              "#d8576b"
             ],
             [
              0.6666666666666666,
              "#ed7953"
             ],
             [
              0.7777777777777778,
              "#fb9f3a"
             ],
             [
              0.8888888888888888,
              "#fdca26"
             ],
             [
              1,
              "#f0f921"
             ]
            ],
            "type": "surface"
           }
          ],
          "table": [
           {
            "cells": {
             "fill": {
              "color": "#EBF0F8"
             },
             "line": {
              "color": "white"
             }
            },
            "header": {
             "fill": {
              "color": "#C8D4E3"
             },
             "line": {
              "color": "white"
             }
            },
            "type": "table"
           }
          ]
         },
         "layout": {
          "annotationdefaults": {
           "arrowcolor": "#2a3f5f",
           "arrowhead": 0,
           "arrowwidth": 1
          },
          "autotypenumbers": "strict",
          "coloraxis": {
           "colorbar": {
            "outlinewidth": 0,
            "ticks": ""
           }
          },
          "colorscale": {
           "diverging": [
            [
             0,
             "#8e0152"
            ],
            [
             0.1,
             "#c51b7d"
            ],
            [
             0.2,
             "#de77ae"
            ],
            [
             0.3,
             "#f1b6da"
            ],
            [
             0.4,
             "#fde0ef"
            ],
            [
             0.5,
             "#f7f7f7"
            ],
            [
             0.6,
             "#e6f5d0"
            ],
            [
             0.7,
             "#b8e186"
            ],
            [
             0.8,
             "#7fbc41"
            ],
            [
             0.9,
             "#4d9221"
            ],
            [
             1,
             "#276419"
            ]
           ],
           "sequential": [
            [
             0,
             "#0d0887"
            ],
            [
             0.1111111111111111,
             "#46039f"
            ],
            [
             0.2222222222222222,
             "#7201a8"
            ],
            [
             0.3333333333333333,
             "#9c179e"
            ],
            [
             0.4444444444444444,
             "#bd3786"
            ],
            [
             0.5555555555555556,
             "#d8576b"
            ],
            [
             0.6666666666666666,
             "#ed7953"
            ],
            [
             0.7777777777777778,
             "#fb9f3a"
            ],
            [
             0.8888888888888888,
             "#fdca26"
            ],
            [
             1,
             "#f0f921"
            ]
           ],
           "sequentialminus": [
            [
             0,
             "#0d0887"
            ],
            [
             0.1111111111111111,
             "#46039f"
            ],
            [
             0.2222222222222222,
             "#7201a8"
            ],
            [
             0.3333333333333333,
             "#9c179e"
            ],
            [
             0.4444444444444444,
             "#bd3786"
            ],
            [
             0.5555555555555556,
             "#d8576b"
            ],
            [
             0.6666666666666666,
             "#ed7953"
            ],
            [
             0.7777777777777778,
             "#fb9f3a"
            ],
            [
             0.8888888888888888,
             "#fdca26"
            ],
            [
             1,
             "#f0f921"
            ]
           ]
          },
          "colorway": [
           "#636efa",
           "#EF553B",
           "#00cc96",
           "#ab63fa",
           "#FFA15A",
           "#19d3f3",
           "#FF6692",
           "#B6E880",
           "#FF97FF",
           "#FECB52"
          ],
          "font": {
           "color": "#2a3f5f"
          },
          "geo": {
           "bgcolor": "white",
           "lakecolor": "white",
           "landcolor": "#E5ECF6",
           "showlakes": true,
           "showland": true,
           "subunitcolor": "white"
          },
          "hoverlabel": {
           "align": "left"
          },
          "hovermode": "closest",
          "mapbox": {
           "style": "light"
          },
          "paper_bgcolor": "white",
          "plot_bgcolor": "#E5ECF6",
          "polar": {
           "angularaxis": {
            "gridcolor": "white",
            "linecolor": "white",
            "ticks": ""
           },
           "bgcolor": "#E5ECF6",
           "radialaxis": {
            "gridcolor": "white",
            "linecolor": "white",
            "ticks": ""
           }
          },
          "scene": {
           "xaxis": {
            "backgroundcolor": "#E5ECF6",
            "gridcolor": "white",
            "gridwidth": 2,
            "linecolor": "white",
            "showbackground": true,
            "ticks": "",
            "zerolinecolor": "white"
           },
           "yaxis": {
            "backgroundcolor": "#E5ECF6",
            "gridcolor": "white",
            "gridwidth": 2,
            "linecolor": "white",
            "showbackground": true,
            "ticks": "",
            "zerolinecolor": "white"
           },
           "zaxis": {
            "backgroundcolor": "#E5ECF6",
            "gridcolor": "white",
            "gridwidth": 2,
            "linecolor": "white",
            "showbackground": true,
            "ticks": "",
            "zerolinecolor": "white"
           }
          },
          "shapedefaults": {
           "line": {
            "color": "#2a3f5f"
           }
          },
          "ternary": {
           "aaxis": {
            "gridcolor": "white",
            "linecolor": "white",
            "ticks": ""
           },
           "baxis": {
            "gridcolor": "white",
            "linecolor": "white",
            "ticks": ""
           },
           "bgcolor": "#E5ECF6",
           "caxis": {
            "gridcolor": "white",
            "linecolor": "white",
            "ticks": ""
           }
          },
          "title": {
           "x": 0.05
          },
          "xaxis": {
           "automargin": true,
           "gridcolor": "white",
           "linecolor": "white",
           "ticks": "",
           "title": {
            "standoff": 15
           },
           "zerolinecolor": "white",
           "zerolinewidth": 2
          },
          "yaxis": {
           "automargin": true,
           "gridcolor": "white",
           "linecolor": "white",
           "ticks": "",
           "title": {
            "standoff": 15
           },
           "zerolinecolor": "white",
           "zerolinewidth": 2
          }
         }
        },
        "title": {
         "text": "Pie chart of Driven_Wheels"
        }
       }
      },
      "text/html": [
       "<div>                            <div id=\"8ca40f40-2e89-4d43-8287-ec1e0fcea395\" class=\"plotly-graph-div\" style=\"height:525px; width:100%;\"></div>            <script type=\"text/javascript\">                require([\"plotly\"], function(Plotly) {                    window.PLOTLYENV=window.PLOTLYENV || {};                                    if (document.getElementById(\"8ca40f40-2e89-4d43-8287-ec1e0fcea395\")) {                    Plotly.newPlot(                        \"8ca40f40-2e89-4d43-8287-ec1e0fcea395\",                        [{\"insidetextorientation\":\"radial\",\"labels\":[\"front wheel drive\",\"rear wheel drive\",\"all wheel drive\",\"four wheel drive\"],\"textinfo\":\"label+percent\",\"values\":[4787,3371,2353,1403],\"type\":\"pie\",\"hole\":0.3,\"hoverinfo\":\"label+percent+name\"}],                        {\"template\":{\"data\":{\"histogram2dcontour\":[{\"type\":\"histogram2dcontour\",\"colorbar\":{\"outlinewidth\":0,\"ticks\":\"\"},\"colorscale\":[[0.0,\"#0d0887\"],[0.1111111111111111,\"#46039f\"],[0.2222222222222222,\"#7201a8\"],[0.3333333333333333,\"#9c179e\"],[0.4444444444444444,\"#bd3786\"],[0.5555555555555556,\"#d8576b\"],[0.6666666666666666,\"#ed7953\"],[0.7777777777777778,\"#fb9f3a\"],[0.8888888888888888,\"#fdca26\"],[1.0,\"#f0f921\"]]}],\"choropleth\":[{\"type\":\"choropleth\",\"colorbar\":{\"outlinewidth\":0,\"ticks\":\"\"}}],\"histogram2d\":[{\"type\":\"histogram2d\",\"colorbar\":{\"outlinewidth\":0,\"ticks\":\"\"},\"colorscale\":[[0.0,\"#0d0887\"],[0.1111111111111111,\"#46039f\"],[0.2222222222222222,\"#7201a8\"],[0.3333333333333333,\"#9c179e\"],[0.4444444444444444,\"#bd3786\"],[0.5555555555555556,\"#d8576b\"],[0.6666666666666666,\"#ed7953\"],[0.7777777777777778,\"#fb9f3a\"],[0.8888888888888888,\"#fdca26\"],[1.0,\"#f0f921\"]]}],\"heatmap\":[{\"type\":\"heatmap\",\"colorbar\":{\"outlinewidth\":0,\"ticks\":\"\"},\"colorscale\":[[0.0,\"#0d0887\"],[0.1111111111111111,\"#46039f\"],[0.2222222222222222,\"#7201a8\"],[0.3333333333333333,\"#9c179e\"],[0.4444444444444444,\"#bd3786\"],[0.5555555555555556,\"#d8576b\"],[0.6666666666666666,\"#ed7953\"],[0.7777777777777778,\"#fb9f3a\"],[0.8888888888888888,\"#fdca26\"],[1.0,\"#f0f921\"]]}],\"heatmapgl\":[{\"type\":\"heatmapgl\",\"colorbar\":{\"outlinewidth\":0,\"ticks\":\"\"},\"colorscale\":[[0.0,\"#0d0887\"],[0.1111111111111111,\"#46039f\"],[0.2222222222222222,\"#7201a8\"],[0.3333333333333333,\"#9c179e\"],[0.4444444444444444,\"#bd3786\"],[0.5555555555555556,\"#d8576b\"],[0.6666666666666666,\"#ed7953\"],[0.7777777777777778,\"#fb9f3a\"],[0.8888888888888888,\"#fdca26\"],[1.0,\"#f0f921\"]]}],\"contourcarpet\":[{\"type\":\"contourcarpet\",\"colorbar\":{\"outlinewidth\":0,\"ticks\":\"\"}}],\"contour\":[{\"type\":\"contour\",\"colorbar\":{\"outlinewidth\":0,\"ticks\":\"\"},\"colorscale\":[[0.0,\"#0d0887\"],[0.1111111111111111,\"#46039f\"],[0.2222222222222222,\"#7201a8\"],[0.3333333333333333,\"#9c179e\"],[0.4444444444444444,\"#bd3786\"],[0.5555555555555556,\"#d8576b\"],[0.6666666666666666,\"#ed7953\"],[0.7777777777777778,\"#fb9f3a\"],[0.8888888888888888,\"#fdca26\"],[1.0,\"#f0f921\"]]}],\"surface\":[{\"type\":\"surface\",\"colorbar\":{\"outlinewidth\":0,\"ticks\":\"\"},\"colorscale\":[[0.0,\"#0d0887\"],[0.1111111111111111,\"#46039f\"],[0.2222222222222222,\"#7201a8\"],[0.3333333333333333,\"#9c179e\"],[0.4444444444444444,\"#bd3786\"],[0.5555555555555556,\"#d8576b\"],[0.6666666666666666,\"#ed7953\"],[0.7777777777777778,\"#fb9f3a\"],[0.8888888888888888,\"#fdca26\"],[1.0,\"#f0f921\"]]}],\"mesh3d\":[{\"type\":\"mesh3d\",\"colorbar\":{\"outlinewidth\":0,\"ticks\":\"\"}}],\"scatter\":[{\"fillpattern\":{\"fillmode\":\"overlay\",\"size\":10,\"solidity\":0.2},\"type\":\"scatter\"}],\"parcoords\":[{\"type\":\"parcoords\",\"line\":{\"colorbar\":{\"outlinewidth\":0,\"ticks\":\"\"}}}],\"scatterpolargl\":[{\"type\":\"scatterpolargl\",\"marker\":{\"colorbar\":{\"outlinewidth\":0,\"ticks\":\"\"}}}],\"bar\":[{\"error_x\":{\"color\":\"#2a3f5f\"},\"error_y\":{\"color\":\"#2a3f5f\"},\"marker\":{\"line\":{\"color\":\"#E5ECF6\",\"width\":0.5},\"pattern\":{\"fillmode\":\"overlay\",\"size\":10,\"solidity\":0.2}},\"type\":\"bar\"}],\"scattergeo\":[{\"type\":\"scattergeo\",\"marker\":{\"colorbar\":{\"outlinewidth\":0,\"ticks\":\"\"}}}],\"scatterpolar\":[{\"type\":\"scatterpolar\",\"marker\":{\"colorbar\":{\"outlinewidth\":0,\"ticks\":\"\"}}}],\"histogram\":[{\"marker\":{\"pattern\":{\"fillmode\":\"overlay\",\"size\":10,\"solidity\":0.2}},\"type\":\"histogram\"}],\"scattergl\":[{\"type\":\"scattergl\",\"marker\":{\"colorbar\":{\"outlinewidth\":0,\"ticks\":\"\"}}}],\"scatter3d\":[{\"type\":\"scatter3d\",\"line\":{\"colorbar\":{\"outlinewidth\":0,\"ticks\":\"\"}},\"marker\":{\"colorbar\":{\"outlinewidth\":0,\"ticks\":\"\"}}}],\"scattermapbox\":[{\"type\":\"scattermapbox\",\"marker\":{\"colorbar\":{\"outlinewidth\":0,\"ticks\":\"\"}}}],\"scatterternary\":[{\"type\":\"scatterternary\",\"marker\":{\"colorbar\":{\"outlinewidth\":0,\"ticks\":\"\"}}}],\"scattercarpet\":[{\"type\":\"scattercarpet\",\"marker\":{\"colorbar\":{\"outlinewidth\":0,\"ticks\":\"\"}}}],\"carpet\":[{\"aaxis\":{\"endlinecolor\":\"#2a3f5f\",\"gridcolor\":\"white\",\"linecolor\":\"white\",\"minorgridcolor\":\"white\",\"startlinecolor\":\"#2a3f5f\"},\"baxis\":{\"endlinecolor\":\"#2a3f5f\",\"gridcolor\":\"white\",\"linecolor\":\"white\",\"minorgridcolor\":\"white\",\"startlinecolor\":\"#2a3f5f\"},\"type\":\"carpet\"}],\"table\":[{\"cells\":{\"fill\":{\"color\":\"#EBF0F8\"},\"line\":{\"color\":\"white\"}},\"header\":{\"fill\":{\"color\":\"#C8D4E3\"},\"line\":{\"color\":\"white\"}},\"type\":\"table\"}],\"barpolar\":[{\"marker\":{\"line\":{\"color\":\"#E5ECF6\",\"width\":0.5},\"pattern\":{\"fillmode\":\"overlay\",\"size\":10,\"solidity\":0.2}},\"type\":\"barpolar\"}],\"pie\":[{\"automargin\":true,\"type\":\"pie\"}]},\"layout\":{\"autotypenumbers\":\"strict\",\"colorway\":[\"#636efa\",\"#EF553B\",\"#00cc96\",\"#ab63fa\",\"#FFA15A\",\"#19d3f3\",\"#FF6692\",\"#B6E880\",\"#FF97FF\",\"#FECB52\"],\"font\":{\"color\":\"#2a3f5f\"},\"hovermode\":\"closest\",\"hoverlabel\":{\"align\":\"left\"},\"paper_bgcolor\":\"white\",\"plot_bgcolor\":\"#E5ECF6\",\"polar\":{\"bgcolor\":\"#E5ECF6\",\"angularaxis\":{\"gridcolor\":\"white\",\"linecolor\":\"white\",\"ticks\":\"\"},\"radialaxis\":{\"gridcolor\":\"white\",\"linecolor\":\"white\",\"ticks\":\"\"}},\"ternary\":{\"bgcolor\":\"#E5ECF6\",\"aaxis\":{\"gridcolor\":\"white\",\"linecolor\":\"white\",\"ticks\":\"\"},\"baxis\":{\"gridcolor\":\"white\",\"linecolor\":\"white\",\"ticks\":\"\"},\"caxis\":{\"gridcolor\":\"white\",\"linecolor\":\"white\",\"ticks\":\"\"}},\"coloraxis\":{\"colorbar\":{\"outlinewidth\":0,\"ticks\":\"\"}},\"colorscale\":{\"sequential\":[[0.0,\"#0d0887\"],[0.1111111111111111,\"#46039f\"],[0.2222222222222222,\"#7201a8\"],[0.3333333333333333,\"#9c179e\"],[0.4444444444444444,\"#bd3786\"],[0.5555555555555556,\"#d8576b\"],[0.6666666666666666,\"#ed7953\"],[0.7777777777777778,\"#fb9f3a\"],[0.8888888888888888,\"#fdca26\"],[1.0,\"#f0f921\"]],\"sequentialminus\":[[0.0,\"#0d0887\"],[0.1111111111111111,\"#46039f\"],[0.2222222222222222,\"#7201a8\"],[0.3333333333333333,\"#9c179e\"],[0.4444444444444444,\"#bd3786\"],[0.5555555555555556,\"#d8576b\"],[0.6666666666666666,\"#ed7953\"],[0.7777777777777778,\"#fb9f3a\"],[0.8888888888888888,\"#fdca26\"],[1.0,\"#f0f921\"]],\"diverging\":[[0,\"#8e0152\"],[0.1,\"#c51b7d\"],[0.2,\"#de77ae\"],[0.3,\"#f1b6da\"],[0.4,\"#fde0ef\"],[0.5,\"#f7f7f7\"],[0.6,\"#e6f5d0\"],[0.7,\"#b8e186\"],[0.8,\"#7fbc41\"],[0.9,\"#4d9221\"],[1,\"#276419\"]]},\"xaxis\":{\"gridcolor\":\"white\",\"linecolor\":\"white\",\"ticks\":\"\",\"title\":{\"standoff\":15},\"zerolinecolor\":\"white\",\"automargin\":true,\"zerolinewidth\":2},\"yaxis\":{\"gridcolor\":\"white\",\"linecolor\":\"white\",\"ticks\":\"\",\"title\":{\"standoff\":15},\"zerolinecolor\":\"white\",\"automargin\":true,\"zerolinewidth\":2},\"scene\":{\"xaxis\":{\"backgroundcolor\":\"#E5ECF6\",\"gridcolor\":\"white\",\"linecolor\":\"white\",\"showbackground\":true,\"ticks\":\"\",\"zerolinecolor\":\"white\",\"gridwidth\":2},\"yaxis\":{\"backgroundcolor\":\"#E5ECF6\",\"gridcolor\":\"white\",\"linecolor\":\"white\",\"showbackground\":true,\"ticks\":\"\",\"zerolinecolor\":\"white\",\"gridwidth\":2},\"zaxis\":{\"backgroundcolor\":\"#E5ECF6\",\"gridcolor\":\"white\",\"linecolor\":\"white\",\"showbackground\":true,\"ticks\":\"\",\"zerolinecolor\":\"white\",\"gridwidth\":2}},\"shapedefaults\":{\"line\":{\"color\":\"#2a3f5f\"}},\"annotationdefaults\":{\"arrowcolor\":\"#2a3f5f\",\"arrowhead\":0,\"arrowwidth\":1},\"geo\":{\"bgcolor\":\"white\",\"landcolor\":\"#E5ECF6\",\"subunitcolor\":\"white\",\"showland\":true,\"showlakes\":true,\"lakecolor\":\"white\"},\"title\":{\"x\":0.05},\"mapbox\":{\"style\":\"light\"}}},\"title\":{\"text\":\"Pie chart of Driven_Wheels\"}},                        {\"responsive\": true}                    ).then(function(){\n",
       "                            \n",
       "var gd = document.getElementById('8ca40f40-2e89-4d43-8287-ec1e0fcea395');\n",
       "var x = new MutationObserver(function (mutations, observer) {{\n",
       "        var display = window.getComputedStyle(gd).display;\n",
       "        if (!display || display === 'none') {{\n",
       "            console.log([gd, 'removed!']);\n",
       "            Plotly.purge(gd);\n",
       "            observer.disconnect();\n",
       "        }}\n",
       "}});\n",
       "\n",
       "// Listen for the removal of the full notebook cells\n",
       "var notebookContainer = gd.closest('#notebook-container');\n",
       "if (notebookContainer) {{\n",
       "    x.observe(notebookContainer, {childList: true});\n",
       "}}\n",
       "\n",
       "// Listen for the clearing of the current output cell\n",
       "var outputEl = gd.closest('.output');\n",
       "if (outputEl) {{\n",
       "    x.observe(outputEl, {childList: true});\n",
       "}}\n",
       "\n",
       "                        })                };                });            </script>        </div>"
      ]
     },
     "metadata": {},
     "output_type": "display_data"
    }
   ],
   "source": [
    "#Now trying to visualise the number of wheels used.\n",
    "\n",
    "data_wheels = data['Driven_Wheels'].value_counts()\n",
    "\n",
    "# Creating the pie chart\n",
    "fig = go.Figure(data=[go.Pie(labels=data_wheels.index, values=data_wheels.values, textinfo='label+percent',\n",
    "                             insidetextorientation='radial')])\n",
    "\n",
    "# Updating the layout\n",
    "fig.update_traces(hole=0.3, hoverinfo='label+percent+name')\n",
    "fig.update_layout(title='Pie chart of Driven_Wheels')\n",
    "\n",
    "# Displaying the pie chart\n",
    "fig.show()"
   ]
  },
  {
   "cell_type": "code",
   "execution_count": 504,
   "id": "509a2fd0",
   "metadata": {},
   "outputs": [
    {
     "name": "stderr",
     "output_type": "stream",
     "text": [
      "C:\\Users\\Asus\\anaconda3\\lib\\site-packages\\seaborn\\distributions.py:2619: FutureWarning:\n",
      "\n",
      "`distplot` is a deprecated function and will be removed in a future version. Please adapt your code to use either `displot` (a figure-level function with similar flexibility) or `histplot` (an axes-level function for histograms).\n",
      "\n",
      "C:\\Users\\Asus\\anaconda3\\lib\\site-packages\\seaborn\\distributions.py:2619: FutureWarning:\n",
      "\n",
      "`distplot` is a deprecated function and will be removed in a future version. Please adapt your code to use either `displot` (a figure-level function with similar flexibility) or `histplot` (an axes-level function for histograms).\n",
      "\n",
      "C:\\Users\\Asus\\anaconda3\\lib\\site-packages\\seaborn\\distributions.py:2619: FutureWarning:\n",
      "\n",
      "`distplot` is a deprecated function and will be removed in a future version. Please adapt your code to use either `displot` (a figure-level function with similar flexibility) or `histplot` (an axes-level function for histograms).\n",
      "\n"
     ]
    },
    {
     "data": {
      "text/plain": [
       "<AxesSubplot:xlabel='Popularity', ylabel='Density'>"
      ]
     },
     "execution_count": 504,
     "metadata": {},
     "output_type": "execute_result"
    },
    {
     "data": {
      "image/png": "[encoded data removed]",
      "text/plain": [
       "<Figure size 1500x500 with 3 Axes>"
      ]
     },
     "metadata": {},
     "output_type": "display_data"
    }
   ],
   "source": [
    "fig, axs = plt.subplots(ncols=3, figsize=(15, 5))\n",
    "sns.distplot(data.MSRP, ax=axs[0])\n",
    "sns.distplot(data.Year,ax=axs[1])\n",
    "sns.distplot( data.Popularity, ax=axs[2])"
   ]
  },
  {
   "cell_type": "code",
   "execution_count": 505,
   "id": "bc5fde4f",
   "metadata": {},
   "outputs": [],
   "source": [
    "data.rename(columns={'Engine HP': 'Engine_HP'}, inplace=True)\n",
    "data.rename(columns={'Engine Cylinders': 'Engine_Cylinders'}, inplace=True)\n",
    "data.rename(columns={'Number of Doors': 'Number_of_Doors'}, inplace=True)\n"
   ]
  },
  {
   "cell_type": "code",
   "execution_count": 506,
   "id": "564c7284",
   "metadata": {},
   "outputs": [
    {
     "name": "stderr",
     "output_type": "stream",
     "text": [
      "C:\\Users\\Asus\\anaconda3\\lib\\site-packages\\seaborn\\distributions.py:2619: FutureWarning:\n",
      "\n",
      "`distplot` is a deprecated function and will be removed in a future version. Please adapt your code to use either `displot` (a figure-level function with similar flexibility) or `histplot` (an axes-level function for histograms).\n",
      "\n",
      "C:\\Users\\Asus\\anaconda3\\lib\\site-packages\\seaborn\\distributions.py:2619: FutureWarning:\n",
      "\n",
      "`distplot` is a deprecated function and will be removed in a future version. Please adapt your code to use either `displot` (a figure-level function with similar flexibility) or `histplot` (an axes-level function for histograms).\n",
      "\n",
      "C:\\Users\\Asus\\anaconda3\\lib\\site-packages\\seaborn\\distributions.py:2619: FutureWarning:\n",
      "\n",
      "`distplot` is a deprecated function and will be removed in a future version. Please adapt your code to use either `displot` (a figure-level function with similar flexibility) or `histplot` (an axes-level function for histograms).\n",
      "\n"
     ]
    },
    {
     "data": {
      "text/plain": [
       "<AxesSubplot:xlabel='Number_of_Doors', ylabel='Density'>"
      ]
     },
     "execution_count": 506,
     "metadata": {},
     "output_type": "execute_result"
    },
    {
     "data": {
      "image/png": "[encoded data removed]",
      "text/plain": [
       "<Figure size 1500x500 with 3 Axes>"
      ]
     },
     "metadata": {},
     "output_type": "display_data"
    }
   ],
   "source": [
    "fig, axs = plt.subplots(ncols=3, figsize=(15, 5))\n",
    "sns.distplot(data.Engine_HP, ax=axs[0])\n",
    "sns.distplot(data.Engine_Cylinders,ax=axs[1])\n",
    "sns.distplot(data.Number_of_Doors, ax=axs[2])"
   ]
  },
  {
   "cell_type": "code",
   "execution_count": 507,
   "id": "fa72a9ca",
   "metadata": {},
   "outputs": [
    {
     "name": "stderr",
     "output_type": "stream",
     "text": [
      "C:\\Users\\Asus\\anaconda3\\lib\\site-packages\\seaborn\\distributions.py:2619: FutureWarning:\n",
      "\n",
      "`distplot` is a deprecated function and will be removed in a future version. Please adapt your code to use either `displot` (a figure-level function with similar flexibility) or `histplot` (an axes-level function for histograms).\n",
      "\n",
      "C:\\Users\\Asus\\anaconda3\\lib\\site-packages\\seaborn\\distributions.py:2619: FutureWarning:\n",
      "\n",
      "`distplot` is a deprecated function and will be removed in a future version. Please adapt your code to use either `displot` (a figure-level function with similar flexibility) or `histplot` (an axes-level function for histograms).\n",
      "\n",
      "C:\\Users\\Asus\\anaconda3\\lib\\site-packages\\seaborn\\distributions.py:2619: FutureWarning:\n",
      "\n",
      "`distplot` is a deprecated function and will be removed in a future version. Please adapt your code to use either `displot` (a figure-level function with similar flexibility) or `histplot` (an axes-level function for histograms).\n",
      "\n"
     ]
    },
    {
     "data": {
      "text/plain": [
       "<AxesSubplot:xlabel='Popularity', ylabel='Density'>"
      ]
     },
     "execution_count": 507,
     "metadata": {},
     "output_type": "execute_result"
    },
    {
     "data": {
      "image/png": "[encoded data removed]",
      "text/plain": [
       "<Figure size 1500x500 with 3 Axes>"
      ]
     },
     "metadata": {},
     "output_type": "display_data"
    }
   ],
   "source": [
    "fig, axs = plt.subplots(ncols=3, figsize=(15, 5))\n",
    "sns.distplot(data.MSRP, ax=axs[0])\n",
    "sns.distplot(data.Year,ax=axs[1])\n",
    "sns.distplot( data.Popularity, ax=axs[2])"
   ]
  },
  {
   "cell_type": "code",
   "execution_count": 508,
   "id": "14839bba",
   "metadata": {},
   "outputs": [],
   "source": [
    "data.rename(columns={'highway MPG': 'highway_MPG'}, inplace=True)\n",
    "data.rename(columns={'city mpg': 'city_mpg'}, inplace=True)\n"
   ]
  },
  {
   "cell_type": "code",
   "execution_count": 509,
   "id": "9d53e074",
   "metadata": {},
   "outputs": [
    {
     "name": "stderr",
     "output_type": "stream",
     "text": [
      "C:\\Users\\Asus\\anaconda3\\lib\\site-packages\\seaborn\\distributions.py:2619: FutureWarning:\n",
      "\n",
      "`distplot` is a deprecated function and will be removed in a future version. Please adapt your code to use either `displot` (a figure-level function with similar flexibility) or `histplot` (an axes-level function for histograms).\n",
      "\n",
      "C:\\Users\\Asus\\anaconda3\\lib\\site-packages\\seaborn\\distributions.py:2619: FutureWarning:\n",
      "\n",
      "`distplot` is a deprecated function and will be removed in a future version. Please adapt your code to use either `displot` (a figure-level function with similar flexibility) or `histplot` (an axes-level function for histograms).\n",
      "\n"
     ]
    },
    {
     "data": {
      "text/plain": [
       "<AxesSubplot:xlabel='city_mpg', ylabel='Density'>"
      ]
     },
     "execution_count": 509,
     "metadata": {},
     "output_type": "execute_result"
    },
    {
     "data": {
      "image/png": "[encoded data removed]",
      "text/plain": [
       "<Figure size 1500x500 with 2 Axes>"
      ]
     },
     "metadata": {},
     "output_type": "display_data"
    }
   ],
   "source": [
    "fig, axs = plt.subplots(ncols=2, figsize=(15, 5))\n",
    "sns.distplot(data.highway_MPG, ax=axs[0])\n",
    "sns.distplot(data.city_mpg,ax=axs[1])\n"
   ]
  },
  {
   "cell_type": "markdown",
   "id": "ca891a39",
   "metadata": {},
   "source": [
    "# Handling Missing Values"
   ]
  },
  {
   "cell_type": "code",
   "execution_count": 510,
   "id": "9a8dc402",
   "metadata": {},
   "outputs": [],
   "source": [
    "data.dropna(subset=['Engine Fuel Type', 'Market Category'], inplace=True)\n",
    "#We have two object columns with with nan values, dropping those 2 columns i.e, Engine Fuel Type and Market category"
   ]
  },
  {
   "cell_type": "code",
   "execution_count": 511,
   "id": "26b71efc",
   "metadata": {},
   "outputs": [
    {
     "data": {
      "text/plain": [
       "(8172, 16)"
      ]
     },
     "execution_count": 511,
     "metadata": {},
     "output_type": "execute_result"
    }
   ],
   "source": [
    "data.shape"
   ]
  },
  {
   "cell_type": "code",
   "execution_count": 512,
   "id": "5e6f64e7",
   "metadata": {},
   "outputs": [
    {
     "data": {
      "text/plain": [
       "Make                  0\n",
       "Model                 0\n",
       "Year                  0\n",
       "Engine Fuel Type      0\n",
       "Engine_HP            58\n",
       "Engine_Cylinders     30\n",
       "Transmission Type     0\n",
       "Driven_Wheels         0\n",
       "Number_of_Doors       6\n",
       "Market Category       0\n",
       "Vehicle Size          0\n",
       "Vehicle Style         0\n",
       "highway_MPG           0\n",
       "city_mpg              0\n",
       "Popularity            0\n",
       "MSRP                  0\n",
       "dtype: int64"
      ]
     },
     "execution_count": 512,
     "metadata": {},
     "output_type": "execute_result"
    }
   ],
   "source": [
    "data.isna().sum()"
   ]
  },
  {
   "cell_type": "code",
   "execution_count": 513,
   "id": "90985c47",
   "metadata": {},
   "outputs": [],
   "source": [
    "mean_value = data['Number_of_Doors'].mean()\n",
    "data['Number_of_Doors'].fillna(mean_value, inplace=True)"
   ]
  },
  {
   "cell_type": "code",
   "execution_count": 514,
   "id": "ecfccfec",
   "metadata": {},
   "outputs": [
    {
     "data": {
      "text/html": [
       "<div>\n",
       "<style scoped>\n",
       "    .dataframe tbody tr th:only-of-type {\n",
       "        vertical-align: middle;\n",
       "    }\n",
       "\n",
       "    .dataframe tbody tr th {\n",
       "        vertical-align: top;\n",
       "    }\n",
       "\n",
       "    .dataframe thead th {\n",
       "        text-align: right;\n",
       "    }\n",
       "</style>\n",
       "<table border=\"1\" class=\"dataframe\">\n",
       "  <thead>\n",
       "    <tr style=\"text-align: right;\">\n",
       "      <th></th>\n",
       "      <th>highway_MPG</th>\n",
       "      <th>Engine_Cylinders</th>\n",
       "    </tr>\n",
       "  </thead>\n",
       "  <tbody>\n",
       "    <tr>\n",
       "      <th>0</th>\n",
       "      <td>26</td>\n",
       "      <td>6.0</td>\n",
       "    </tr>\n",
       "    <tr>\n",
       "      <th>1</th>\n",
       "      <td>28</td>\n",
       "      <td>6.0</td>\n",
       "    </tr>\n",
       "    <tr>\n",
       "      <th>2</th>\n",
       "      <td>28</td>\n",
       "      <td>6.0</td>\n",
       "    </tr>\n",
       "    <tr>\n",
       "      <th>3</th>\n",
       "      <td>28</td>\n",
       "      <td>6.0</td>\n",
       "    </tr>\n",
       "    <tr>\n",
       "      <th>4</th>\n",
       "      <td>28</td>\n",
       "      <td>6.0</td>\n",
       "    </tr>\n",
       "    <tr>\n",
       "      <th>...</th>\n",
       "      <td>...</td>\n",
       "      <td>...</td>\n",
       "    </tr>\n",
       "    <tr>\n",
       "      <th>11909</th>\n",
       "      <td>23</td>\n",
       "      <td>6.0</td>\n",
       "    </tr>\n",
       "    <tr>\n",
       "      <th>11910</th>\n",
       "      <td>23</td>\n",
       "      <td>6.0</td>\n",
       "    </tr>\n",
       "    <tr>\n",
       "      <th>11911</th>\n",
       "      <td>23</td>\n",
       "      <td>6.0</td>\n",
       "    </tr>\n",
       "    <tr>\n",
       "      <th>11912</th>\n",
       "      <td>23</td>\n",
       "      <td>6.0</td>\n",
       "    </tr>\n",
       "    <tr>\n",
       "      <th>11913</th>\n",
       "      <td>26</td>\n",
       "      <td>6.0</td>\n",
       "    </tr>\n",
       "  </tbody>\n",
       "</table>\n",
       "<p>8172 rows × 2 columns</p>\n",
       "</div>"
      ],
      "text/plain": [
       "       highway_MPG  Engine_Cylinders\n",
       "0               26               6.0\n",
       "1               28               6.0\n",
       "2               28               6.0\n",
       "3               28               6.0\n",
       "4               28               6.0\n",
       "...            ...               ...\n",
       "11909           23               6.0\n",
       "11910           23               6.0\n",
       "11911           23               6.0\n",
       "11912           23               6.0\n",
       "11913           26               6.0\n",
       "\n",
       "[8172 rows x 2 columns]"
      ]
     },
     "execution_count": 514,
     "metadata": {},
     "output_type": "execute_result"
    }
   ],
   "source": [
    "#for handling missing values in Engine cylinder column using highway MPG\n",
    "cols = ['highway_MPG','Engine_Cylinders']\n",
    "X = data[cols]\n",
    "X"
   ]
  },
  {
   "cell_type": "code",
   "execution_count": 515,
   "id": "f7350642",
   "metadata": {},
   "outputs": [],
   "source": [
    "from sklearn.impute import KNNImputer\n",
    "impute_knn = KNNImputer(n_neighbors=5)\n",
    "imputed_X=impute_knn.fit_transform(X)"
   ]
  },
  {
   "cell_type": "code",
   "execution_count": 516,
   "id": "1b1abf94",
   "metadata": {},
   "outputs": [],
   "source": [
    "data['Engine_Cylinders'] = imputed_X[:,1]"
   ]
  },
  {
   "cell_type": "code",
   "execution_count": 517,
   "id": "14ea4570",
   "metadata": {},
   "outputs": [
    {
     "data": {
      "text/plain": [
       "Make                  0\n",
       "Model                 0\n",
       "Year                  0\n",
       "Engine Fuel Type      0\n",
       "Engine_HP            58\n",
       "Engine_Cylinders      0\n",
       "Transmission Type     0\n",
       "Driven_Wheels         0\n",
       "Number_of_Doors       0\n",
       "Market Category       0\n",
       "Vehicle Size          0\n",
       "Vehicle Style         0\n",
       "highway_MPG           0\n",
       "city_mpg              0\n",
       "Popularity            0\n",
       "MSRP                  0\n",
       "dtype: int64"
      ]
     },
     "execution_count": 517,
     "metadata": {},
     "output_type": "execute_result"
    }
   ],
   "source": [
    "data.isna().sum()"
   ]
  },
  {
   "cell_type": "code",
   "execution_count": 518,
   "id": "918aab69",
   "metadata": {},
   "outputs": [
    {
     "data": {
      "text/html": [
       "<div>\n",
       "<style scoped>\n",
       "    .dataframe tbody tr th:only-of-type {\n",
       "        vertical-align: middle;\n",
       "    }\n",
       "\n",
       "    .dataframe tbody tr th {\n",
       "        vertical-align: top;\n",
       "    }\n",
       "\n",
       "    .dataframe thead th {\n",
       "        text-align: right;\n",
       "    }\n",
       "</style>\n",
       "<table border=\"1\" class=\"dataframe\">\n",
       "  <thead>\n",
       "    <tr style=\"text-align: right;\">\n",
       "      <th></th>\n",
       "      <th>Engine_Cylinders</th>\n",
       "      <th>Engine_HP</th>\n",
       "    </tr>\n",
       "  </thead>\n",
       "  <tbody>\n",
       "    <tr>\n",
       "      <th>0</th>\n",
       "      <td>6.0</td>\n",
       "      <td>335.0</td>\n",
       "    </tr>\n",
       "    <tr>\n",
       "      <th>1</th>\n",
       "      <td>6.0</td>\n",
       "      <td>300.0</td>\n",
       "    </tr>\n",
       "    <tr>\n",
       "      <th>2</th>\n",
       "      <td>6.0</td>\n",
       "      <td>300.0</td>\n",
       "    </tr>\n",
       "    <tr>\n",
       "      <th>3</th>\n",
       "      <td>6.0</td>\n",
       "      <td>230.0</td>\n",
       "    </tr>\n",
       "    <tr>\n",
       "      <th>4</th>\n",
       "      <td>6.0</td>\n",
       "      <td>230.0</td>\n",
       "    </tr>\n",
       "    <tr>\n",
       "      <th>...</th>\n",
       "      <td>...</td>\n",
       "      <td>...</td>\n",
       "    </tr>\n",
       "    <tr>\n",
       "      <th>11909</th>\n",
       "      <td>6.0</td>\n",
       "      <td>300.0</td>\n",
       "    </tr>\n",
       "    <tr>\n",
       "      <th>11910</th>\n",
       "      <td>6.0</td>\n",
       "      <td>300.0</td>\n",
       "    </tr>\n",
       "    <tr>\n",
       "      <th>11911</th>\n",
       "      <td>6.0</td>\n",
       "      <td>300.0</td>\n",
       "    </tr>\n",
       "    <tr>\n",
       "      <th>11912</th>\n",
       "      <td>6.0</td>\n",
       "      <td>300.0</td>\n",
       "    </tr>\n",
       "    <tr>\n",
       "      <th>11913</th>\n",
       "      <td>6.0</td>\n",
       "      <td>221.0</td>\n",
       "    </tr>\n",
       "  </tbody>\n",
       "</table>\n",
       "<p>8172 rows × 2 columns</p>\n",
       "</div>"
      ],
      "text/plain": [
       "       Engine_Cylinders  Engine_HP\n",
       "0                   6.0      335.0\n",
       "1                   6.0      300.0\n",
       "2                   6.0      300.0\n",
       "3                   6.0      230.0\n",
       "4                   6.0      230.0\n",
       "...                 ...        ...\n",
       "11909               6.0      300.0\n",
       "11910               6.0      300.0\n",
       "11911               6.0      300.0\n",
       "11912               6.0      300.0\n",
       "11913               6.0      221.0\n",
       "\n",
       "[8172 rows x 2 columns]"
      ]
     },
     "execution_count": 518,
     "metadata": {},
     "output_type": "execute_result"
    }
   ],
   "source": [
    "#for handling missing values in Engine cylinder column using highway MPG\n",
    "cols = ['Engine_Cylinders','Engine_HP']\n",
    "X = data[cols]\n",
    "X"
   ]
  },
  {
   "cell_type": "code",
   "execution_count": 519,
   "id": "49d9363a",
   "metadata": {},
   "outputs": [],
   "source": [
    "from sklearn.impute import KNNImputer\n",
    "impute_knn = KNNImputer(n_neighbors=5)\n",
    "imputed_X=impute_knn.fit_transform(X)"
   ]
  },
  {
   "cell_type": "code",
   "execution_count": 520,
   "id": "941db87e",
   "metadata": {},
   "outputs": [],
   "source": [
    "data['Engine_HP'] = imputed_X[:,1]"
   ]
  },
  {
   "cell_type": "code",
   "execution_count": 521,
   "id": "5312a4e8",
   "metadata": {},
   "outputs": [
    {
     "data": {
      "text/plain": [
       "Make                 0\n",
       "Model                0\n",
       "Year                 0\n",
       "Engine Fuel Type     0\n",
       "Engine_HP            0\n",
       "Engine_Cylinders     0\n",
       "Transmission Type    0\n",
       "Driven_Wheels        0\n",
       "Number_of_Doors      0\n",
       "Market Category      0\n",
       "Vehicle Size         0\n",
       "Vehicle Style        0\n",
       "highway_MPG          0\n",
       "city_mpg             0\n",
       "Popularity           0\n",
       "MSRP                 0\n",
       "dtype: int64"
      ]
     },
     "execution_count": 521,
     "metadata": {},
     "output_type": "execute_result"
    }
   ],
   "source": [
    "data.isna().sum()"
   ]
  },
  {
   "cell_type": "code",
   "execution_count": 522,
   "id": "15962287",
   "metadata": {},
   "outputs": [
    {
     "data": {
      "text/html": [
       "<div>\n",
       "<style scoped>\n",
       "    .dataframe tbody tr th:only-of-type {\n",
       "        vertical-align: middle;\n",
       "    }\n",
       "\n",
       "    .dataframe tbody tr th {\n",
       "        vertical-align: top;\n",
       "    }\n",
       "\n",
       "    .dataframe thead th {\n",
       "        text-align: right;\n",
       "    }\n",
       "</style>\n",
       "<table border=\"1\" class=\"dataframe\">\n",
       "  <thead>\n",
       "    <tr style=\"text-align: right;\">\n",
       "      <th></th>\n",
       "      <th>Year</th>\n",
       "      <th>Engine_HP</th>\n",
       "      <th>Engine_Cylinders</th>\n",
       "      <th>Number_of_Doors</th>\n",
       "      <th>highway_MPG</th>\n",
       "      <th>city_mpg</th>\n",
       "      <th>Popularity</th>\n",
       "      <th>MSRP</th>\n",
       "    </tr>\n",
       "  </thead>\n",
       "  <tbody>\n",
       "    <tr>\n",
       "      <th>0</th>\n",
       "      <td>2011</td>\n",
       "      <td>335.0</td>\n",
       "      <td>6.0</td>\n",
       "      <td>2.0</td>\n",
       "      <td>26</td>\n",
       "      <td>19</td>\n",
       "      <td>3916</td>\n",
       "      <td>46135</td>\n",
       "    </tr>\n",
       "    <tr>\n",
       "      <th>1</th>\n",
       "      <td>2011</td>\n",
       "      <td>300.0</td>\n",
       "      <td>6.0</td>\n",
       "      <td>2.0</td>\n",
       "      <td>28</td>\n",
       "      <td>19</td>\n",
       "      <td>3916</td>\n",
       "      <td>40650</td>\n",
       "    </tr>\n",
       "    <tr>\n",
       "      <th>2</th>\n",
       "      <td>2011</td>\n",
       "      <td>300.0</td>\n",
       "      <td>6.0</td>\n",
       "      <td>2.0</td>\n",
       "      <td>28</td>\n",
       "      <td>20</td>\n",
       "      <td>3916</td>\n",
       "      <td>36350</td>\n",
       "    </tr>\n",
       "    <tr>\n",
       "      <th>3</th>\n",
       "      <td>2011</td>\n",
       "      <td>230.0</td>\n",
       "      <td>6.0</td>\n",
       "      <td>2.0</td>\n",
       "      <td>28</td>\n",
       "      <td>18</td>\n",
       "      <td>3916</td>\n",
       "      <td>29450</td>\n",
       "    </tr>\n",
       "    <tr>\n",
       "      <th>4</th>\n",
       "      <td>2011</td>\n",
       "      <td>230.0</td>\n",
       "      <td>6.0</td>\n",
       "      <td>2.0</td>\n",
       "      <td>28</td>\n",
       "      <td>18</td>\n",
       "      <td>3916</td>\n",
       "      <td>34500</td>\n",
       "    </tr>\n",
       "    <tr>\n",
       "      <th>...</th>\n",
       "      <td>...</td>\n",
       "      <td>...</td>\n",
       "      <td>...</td>\n",
       "      <td>...</td>\n",
       "      <td>...</td>\n",
       "      <td>...</td>\n",
       "      <td>...</td>\n",
       "      <td>...</td>\n",
       "    </tr>\n",
       "    <tr>\n",
       "      <th>11909</th>\n",
       "      <td>2012</td>\n",
       "      <td>300.0</td>\n",
       "      <td>6.0</td>\n",
       "      <td>4.0</td>\n",
       "      <td>23</td>\n",
       "      <td>16</td>\n",
       "      <td>204</td>\n",
       "      <td>46120</td>\n",
       "    </tr>\n",
       "    <tr>\n",
       "      <th>11910</th>\n",
       "      <td>2012</td>\n",
       "      <td>300.0</td>\n",
       "      <td>6.0</td>\n",
       "      <td>4.0</td>\n",
       "      <td>23</td>\n",
       "      <td>16</td>\n",
       "      <td>204</td>\n",
       "      <td>56670</td>\n",
       "    </tr>\n",
       "    <tr>\n",
       "      <th>11911</th>\n",
       "      <td>2012</td>\n",
       "      <td>300.0</td>\n",
       "      <td>6.0</td>\n",
       "      <td>4.0</td>\n",
       "      <td>23</td>\n",
       "      <td>16</td>\n",
       "      <td>204</td>\n",
       "      <td>50620</td>\n",
       "    </tr>\n",
       "    <tr>\n",
       "      <th>11912</th>\n",
       "      <td>2013</td>\n",
       "      <td>300.0</td>\n",
       "      <td>6.0</td>\n",
       "      <td>4.0</td>\n",
       "      <td>23</td>\n",
       "      <td>16</td>\n",
       "      <td>204</td>\n",
       "      <td>50920</td>\n",
       "    </tr>\n",
       "    <tr>\n",
       "      <th>11913</th>\n",
       "      <td>2006</td>\n",
       "      <td>221.0</td>\n",
       "      <td>6.0</td>\n",
       "      <td>4.0</td>\n",
       "      <td>26</td>\n",
       "      <td>17</td>\n",
       "      <td>61</td>\n",
       "      <td>28995</td>\n",
       "    </tr>\n",
       "  </tbody>\n",
       "</table>\n",
       "<p>8172 rows × 8 columns</p>\n",
       "</div>"
      ],
      "text/plain": [
       "       Year  Engine_HP  Engine_Cylinders  Number_of_Doors  highway_MPG  \\\n",
       "0      2011      335.0               6.0              2.0           26   \n",
       "1      2011      300.0               6.0              2.0           28   \n",
       "2      2011      300.0               6.0              2.0           28   \n",
       "3      2011      230.0               6.0              2.0           28   \n",
       "4      2011      230.0               6.0              2.0           28   \n",
       "...     ...        ...               ...              ...          ...   \n",
       "11909  2012      300.0               6.0              4.0           23   \n",
       "11910  2012      300.0               6.0              4.0           23   \n",
       "11911  2012      300.0               6.0              4.0           23   \n",
       "11912  2013      300.0               6.0              4.0           23   \n",
       "11913  2006      221.0               6.0              4.0           26   \n",
       "\n",
       "       city_mpg  Popularity   MSRP  \n",
       "0            19        3916  46135  \n",
       "1            19        3916  40650  \n",
       "2            20        3916  36350  \n",
       "3            18        3916  29450  \n",
       "4            18        3916  34500  \n",
       "...         ...         ...    ...  \n",
       "11909        16         204  46120  \n",
       "11910        16         204  56670  \n",
       "11911        16         204  50620  \n",
       "11912        16         204  50920  \n",
       "11913        17          61  28995  \n",
       "\n",
       "[8172 rows x 8 columns]"
      ]
     },
     "execution_count": 522,
     "metadata": {},
     "output_type": "execute_result"
    }
   ],
   "source": [
    "num_data"
   ]
  },
  {
   "cell_type": "code",
   "execution_count": 523,
   "id": "7b5bc93a",
   "metadata": {},
   "outputs": [
    {
     "data": {
      "text/html": [
       "<div>\n",
       "<style scoped>\n",
       "    .dataframe tbody tr th:only-of-type {\n",
       "        vertical-align: middle;\n",
       "    }\n",
       "\n",
       "    .dataframe tbody tr th {\n",
       "        vertical-align: top;\n",
       "    }\n",
       "\n",
       "    .dataframe thead th {\n",
       "        text-align: right;\n",
       "    }\n",
       "</style>\n",
       "<table border=\"1\" class=\"dataframe\">\n",
       "  <thead>\n",
       "    <tr style=\"text-align: right;\">\n",
       "      <th></th>\n",
       "      <th>Year</th>\n",
       "      <th>Engine_HP</th>\n",
       "      <th>Engine_Cylinders</th>\n",
       "      <th>Number_of_Doors</th>\n",
       "      <th>highway_MPG</th>\n",
       "      <th>city_mpg</th>\n",
       "      <th>Popularity</th>\n",
       "      <th>MSRP</th>\n",
       "    </tr>\n",
       "  </thead>\n",
       "  <tbody>\n",
       "    <tr>\n",
       "      <th>0</th>\n",
       "      <td>2011</td>\n",
       "      <td>335.0</td>\n",
       "      <td>6.0</td>\n",
       "      <td>2.0</td>\n",
       "      <td>26</td>\n",
       "      <td>19</td>\n",
       "      <td>3916</td>\n",
       "      <td>46135</td>\n",
       "    </tr>\n",
       "    <tr>\n",
       "      <th>1</th>\n",
       "      <td>2011</td>\n",
       "      <td>300.0</td>\n",
       "      <td>6.0</td>\n",
       "      <td>2.0</td>\n",
       "      <td>28</td>\n",
       "      <td>19</td>\n",
       "      <td>3916</td>\n",
       "      <td>40650</td>\n",
       "    </tr>\n",
       "    <tr>\n",
       "      <th>2</th>\n",
       "      <td>2011</td>\n",
       "      <td>300.0</td>\n",
       "      <td>6.0</td>\n",
       "      <td>2.0</td>\n",
       "      <td>28</td>\n",
       "      <td>20</td>\n",
       "      <td>3916</td>\n",
       "      <td>36350</td>\n",
       "    </tr>\n",
       "    <tr>\n",
       "      <th>3</th>\n",
       "      <td>2011</td>\n",
       "      <td>230.0</td>\n",
       "      <td>6.0</td>\n",
       "      <td>2.0</td>\n",
       "      <td>28</td>\n",
       "      <td>18</td>\n",
       "      <td>3916</td>\n",
       "      <td>29450</td>\n",
       "    </tr>\n",
       "    <tr>\n",
       "      <th>4</th>\n",
       "      <td>2011</td>\n",
       "      <td>230.0</td>\n",
       "      <td>6.0</td>\n",
       "      <td>2.0</td>\n",
       "      <td>28</td>\n",
       "      <td>18</td>\n",
       "      <td>3916</td>\n",
       "      <td>34500</td>\n",
       "    </tr>\n",
       "    <tr>\n",
       "      <th>...</th>\n",
       "      <td>...</td>\n",
       "      <td>...</td>\n",
       "      <td>...</td>\n",
       "      <td>...</td>\n",
       "      <td>...</td>\n",
       "      <td>...</td>\n",
       "      <td>...</td>\n",
       "      <td>...</td>\n",
       "    </tr>\n",
       "    <tr>\n",
       "      <th>11909</th>\n",
       "      <td>2012</td>\n",
       "      <td>300.0</td>\n",
       "      <td>6.0</td>\n",
       "      <td>4.0</td>\n",
       "      <td>23</td>\n",
       "      <td>16</td>\n",
       "      <td>204</td>\n",
       "      <td>46120</td>\n",
       "    </tr>\n",
       "    <tr>\n",
       "      <th>11910</th>\n",
       "      <td>2012</td>\n",
       "      <td>300.0</td>\n",
       "      <td>6.0</td>\n",
       "      <td>4.0</td>\n",
       "      <td>23</td>\n",
       "      <td>16</td>\n",
       "      <td>204</td>\n",
       "      <td>56670</td>\n",
       "    </tr>\n",
       "    <tr>\n",
       "      <th>11911</th>\n",
       "      <td>2012</td>\n",
       "      <td>300.0</td>\n",
       "      <td>6.0</td>\n",
       "      <td>4.0</td>\n",
       "      <td>23</td>\n",
       "      <td>16</td>\n",
       "      <td>204</td>\n",
       "      <td>50620</td>\n",
       "    </tr>\n",
       "    <tr>\n",
       "      <th>11912</th>\n",
       "      <td>2013</td>\n",
       "      <td>300.0</td>\n",
       "      <td>6.0</td>\n",
       "      <td>4.0</td>\n",
       "      <td>23</td>\n",
       "      <td>16</td>\n",
       "      <td>204</td>\n",
       "      <td>50920</td>\n",
       "    </tr>\n",
       "    <tr>\n",
       "      <th>11913</th>\n",
       "      <td>2006</td>\n",
       "      <td>221.0</td>\n",
       "      <td>6.0</td>\n",
       "      <td>4.0</td>\n",
       "      <td>26</td>\n",
       "      <td>17</td>\n",
       "      <td>61</td>\n",
       "      <td>28995</td>\n",
       "    </tr>\n",
       "  </tbody>\n",
       "</table>\n",
       "<p>8172 rows × 8 columns</p>\n",
       "</div>"
      ],
      "text/plain": [
       "       Year  Engine_HP  Engine_Cylinders  Number_of_Doors  highway_MPG  \\\n",
       "0      2011      335.0               6.0              2.0           26   \n",
       "1      2011      300.0               6.0              2.0           28   \n",
       "2      2011      300.0               6.0              2.0           28   \n",
       "3      2011      230.0               6.0              2.0           28   \n",
       "4      2011      230.0               6.0              2.0           28   \n",
       "...     ...        ...               ...              ...          ...   \n",
       "11909  2012      300.0               6.0              4.0           23   \n",
       "11910  2012      300.0               6.0              4.0           23   \n",
       "11911  2012      300.0               6.0              4.0           23   \n",
       "11912  2013      300.0               6.0              4.0           23   \n",
       "11913  2006      221.0               6.0              4.0           26   \n",
       "\n",
       "       city_mpg  Popularity   MSRP  \n",
       "0            19        3916  46135  \n",
       "1            19        3916  40650  \n",
       "2            20        3916  36350  \n",
       "3            18        3916  29450  \n",
       "4            18        3916  34500  \n",
       "...         ...         ...    ...  \n",
       "11909        16         204  46120  \n",
       "11910        16         204  56670  \n",
       "11911        16         204  50620  \n",
       "11912        16         204  50920  \n",
       "11913        17          61  28995  \n",
       "\n",
       "[8172 rows x 8 columns]"
      ]
     },
     "execution_count": 523,
     "metadata": {},
     "output_type": "execute_result"
    }
   ],
   "source": [
    "num_data=data.select_dtypes(include=['int64','float64'])\n",
    "num_data"
   ]
  },
  {
   "cell_type": "code",
   "execution_count": 524,
   "id": "e2189371",
   "metadata": {},
   "outputs": [
    {
     "data": {
      "text/html": [
       "<div>\n",
       "<style scoped>\n",
       "    .dataframe tbody tr th:only-of-type {\n",
       "        vertical-align: middle;\n",
       "    }\n",
       "\n",
       "    .dataframe tbody tr th {\n",
       "        vertical-align: top;\n",
       "    }\n",
       "\n",
       "    .dataframe thead th {\n",
       "        text-align: right;\n",
       "    }\n",
       "</style>\n",
       "<table border=\"1\" class=\"dataframe\">\n",
       "  <thead>\n",
       "    <tr style=\"text-align: right;\">\n",
       "      <th></th>\n",
       "      <th>Make</th>\n",
       "      <th>Model</th>\n",
       "      <th>Engine Fuel Type</th>\n",
       "      <th>Transmission Type</th>\n",
       "      <th>Driven_Wheels</th>\n",
       "      <th>Market Category</th>\n",
       "      <th>Vehicle Size</th>\n",
       "      <th>Vehicle Style</th>\n",
       "    </tr>\n",
       "  </thead>\n",
       "  <tbody>\n",
       "    <tr>\n",
       "      <th>0</th>\n",
       "      <td>BMW</td>\n",
       "      <td>1 Series M</td>\n",
       "      <td>premium unleaded (required)</td>\n",
       "      <td>MANUAL</td>\n",
       "      <td>rear wheel drive</td>\n",
       "      <td>Factory Tuner,Luxury,High-Performance</td>\n",
       "      <td>Compact</td>\n",
       "      <td>Coupe</td>\n",
       "    </tr>\n",
       "    <tr>\n",
       "      <th>1</th>\n",
       "      <td>BMW</td>\n",
       "      <td>1 Series</td>\n",
       "      <td>premium unleaded (required)</td>\n",
       "      <td>MANUAL</td>\n",
       "      <td>rear wheel drive</td>\n",
       "      <td>Luxury,Performance</td>\n",
       "      <td>Compact</td>\n",
       "      <td>Convertible</td>\n",
       "    </tr>\n",
       "    <tr>\n",
       "      <th>2</th>\n",
       "      <td>BMW</td>\n",
       "      <td>1 Series</td>\n",
       "      <td>premium unleaded (required)</td>\n",
       "      <td>MANUAL</td>\n",
       "      <td>rear wheel drive</td>\n",
       "      <td>Luxury,High-Performance</td>\n",
       "      <td>Compact</td>\n",
       "      <td>Coupe</td>\n",
       "    </tr>\n",
       "    <tr>\n",
       "      <th>3</th>\n",
       "      <td>BMW</td>\n",
       "      <td>1 Series</td>\n",
       "      <td>premium unleaded (required)</td>\n",
       "      <td>MANUAL</td>\n",
       "      <td>rear wheel drive</td>\n",
       "      <td>Luxury,Performance</td>\n",
       "      <td>Compact</td>\n",
       "      <td>Coupe</td>\n",
       "    </tr>\n",
       "    <tr>\n",
       "      <th>4</th>\n",
       "      <td>BMW</td>\n",
       "      <td>1 Series</td>\n",
       "      <td>premium unleaded (required)</td>\n",
       "      <td>MANUAL</td>\n",
       "      <td>rear wheel drive</td>\n",
       "      <td>Luxury</td>\n",
       "      <td>Compact</td>\n",
       "      <td>Convertible</td>\n",
       "    </tr>\n",
       "    <tr>\n",
       "      <th>...</th>\n",
       "      <td>...</td>\n",
       "      <td>...</td>\n",
       "      <td>...</td>\n",
       "      <td>...</td>\n",
       "      <td>...</td>\n",
       "      <td>...</td>\n",
       "      <td>...</td>\n",
       "      <td>...</td>\n",
       "    </tr>\n",
       "    <tr>\n",
       "      <th>11909</th>\n",
       "      <td>Acura</td>\n",
       "      <td>ZDX</td>\n",
       "      <td>premium unleaded (required)</td>\n",
       "      <td>AUTOMATIC</td>\n",
       "      <td>all wheel drive</td>\n",
       "      <td>Crossover,Hatchback,Luxury</td>\n",
       "      <td>Midsize</td>\n",
       "      <td>4dr Hatchback</td>\n",
       "    </tr>\n",
       "    <tr>\n",
       "      <th>11910</th>\n",
       "      <td>Acura</td>\n",
       "      <td>ZDX</td>\n",
       "      <td>premium unleaded (required)</td>\n",
       "      <td>AUTOMATIC</td>\n",
       "      <td>all wheel drive</td>\n",
       "      <td>Crossover,Hatchback,Luxury</td>\n",
       "      <td>Midsize</td>\n",
       "      <td>4dr Hatchback</td>\n",
       "    </tr>\n",
       "    <tr>\n",
       "      <th>11911</th>\n",
       "      <td>Acura</td>\n",
       "      <td>ZDX</td>\n",
       "      <td>premium unleaded (required)</td>\n",
       "      <td>AUTOMATIC</td>\n",
       "      <td>all wheel drive</td>\n",
       "      <td>Crossover,Hatchback,Luxury</td>\n",
       "      <td>Midsize</td>\n",
       "      <td>4dr Hatchback</td>\n",
       "    </tr>\n",
       "    <tr>\n",
       "      <th>11912</th>\n",
       "      <td>Acura</td>\n",
       "      <td>ZDX</td>\n",
       "      <td>premium unleaded (recommended)</td>\n",
       "      <td>AUTOMATIC</td>\n",
       "      <td>all wheel drive</td>\n",
       "      <td>Crossover,Hatchback,Luxury</td>\n",
       "      <td>Midsize</td>\n",
       "      <td>4dr Hatchback</td>\n",
       "    </tr>\n",
       "    <tr>\n",
       "      <th>11913</th>\n",
       "      <td>Lincoln</td>\n",
       "      <td>Zephyr</td>\n",
       "      <td>regular unleaded</td>\n",
       "      <td>AUTOMATIC</td>\n",
       "      <td>front wheel drive</td>\n",
       "      <td>Luxury</td>\n",
       "      <td>Midsize</td>\n",
       "      <td>Sedan</td>\n",
       "    </tr>\n",
       "  </tbody>\n",
       "</table>\n",
       "<p>8172 rows × 8 columns</p>\n",
       "</div>"
      ],
      "text/plain": [
       "          Make       Model                Engine Fuel Type Transmission Type  \\\n",
       "0          BMW  1 Series M     premium unleaded (required)            MANUAL   \n",
       "1          BMW    1 Series     premium unleaded (required)            MANUAL   \n",
       "2          BMW    1 Series     premium unleaded (required)            MANUAL   \n",
       "3          BMW    1 Series     premium unleaded (required)            MANUAL   \n",
       "4          BMW    1 Series     premium unleaded (required)            MANUAL   \n",
       "...        ...         ...                             ...               ...   \n",
       "11909    Acura         ZDX     premium unleaded (required)         AUTOMATIC   \n",
       "11910    Acura         ZDX     premium unleaded (required)         AUTOMATIC   \n",
       "11911    Acura         ZDX     premium unleaded (required)         AUTOMATIC   \n",
       "11912    Acura         ZDX  premium unleaded (recommended)         AUTOMATIC   \n",
       "11913  Lincoln      Zephyr                regular unleaded         AUTOMATIC   \n",
       "\n",
       "           Driven_Wheels                        Market Category Vehicle Size  \\\n",
       "0       rear wheel drive  Factory Tuner,Luxury,High-Performance      Compact   \n",
       "1       rear wheel drive                     Luxury,Performance      Compact   \n",
       "2       rear wheel drive                Luxury,High-Performance      Compact   \n",
       "3       rear wheel drive                     Luxury,Performance      Compact   \n",
       "4       rear wheel drive                                 Luxury      Compact   \n",
       "...                  ...                                    ...          ...   \n",
       "11909    all wheel drive             Crossover,Hatchback,Luxury      Midsize   \n",
       "11910    all wheel drive             Crossover,Hatchback,Luxury      Midsize   \n",
       "11911    all wheel drive             Crossover,Hatchback,Luxury      Midsize   \n",
       "11912    all wheel drive             Crossover,Hatchback,Luxury      Midsize   \n",
       "11913  front wheel drive                                 Luxury      Midsize   \n",
       "\n",
       "       Vehicle Style  \n",
       "0              Coupe  \n",
       "1        Convertible  \n",
       "2              Coupe  \n",
       "3              Coupe  \n",
       "4        Convertible  \n",
       "...              ...  \n",
       "11909  4dr Hatchback  \n",
       "11910  4dr Hatchback  \n",
       "11911  4dr Hatchback  \n",
       "11912  4dr Hatchback  \n",
       "11913          Sedan  \n",
       "\n",
       "[8172 rows x 8 columns]"
      ]
     },
     "execution_count": 524,
     "metadata": {},
     "output_type": "execute_result"
    }
   ],
   "source": [
    "cat_data=data.select_dtypes(include=['object'])\n",
    "cat_data"
   ]
  },
  {
   "cell_type": "markdown",
   "id": "829b24ad",
   "metadata": {},
   "source": [
    "# Detecting Outliers"
   ]
  },
  {
   "cell_type": "code",
   "execution_count": 525,
   "id": "458f6c16",
   "metadata": {},
   "outputs": [
    {
     "data": {
      "image/png": "[encoded data removed]",
      "text/plain": [
       "<Figure size 640x480 with 1 Axes>"
      ]
     },
     "metadata": {},
     "output_type": "display_data"
    },
    {
     "data": {
      "image/png": "[encoded data removed]",
      "text/plain": [
       "<Figure size 640x480 with 1 Axes>"
      ]
     },
     "metadata": {},
     "output_type": "display_data"
    },
    {
     "data": {
      "image/png": "[encoded data removed]",
      "text/plain": [
       "<Figure size 640x480 with 1 Axes>"
      ]
     },
     "metadata": {},
     "output_type": "display_data"
    },
    {
     "data": {
      "image/png": "[encoded data removed]",
      "text/plain": [
       "<Figure size 640x480 with 1 Axes>"
      ]
     },
     "metadata": {},
     "output_type": "display_data"
    },
    {
     "data": {
      "image/png": "[encoded data removed]",
      "text/plain": [
       "<Figure size 640x480 with 1 Axes>"
      ]
     },
     "metadata": {},
     "output_type": "display_data"
    },
    {
     "data": {
      "image/png": "[encoded data removed]",
      "text/plain": [
       "<Figure size 640x480 with 1 Axes>"
      ]
     },
     "metadata": {},
     "output_type": "display_data"
    },
    {
     "data": {
      "image/png": "[encoded data removed]",
      "text/plain": [
       "<Figure size 640x480 with 1 Axes>"
      ]
     },
     "metadata": {},
     "output_type": "display_data"
    },
    {
     "data": {
      "image/png": "[encoded data removed]",
      "text/plain": [
       "<Figure size 640x480 with 1 Axes>"
      ]
     },
     "metadata": {},
     "output_type": "display_data"
    }
   ],
   "source": [
    "for i in num_data:\n",
    "    sns.boxplot(x=num_data[i])\n",
    "    plt.show()"
   ]
  },
  {
   "cell_type": "code",
   "execution_count": 526,
   "id": "c6eab2f6",
   "metadata": {},
   "outputs": [
    {
     "data": {
      "text/plain": [
       "6.0"
      ]
     },
     "execution_count": 526,
     "metadata": {},
     "output_type": "execute_result"
    }
   ],
   "source": [
    "from scipy import stats\n",
    "IQR =stats.iqr(data.Year,interpolation='midpoint')\n",
    "IQR"
   ]
  },
  {
   "cell_type": "code",
   "execution_count": 527,
   "id": "63715857",
   "metadata": {},
   "outputs": [
    {
     "data": {
      "text/plain": [
       "(2001.0, 2025.0)"
      ]
     },
     "execution_count": 527,
     "metadata": {},
     "output_type": "execute_result"
    }
   ],
   "source": [
    "Q1=data.Year.quantile(0.25)\n",
    "Q3=data.Year.quantile(0.75)\n",
    "min_limit=Q1-1.5*IQR\n",
    "max_limit=Q3+1.5*IQR\n",
    "min_limit,max_limit"
   ]
  },
  {
   "cell_type": "code",
   "execution_count": 528,
   "id": "e574e5c5",
   "metadata": {},
   "outputs": [
    {
     "data": {
      "text/html": [
       "<div>\n",
       "<style scoped>\n",
       "    .dataframe tbody tr th:only-of-type {\n",
       "        vertical-align: middle;\n",
       "    }\n",
       "\n",
       "    .dataframe tbody tr th {\n",
       "        vertical-align: top;\n",
       "    }\n",
       "\n",
       "    .dataframe thead th {\n",
       "        text-align: right;\n",
       "    }\n",
       "</style>\n",
       "<table border=\"1\" class=\"dataframe\">\n",
       "  <thead>\n",
       "    <tr style=\"text-align: right;\">\n",
       "      <th></th>\n",
       "      <th>Make</th>\n",
       "      <th>Model</th>\n",
       "      <th>Year</th>\n",
       "      <th>Engine Fuel Type</th>\n",
       "      <th>Engine_HP</th>\n",
       "      <th>Engine_Cylinders</th>\n",
       "      <th>Transmission Type</th>\n",
       "      <th>Driven_Wheels</th>\n",
       "      <th>Number_of_Doors</th>\n",
       "      <th>Market Category</th>\n",
       "      <th>Vehicle Size</th>\n",
       "      <th>Vehicle Style</th>\n",
       "      <th>highway_MPG</th>\n",
       "      <th>city_mpg</th>\n",
       "      <th>Popularity</th>\n",
       "      <th>MSRP</th>\n",
       "    </tr>\n",
       "  </thead>\n",
       "  <tbody>\n",
       "    <tr>\n",
       "      <th>17</th>\n",
       "      <td>Audi</td>\n",
       "      <td>100</td>\n",
       "      <td>1992</td>\n",
       "      <td>regular unleaded</td>\n",
       "      <td>172.0</td>\n",
       "      <td>6.0</td>\n",
       "      <td>MANUAL</td>\n",
       "      <td>front wheel drive</td>\n",
       "      <td>4.0</td>\n",
       "      <td>Luxury</td>\n",
       "      <td>Midsize</td>\n",
       "      <td>Sedan</td>\n",
       "      <td>24</td>\n",
       "      <td>17</td>\n",
       "      <td>3105</td>\n",
       "      <td>2000</td>\n",
       "    </tr>\n",
       "    <tr>\n",
       "      <th>18</th>\n",
       "      <td>Audi</td>\n",
       "      <td>100</td>\n",
       "      <td>1992</td>\n",
       "      <td>regular unleaded</td>\n",
       "      <td>172.0</td>\n",
       "      <td>6.0</td>\n",
       "      <td>MANUAL</td>\n",
       "      <td>front wheel drive</td>\n",
       "      <td>4.0</td>\n",
       "      <td>Luxury</td>\n",
       "      <td>Midsize</td>\n",
       "      <td>Sedan</td>\n",
       "      <td>24</td>\n",
       "      <td>17</td>\n",
       "      <td>3105</td>\n",
       "      <td>2000</td>\n",
       "    </tr>\n",
       "    <tr>\n",
       "      <th>19</th>\n",
       "      <td>Audi</td>\n",
       "      <td>100</td>\n",
       "      <td>1992</td>\n",
       "      <td>regular unleaded</td>\n",
       "      <td>172.0</td>\n",
       "      <td>6.0</td>\n",
       "      <td>AUTOMATIC</td>\n",
       "      <td>all wheel drive</td>\n",
       "      <td>4.0</td>\n",
       "      <td>Luxury</td>\n",
       "      <td>Midsize</td>\n",
       "      <td>Wagon</td>\n",
       "      <td>20</td>\n",
       "      <td>16</td>\n",
       "      <td>3105</td>\n",
       "      <td>2000</td>\n",
       "    </tr>\n",
       "    <tr>\n",
       "      <th>20</th>\n",
       "      <td>Audi</td>\n",
       "      <td>100</td>\n",
       "      <td>1992</td>\n",
       "      <td>regular unleaded</td>\n",
       "      <td>172.0</td>\n",
       "      <td>6.0</td>\n",
       "      <td>MANUAL</td>\n",
       "      <td>front wheel drive</td>\n",
       "      <td>4.0</td>\n",
       "      <td>Luxury</td>\n",
       "      <td>Midsize</td>\n",
       "      <td>Sedan</td>\n",
       "      <td>24</td>\n",
       "      <td>17</td>\n",
       "      <td>3105</td>\n",
       "      <td>2000</td>\n",
       "    </tr>\n",
       "    <tr>\n",
       "      <th>21</th>\n",
       "      <td>Audi</td>\n",
       "      <td>100</td>\n",
       "      <td>1992</td>\n",
       "      <td>regular unleaded</td>\n",
       "      <td>172.0</td>\n",
       "      <td>6.0</td>\n",
       "      <td>MANUAL</td>\n",
       "      <td>all wheel drive</td>\n",
       "      <td>4.0</td>\n",
       "      <td>Luxury</td>\n",
       "      <td>Midsize</td>\n",
       "      <td>Sedan</td>\n",
       "      <td>21</td>\n",
       "      <td>16</td>\n",
       "      <td>3105</td>\n",
       "      <td>2000</td>\n",
       "    </tr>\n",
       "    <tr>\n",
       "      <th>...</th>\n",
       "      <td>...</td>\n",
       "      <td>...</td>\n",
       "      <td>...</td>\n",
       "      <td>...</td>\n",
       "      <td>...</td>\n",
       "      <td>...</td>\n",
       "      <td>...</td>\n",
       "      <td>...</td>\n",
       "      <td>...</td>\n",
       "      <td>...</td>\n",
       "      <td>...</td>\n",
       "      <td>...</td>\n",
       "      <td>...</td>\n",
       "      <td>...</td>\n",
       "      <td>...</td>\n",
       "      <td>...</td>\n",
       "    </tr>\n",
       "    <tr>\n",
       "      <th>11425</th>\n",
       "      <td>Plymouth</td>\n",
       "      <td>Voyager</td>\n",
       "      <td>2000</td>\n",
       "      <td>flex-fuel (unleaded/E85)</td>\n",
       "      <td>158.0</td>\n",
       "      <td>6.0</td>\n",
       "      <td>AUTOMATIC</td>\n",
       "      <td>front wheel drive</td>\n",
       "      <td>4.0</td>\n",
       "      <td>Flex Fuel</td>\n",
       "      <td>Midsize</td>\n",
       "      <td>Passenger Minivan</td>\n",
       "      <td>23</td>\n",
       "      <td>16</td>\n",
       "      <td>535</td>\n",
       "      <td>2317</td>\n",
       "    </tr>\n",
       "    <tr>\n",
       "      <th>11832</th>\n",
       "      <td>GMC</td>\n",
       "      <td>Yukon Denali</td>\n",
       "      <td>2000</td>\n",
       "      <td>regular unleaded</td>\n",
       "      <td>255.0</td>\n",
       "      <td>8.0</td>\n",
       "      <td>AUTOMATIC</td>\n",
       "      <td>four wheel drive</td>\n",
       "      <td>4.0</td>\n",
       "      <td>Luxury</td>\n",
       "      <td>Large</td>\n",
       "      <td>4dr SUV</td>\n",
       "      <td>15</td>\n",
       "      <td>11</td>\n",
       "      <td>549</td>\n",
       "      <td>3949</td>\n",
       "    </tr>\n",
       "    <tr>\n",
       "      <th>11881</th>\n",
       "      <td>BMW</td>\n",
       "      <td>Z3</td>\n",
       "      <td>2000</td>\n",
       "      <td>regular unleaded</td>\n",
       "      <td>193.0</td>\n",
       "      <td>6.0</td>\n",
       "      <td>MANUAL</td>\n",
       "      <td>rear wheel drive</td>\n",
       "      <td>2.0</td>\n",
       "      <td>Luxury,Performance</td>\n",
       "      <td>Compact</td>\n",
       "      <td>Convertible</td>\n",
       "      <td>24</td>\n",
       "      <td>17</td>\n",
       "      <td>3916</td>\n",
       "      <td>4976</td>\n",
       "    </tr>\n",
       "    <tr>\n",
       "      <th>11882</th>\n",
       "      <td>BMW</td>\n",
       "      <td>Z3</td>\n",
       "      <td>2000</td>\n",
       "      <td>regular unleaded</td>\n",
       "      <td>193.0</td>\n",
       "      <td>6.0</td>\n",
       "      <td>MANUAL</td>\n",
       "      <td>rear wheel drive</td>\n",
       "      <td>2.0</td>\n",
       "      <td>Hatchback,Luxury,Performance</td>\n",
       "      <td>Compact</td>\n",
       "      <td>2dr Hatchback</td>\n",
       "      <td>24</td>\n",
       "      <td>17</td>\n",
       "      <td>3916</td>\n",
       "      <td>4697</td>\n",
       "    </tr>\n",
       "    <tr>\n",
       "      <th>11883</th>\n",
       "      <td>BMW</td>\n",
       "      <td>Z3</td>\n",
       "      <td>2000</td>\n",
       "      <td>regular unleaded</td>\n",
       "      <td>170.0</td>\n",
       "      <td>6.0</td>\n",
       "      <td>MANUAL</td>\n",
       "      <td>rear wheel drive</td>\n",
       "      <td>2.0</td>\n",
       "      <td>Luxury,Performance</td>\n",
       "      <td>Compact</td>\n",
       "      <td>Convertible</td>\n",
       "      <td>25</td>\n",
       "      <td>17</td>\n",
       "      <td>3916</td>\n",
       "      <td>4755</td>\n",
       "    </tr>\n",
       "  </tbody>\n",
       "</table>\n",
       "<p>646 rows × 16 columns</p>\n",
       "</div>"
      ],
      "text/plain": [
       "           Make         Model  Year          Engine Fuel Type  Engine_HP  \\\n",
       "17         Audi           100  1992          regular unleaded      172.0   \n",
       "18         Audi           100  1992          regular unleaded      172.0   \n",
       "19         Audi           100  1992          regular unleaded      172.0   \n",
       "20         Audi           100  1992          regular unleaded      172.0   \n",
       "21         Audi           100  1992          regular unleaded      172.0   \n",
       "...         ...           ...   ...                       ...        ...   \n",
       "11425  Plymouth       Voyager  2000  flex-fuel (unleaded/E85)      158.0   \n",
       "11832       GMC  Yukon Denali  2000          regular unleaded      255.0   \n",
       "11881       BMW            Z3  2000          regular unleaded      193.0   \n",
       "11882       BMW            Z3  2000          regular unleaded      193.0   \n",
       "11883       BMW            Z3  2000          regular unleaded      170.0   \n",
       "\n",
       "       Engine_Cylinders Transmission Type      Driven_Wheels  Number_of_Doors  \\\n",
       "17                  6.0            MANUAL  front wheel drive              4.0   \n",
       "18                  6.0            MANUAL  front wheel drive              4.0   \n",
       "19                  6.0         AUTOMATIC    all wheel drive              4.0   \n",
       "20                  6.0            MANUAL  front wheel drive              4.0   \n",
       "21                  6.0            MANUAL    all wheel drive              4.0   \n",
       "...                 ...               ...                ...              ...   \n",
       "11425               6.0         AUTOMATIC  front wheel drive              4.0   \n",
       "11832               8.0         AUTOMATIC   four wheel drive              4.0   \n",
       "11881               6.0            MANUAL   rear wheel drive              2.0   \n",
       "11882               6.0            MANUAL   rear wheel drive              2.0   \n",
       "11883               6.0            MANUAL   rear wheel drive              2.0   \n",
       "\n",
       "                    Market Category Vehicle Size      Vehicle Style  \\\n",
       "17                           Luxury      Midsize              Sedan   \n",
       "18                           Luxury      Midsize              Sedan   \n",
       "19                           Luxury      Midsize              Wagon   \n",
       "20                           Luxury      Midsize              Sedan   \n",
       "21                           Luxury      Midsize              Sedan   \n",
       "...                             ...          ...                ...   \n",
       "11425                     Flex Fuel      Midsize  Passenger Minivan   \n",
       "11832                        Luxury        Large            4dr SUV   \n",
       "11881            Luxury,Performance      Compact        Convertible   \n",
       "11882  Hatchback,Luxury,Performance      Compact      2dr Hatchback   \n",
       "11883            Luxury,Performance      Compact        Convertible   \n",
       "\n",
       "       highway_MPG  city_mpg  Popularity  MSRP  \n",
       "17              24        17        3105  2000  \n",
       "18              24        17        3105  2000  \n",
       "19              20        16        3105  2000  \n",
       "20              24        17        3105  2000  \n",
       "21              21        16        3105  2000  \n",
       "...            ...       ...         ...   ...  \n",
       "11425           23        16         535  2317  \n",
       "11832           15        11         549  3949  \n",
       "11881           24        17        3916  4976  \n",
       "11882           24        17        3916  4697  \n",
       "11883           25        17        3916  4755  \n",
       "\n",
       "[646 rows x 16 columns]"
      ]
     },
     "execution_count": 528,
     "metadata": {},
     "output_type": "execute_result"
    }
   ],
   "source": [
    "data.loc[data.Year<min_limit]"
   ]
  },
  {
   "cell_type": "code",
   "execution_count": 529,
   "id": "a7ff5319",
   "metadata": {},
   "outputs": [
    {
     "data": {
      "text/html": [
       "<div>\n",
       "<style scoped>\n",
       "    .dataframe tbody tr th:only-of-type {\n",
       "        vertical-align: middle;\n",
       "    }\n",
       "\n",
       "    .dataframe tbody tr th {\n",
       "        vertical-align: top;\n",
       "    }\n",
       "\n",
       "    .dataframe thead th {\n",
       "        text-align: right;\n",
       "    }\n",
       "</style>\n",
       "<table border=\"1\" class=\"dataframe\">\n",
       "  <thead>\n",
       "    <tr style=\"text-align: right;\">\n",
       "      <th></th>\n",
       "      <th>Make</th>\n",
       "      <th>Model</th>\n",
       "      <th>Year</th>\n",
       "      <th>Engine Fuel Type</th>\n",
       "      <th>Engine_HP</th>\n",
       "      <th>Engine_Cylinders</th>\n",
       "      <th>Transmission Type</th>\n",
       "      <th>Driven_Wheels</th>\n",
       "      <th>Number_of_Doors</th>\n",
       "      <th>Market Category</th>\n",
       "      <th>Vehicle Size</th>\n",
       "      <th>Vehicle Style</th>\n",
       "      <th>highway_MPG</th>\n",
       "      <th>city_mpg</th>\n",
       "      <th>Popularity</th>\n",
       "      <th>MSRP</th>\n",
       "    </tr>\n",
       "  </thead>\n",
       "  <tbody>\n",
       "  </tbody>\n",
       "</table>\n",
       "</div>"
      ],
      "text/plain": [
       "Empty DataFrame\n",
       "Columns: [Make, Model, Year, Engine Fuel Type, Engine_HP, Engine_Cylinders, Transmission Type, Driven_Wheels, Number_of_Doors, Market Category, Vehicle Size, Vehicle Style, highway_MPG, city_mpg, Popularity, MSRP]\n",
       "Index: []"
      ]
     },
     "execution_count": 529,
     "metadata": {},
     "output_type": "execute_result"
    }
   ],
   "source": [
    "data.loc[data.Year>max_limit]"
   ]
  },
  {
   "cell_type": "code",
   "execution_count": 530,
   "id": "76e23e65",
   "metadata": {},
   "outputs": [],
   "source": [
    "data.loc[data['Year']<min_limit,'Year']=np.median(data.Year)\n"
   ]
  },
  {
   "cell_type": "code",
   "execution_count": 531,
   "id": "1a71a60d",
   "metadata": {},
   "outputs": [
    {
     "data": {
      "text/html": [
       "<div>\n",
       "<style scoped>\n",
       "    .dataframe tbody tr th:only-of-type {\n",
       "        vertical-align: middle;\n",
       "    }\n",
       "\n",
       "    .dataframe tbody tr th {\n",
       "        vertical-align: top;\n",
       "    }\n",
       "\n",
       "    .dataframe thead th {\n",
       "        text-align: right;\n",
       "    }\n",
       "</style>\n",
       "<table border=\"1\" class=\"dataframe\">\n",
       "  <thead>\n",
       "    <tr style=\"text-align: right;\">\n",
       "      <th></th>\n",
       "      <th>Make</th>\n",
       "      <th>Model</th>\n",
       "      <th>Year</th>\n",
       "      <th>Engine Fuel Type</th>\n",
       "      <th>Engine_HP</th>\n",
       "      <th>Engine_Cylinders</th>\n",
       "      <th>Transmission Type</th>\n",
       "      <th>Driven_Wheels</th>\n",
       "      <th>Number_of_Doors</th>\n",
       "      <th>Market Category</th>\n",
       "      <th>Vehicle Size</th>\n",
       "      <th>Vehicle Style</th>\n",
       "      <th>highway_MPG</th>\n",
       "      <th>city_mpg</th>\n",
       "      <th>Popularity</th>\n",
       "      <th>MSRP</th>\n",
       "    </tr>\n",
       "  </thead>\n",
       "  <tbody>\n",
       "  </tbody>\n",
       "</table>\n",
       "</div>"
      ],
      "text/plain": [
       "Empty DataFrame\n",
       "Columns: [Make, Model, Year, Engine Fuel Type, Engine_HP, Engine_Cylinders, Transmission Type, Driven_Wheels, Number_of_Doors, Market Category, Vehicle Size, Vehicle Style, highway_MPG, city_mpg, Popularity, MSRP]\n",
       "Index: []"
      ]
     },
     "execution_count": 531,
     "metadata": {},
     "output_type": "execute_result"
    }
   ],
   "source": [
    "data.loc[data.Year<min_limit]"
   ]
  },
  {
   "cell_type": "code",
   "execution_count": null,
   "id": "e0ab2b70",
   "metadata": {},
   "outputs": [],
   "source": []
  },
  {
   "cell_type": "code",
   "execution_count": 532,
   "id": "fd953229",
   "metadata": {},
   "outputs": [
    {
     "data": {
      "text/plain": [
       "(-6.0, 515.75)"
      ]
     },
     "execution_count": 532,
     "metadata": {},
     "output_type": "execute_result"
    }
   ],
   "source": [
    "IQR =stats.iqr(data.Engine_HP,interpolation='midpoint')\n",
    "Q1=data.Engine_HP.quantile(0.25)\n",
    "Q3=data.Engine_HP.quantile(0.75)\n",
    "min_limit=Q1-1.5*IQR\n",
    "max_limit=Q3+1.5*IQR\n",
    "min_limit,max_limit\n"
   ]
  },
  {
   "cell_type": "code",
   "execution_count": 533,
   "id": "37a6ca7d",
   "metadata": {},
   "outputs": [
    {
     "data": {
      "text/html": [
       "<div>\n",
       "<style scoped>\n",
       "    .dataframe tbody tr th:only-of-type {\n",
       "        vertical-align: middle;\n",
       "    }\n",
       "\n",
       "    .dataframe tbody tr th {\n",
       "        vertical-align: top;\n",
       "    }\n",
       "\n",
       "    .dataframe thead th {\n",
       "        text-align: right;\n",
       "    }\n",
       "</style>\n",
       "<table border=\"1\" class=\"dataframe\">\n",
       "  <thead>\n",
       "    <tr style=\"text-align: right;\">\n",
       "      <th></th>\n",
       "      <th>Make</th>\n",
       "      <th>Model</th>\n",
       "      <th>Year</th>\n",
       "      <th>Engine Fuel Type</th>\n",
       "      <th>Engine_HP</th>\n",
       "      <th>Engine_Cylinders</th>\n",
       "      <th>Transmission Type</th>\n",
       "      <th>Driven_Wheels</th>\n",
       "      <th>Number_of_Doors</th>\n",
       "      <th>Market Category</th>\n",
       "      <th>Vehicle Size</th>\n",
       "      <th>Vehicle Style</th>\n",
       "      <th>highway_MPG</th>\n",
       "      <th>city_mpg</th>\n",
       "      <th>Popularity</th>\n",
       "      <th>MSRP</th>\n",
       "    </tr>\n",
       "  </thead>\n",
       "  <tbody>\n",
       "  </tbody>\n",
       "</table>\n",
       "</div>"
      ],
      "text/plain": [
       "Empty DataFrame\n",
       "Columns: [Make, Model, Year, Engine Fuel Type, Engine_HP, Engine_Cylinders, Transmission Type, Driven_Wheels, Number_of_Doors, Market Category, Vehicle Size, Vehicle Style, highway_MPG, city_mpg, Popularity, MSRP]\n",
       "Index: []"
      ]
     },
     "execution_count": 533,
     "metadata": {},
     "output_type": "execute_result"
    }
   ],
   "source": [
    "data.loc[data.Engine_HP<min_limit]"
   ]
  },
  {
   "cell_type": "code",
   "execution_count": 534,
   "id": "ce45d525",
   "metadata": {},
   "outputs": [
    {
     "data": {
      "text/html": [
       "<div>\n",
       "<style scoped>\n",
       "    .dataframe tbody tr th:only-of-type {\n",
       "        vertical-align: middle;\n",
       "    }\n",
       "\n",
       "    .dataframe tbody tr th {\n",
       "        vertical-align: top;\n",
       "    }\n",
       "\n",
       "    .dataframe thead th {\n",
       "        text-align: right;\n",
       "    }\n",
       "</style>\n",
       "<table border=\"1\" class=\"dataframe\">\n",
       "  <thead>\n",
       "    <tr style=\"text-align: right;\">\n",
       "      <th></th>\n",
       "      <th>Make</th>\n",
       "      <th>Model</th>\n",
       "      <th>Year</th>\n",
       "      <th>Engine Fuel Type</th>\n",
       "      <th>Engine_HP</th>\n",
       "      <th>Engine_Cylinders</th>\n",
       "      <th>Transmission Type</th>\n",
       "      <th>Driven_Wheels</th>\n",
       "      <th>Number_of_Doors</th>\n",
       "      <th>Market Category</th>\n",
       "      <th>Vehicle Size</th>\n",
       "      <th>Vehicle Style</th>\n",
       "      <th>highway_MPG</th>\n",
       "      <th>city_mpg</th>\n",
       "      <th>Popularity</th>\n",
       "      <th>MSRP</th>\n",
       "    </tr>\n",
       "  </thead>\n",
       "  <tbody>\n",
       "    <tr>\n",
       "      <th>466</th>\n",
       "      <td>Ferrari</td>\n",
       "      <td>458 Italia</td>\n",
       "      <td>2013</td>\n",
       "      <td>premium unleaded (required)</td>\n",
       "      <td>562.0</td>\n",
       "      <td>8.0</td>\n",
       "      <td>AUTOMATED_MANUAL</td>\n",
       "      <td>rear wheel drive</td>\n",
       "      <td>2.0</td>\n",
       "      <td>Exotic,High-Performance</td>\n",
       "      <td>Compact</td>\n",
       "      <td>Convertible</td>\n",
       "      <td>17</td>\n",
       "      <td>13</td>\n",
       "      <td>2774</td>\n",
       "      <td>257412</td>\n",
       "    </tr>\n",
       "    <tr>\n",
       "      <th>467</th>\n",
       "      <td>Ferrari</td>\n",
       "      <td>458 Italia</td>\n",
       "      <td>2013</td>\n",
       "      <td>premium unleaded (required)</td>\n",
       "      <td>562.0</td>\n",
       "      <td>8.0</td>\n",
       "      <td>AUTOMATED_MANUAL</td>\n",
       "      <td>rear wheel drive</td>\n",
       "      <td>2.0</td>\n",
       "      <td>Exotic,High-Performance</td>\n",
       "      <td>Compact</td>\n",
       "      <td>Coupe</td>\n",
       "      <td>17</td>\n",
       "      <td>13</td>\n",
       "      <td>2774</td>\n",
       "      <td>233509</td>\n",
       "    </tr>\n",
       "    <tr>\n",
       "      <th>468</th>\n",
       "      <td>Ferrari</td>\n",
       "      <td>458 Italia</td>\n",
       "      <td>2014</td>\n",
       "      <td>premium unleaded (required)</td>\n",
       "      <td>562.0</td>\n",
       "      <td>8.0</td>\n",
       "      <td>AUTOMATED_MANUAL</td>\n",
       "      <td>rear wheel drive</td>\n",
       "      <td>2.0</td>\n",
       "      <td>Exotic,High-Performance</td>\n",
       "      <td>Compact</td>\n",
       "      <td>Coupe</td>\n",
       "      <td>17</td>\n",
       "      <td>13</td>\n",
       "      <td>2774</td>\n",
       "      <td>233509</td>\n",
       "    </tr>\n",
       "    <tr>\n",
       "      <th>469</th>\n",
       "      <td>Ferrari</td>\n",
       "      <td>458 Italia</td>\n",
       "      <td>2014</td>\n",
       "      <td>premium unleaded (required)</td>\n",
       "      <td>597.0</td>\n",
       "      <td>8.0</td>\n",
       "      <td>AUTOMATED_MANUAL</td>\n",
       "      <td>rear wheel drive</td>\n",
       "      <td>2.0</td>\n",
       "      <td>Exotic,High-Performance</td>\n",
       "      <td>Compact</td>\n",
       "      <td>Coupe</td>\n",
       "      <td>17</td>\n",
       "      <td>13</td>\n",
       "      <td>2774</td>\n",
       "      <td>288000</td>\n",
       "    </tr>\n",
       "    <tr>\n",
       "      <th>470</th>\n",
       "      <td>Ferrari</td>\n",
       "      <td>458 Italia</td>\n",
       "      <td>2014</td>\n",
       "      <td>premium unleaded (required)</td>\n",
       "      <td>562.0</td>\n",
       "      <td>8.0</td>\n",
       "      <td>AUTOMATED_MANUAL</td>\n",
       "      <td>rear wheel drive</td>\n",
       "      <td>2.0</td>\n",
       "      <td>Exotic,High-Performance</td>\n",
       "      <td>Compact</td>\n",
       "      <td>Convertible</td>\n",
       "      <td>17</td>\n",
       "      <td>13</td>\n",
       "      <td>2774</td>\n",
       "      <td>257412</td>\n",
       "    </tr>\n",
       "    <tr>\n",
       "      <th>...</th>\n",
       "      <td>...</td>\n",
       "      <td>...</td>\n",
       "      <td>...</td>\n",
       "      <td>...</td>\n",
       "      <td>...</td>\n",
       "      <td>...</td>\n",
       "      <td>...</td>\n",
       "      <td>...</td>\n",
       "      <td>...</td>\n",
       "      <td>...</td>\n",
       "      <td>...</td>\n",
       "      <td>...</td>\n",
       "      <td>...</td>\n",
       "      <td>...</td>\n",
       "      <td>...</td>\n",
       "      <td>...</td>\n",
       "    </tr>\n",
       "    <tr>\n",
       "      <th>11509</th>\n",
       "      <td>BMW</td>\n",
       "      <td>X5 M</td>\n",
       "      <td>2016</td>\n",
       "      <td>premium unleaded (required)</td>\n",
       "      <td>567.0</td>\n",
       "      <td>8.0</td>\n",
       "      <td>AUTOMATIC</td>\n",
       "      <td>all wheel drive</td>\n",
       "      <td>4.0</td>\n",
       "      <td>Crossover,Factory Tuner,Luxury,High-Performance</td>\n",
       "      <td>Midsize</td>\n",
       "      <td>4dr SUV</td>\n",
       "      <td>19</td>\n",
       "      <td>14</td>\n",
       "      <td>3916</td>\n",
       "      <td>98800</td>\n",
       "    </tr>\n",
       "    <tr>\n",
       "      <th>11510</th>\n",
       "      <td>BMW</td>\n",
       "      <td>X5 M</td>\n",
       "      <td>2017</td>\n",
       "      <td>premium unleaded (required)</td>\n",
       "      <td>567.0</td>\n",
       "      <td>8.0</td>\n",
       "      <td>AUTOMATIC</td>\n",
       "      <td>all wheel drive</td>\n",
       "      <td>4.0</td>\n",
       "      <td>Crossover,Factory Tuner,Luxury,High-Performance</td>\n",
       "      <td>Midsize</td>\n",
       "      <td>4dr SUV</td>\n",
       "      <td>19</td>\n",
       "      <td>14</td>\n",
       "      <td>3916</td>\n",
       "      <td>98800</td>\n",
       "    </tr>\n",
       "    <tr>\n",
       "      <th>11523</th>\n",
       "      <td>BMW</td>\n",
       "      <td>X6 M</td>\n",
       "      <td>2015</td>\n",
       "      <td>premium unleaded (required)</td>\n",
       "      <td>567.0</td>\n",
       "      <td>8.0</td>\n",
       "      <td>AUTOMATIC</td>\n",
       "      <td>all wheel drive</td>\n",
       "      <td>4.0</td>\n",
       "      <td>Crossover,Factory Tuner,Luxury,High-Performance</td>\n",
       "      <td>Midsize</td>\n",
       "      <td>4dr SUV</td>\n",
       "      <td>19</td>\n",
       "      <td>14</td>\n",
       "      <td>3916</td>\n",
       "      <td>102100</td>\n",
       "    </tr>\n",
       "    <tr>\n",
       "      <th>11524</th>\n",
       "      <td>BMW</td>\n",
       "      <td>X6 M</td>\n",
       "      <td>2016</td>\n",
       "      <td>premium unleaded (required)</td>\n",
       "      <td>567.0</td>\n",
       "      <td>8.0</td>\n",
       "      <td>AUTOMATIC</td>\n",
       "      <td>all wheel drive</td>\n",
       "      <td>4.0</td>\n",
       "      <td>Crossover,Factory Tuner,Luxury,High-Performance</td>\n",
       "      <td>Midsize</td>\n",
       "      <td>4dr SUV</td>\n",
       "      <td>19</td>\n",
       "      <td>14</td>\n",
       "      <td>3916</td>\n",
       "      <td>102200</td>\n",
       "    </tr>\n",
       "    <tr>\n",
       "      <th>11525</th>\n",
       "      <td>BMW</td>\n",
       "      <td>X6 M</td>\n",
       "      <td>2017</td>\n",
       "      <td>premium unleaded (required)</td>\n",
       "      <td>567.0</td>\n",
       "      <td>8.0</td>\n",
       "      <td>AUTOMATIC</td>\n",
       "      <td>all wheel drive</td>\n",
       "      <td>4.0</td>\n",
       "      <td>Crossover,Factory Tuner,Luxury,High-Performance</td>\n",
       "      <td>Midsize</td>\n",
       "      <td>4dr SUV</td>\n",
       "      <td>19</td>\n",
       "      <td>14</td>\n",
       "      <td>3916</td>\n",
       "      <td>102200</td>\n",
       "    </tr>\n",
       "  </tbody>\n",
       "</table>\n",
       "<p>410 rows × 16 columns</p>\n",
       "</div>"
      ],
      "text/plain": [
       "          Make       Model  Year             Engine Fuel Type  Engine_HP  \\\n",
       "466    Ferrari  458 Italia  2013  premium unleaded (required)      562.0   \n",
       "467    Ferrari  458 Italia  2013  premium unleaded (required)      562.0   \n",
       "468    Ferrari  458 Italia  2014  premium unleaded (required)      562.0   \n",
       "469    Ferrari  458 Italia  2014  premium unleaded (required)      597.0   \n",
       "470    Ferrari  458 Italia  2014  premium unleaded (required)      562.0   \n",
       "...        ...         ...   ...                          ...        ...   \n",
       "11509      BMW        X5 M  2016  premium unleaded (required)      567.0   \n",
       "11510      BMW        X5 M  2017  premium unleaded (required)      567.0   \n",
       "11523      BMW        X6 M  2015  premium unleaded (required)      567.0   \n",
       "11524      BMW        X6 M  2016  premium unleaded (required)      567.0   \n",
       "11525      BMW        X6 M  2017  premium unleaded (required)      567.0   \n",
       "\n",
       "       Engine_Cylinders Transmission Type     Driven_Wheels  Number_of_Doors  \\\n",
       "466                 8.0  AUTOMATED_MANUAL  rear wheel drive              2.0   \n",
       "467                 8.0  AUTOMATED_MANUAL  rear wheel drive              2.0   \n",
       "468                 8.0  AUTOMATED_MANUAL  rear wheel drive              2.0   \n",
       "469                 8.0  AUTOMATED_MANUAL  rear wheel drive              2.0   \n",
       "470                 8.0  AUTOMATED_MANUAL  rear wheel drive              2.0   \n",
       "...                 ...               ...               ...              ...   \n",
       "11509               8.0         AUTOMATIC   all wheel drive              4.0   \n",
       "11510               8.0         AUTOMATIC   all wheel drive              4.0   \n",
       "11523               8.0         AUTOMATIC   all wheel drive              4.0   \n",
       "11524               8.0         AUTOMATIC   all wheel drive              4.0   \n",
       "11525               8.0         AUTOMATIC   all wheel drive              4.0   \n",
       "\n",
       "                                       Market Category Vehicle Size  \\\n",
       "466                            Exotic,High-Performance      Compact   \n",
       "467                            Exotic,High-Performance      Compact   \n",
       "468                            Exotic,High-Performance      Compact   \n",
       "469                            Exotic,High-Performance      Compact   \n",
       "470                            Exotic,High-Performance      Compact   \n",
       "...                                                ...          ...   \n",
       "11509  Crossover,Factory Tuner,Luxury,High-Performance      Midsize   \n",
       "11510  Crossover,Factory Tuner,Luxury,High-Performance      Midsize   \n",
       "11523  Crossover,Factory Tuner,Luxury,High-Performance      Midsize   \n",
       "11524  Crossover,Factory Tuner,Luxury,High-Performance      Midsize   \n",
       "11525  Crossover,Factory Tuner,Luxury,High-Performance      Midsize   \n",
       "\n",
       "      Vehicle Style  highway_MPG  city_mpg  Popularity    MSRP  \n",
       "466     Convertible           17        13        2774  257412  \n",
       "467           Coupe           17        13        2774  233509  \n",
       "468           Coupe           17        13        2774  233509  \n",
       "469           Coupe           17        13        2774  288000  \n",
       "470     Convertible           17        13        2774  257412  \n",
       "...             ...          ...       ...         ...     ...  \n",
       "11509       4dr SUV           19        14        3916   98800  \n",
       "11510       4dr SUV           19        14        3916   98800  \n",
       "11523       4dr SUV           19        14        3916  102100  \n",
       "11524       4dr SUV           19        14        3916  102200  \n",
       "11525       4dr SUV           19        14        3916  102200  \n",
       "\n",
       "[410 rows x 16 columns]"
      ]
     },
     "execution_count": 534,
     "metadata": {},
     "output_type": "execute_result"
    }
   ],
   "source": [
    "data.loc[data.Engine_HP>max_limit]"
   ]
  },
  {
   "cell_type": "code",
   "execution_count": 535,
   "id": "675d3f4b",
   "metadata": {},
   "outputs": [],
   "source": [
    "data.loc[data['Engine_HP']>max_limit,'Engine_HP']=np.median(data.Engine_HP)\n"
   ]
  },
  {
   "cell_type": "code",
   "execution_count": 472,
   "id": "4f996add",
   "metadata": {},
   "outputs": [
    {
     "data": {
      "text/html": [
       "<div>\n",
       "<style scoped>\n",
       "    .dataframe tbody tr th:only-of-type {\n",
       "        vertical-align: middle;\n",
       "    }\n",
       "\n",
       "    .dataframe tbody tr th {\n",
       "        vertical-align: top;\n",
       "    }\n",
       "\n",
       "    .dataframe thead th {\n",
       "        text-align: right;\n",
       "    }\n",
       "</style>\n",
       "<table border=\"1\" class=\"dataframe\">\n",
       "  <thead>\n",
       "    <tr style=\"text-align: right;\">\n",
       "      <th></th>\n",
       "      <th>Make</th>\n",
       "      <th>Model</th>\n",
       "      <th>Year</th>\n",
       "      <th>Engine Fuel Type</th>\n",
       "      <th>Engine_HP</th>\n",
       "      <th>Engine_Cylinders</th>\n",
       "      <th>Transmission Type</th>\n",
       "      <th>Driven_Wheels</th>\n",
       "      <th>Number_of_Doors</th>\n",
       "      <th>Market Category</th>\n",
       "      <th>Vehicle Size</th>\n",
       "      <th>Vehicle Style</th>\n",
       "      <th>highway_MPG</th>\n",
       "      <th>city_mpg</th>\n",
       "      <th>Popularity</th>\n",
       "      <th>MSRP</th>\n",
       "    </tr>\n",
       "  </thead>\n",
       "  <tbody>\n",
       "  </tbody>\n",
       "</table>\n",
       "</div>"
      ],
      "text/plain": [
       "Empty DataFrame\n",
       "Columns: [Make, Model, Year, Engine Fuel Type, Engine_HP, Engine_Cylinders, Transmission Type, Driven_Wheels, Number_of_Doors, Market Category, Vehicle Size, Vehicle Style, highway_MPG, city_mpg, Popularity, MSRP]\n",
       "Index: []"
      ]
     },
     "execution_count": 472,
     "metadata": {},
     "output_type": "execute_result"
    }
   ],
   "source": [
    "data.loc[data.Engine_HP>max_limit]"
   ]
  },
  {
   "cell_type": "code",
   "execution_count": 537,
   "id": "30e4f14e",
   "metadata": {},
   "outputs": [
    {
     "data": {
      "text/plain": [
       "(1.0, 9.0)"
      ]
     },
     "execution_count": 537,
     "metadata": {},
     "output_type": "execute_result"
    }
   ],
   "source": [
    "IQR =stats.iqr(data.Engine_Cylinders,interpolation='midpoint')\n",
    "Q1=data.Engine_Cylinders.quantile(0.25)\n",
    "Q3=data.Engine_Cylinders.quantile(0.75)\n",
    "min_limit=Q1-1.5*IQR\n",
    "max_limit=Q3+1.5*IQR\n",
    "min_limit,max_limit\n"
   ]
  },
  {
   "cell_type": "code",
   "execution_count": 538,
   "id": "4da6c151",
   "metadata": {},
   "outputs": [
    {
     "data": {
      "text/html": [
       "<div>\n",
       "<style scoped>\n",
       "    .dataframe tbody tr th:only-of-type {\n",
       "        vertical-align: middle;\n",
       "    }\n",
       "\n",
       "    .dataframe tbody tr th {\n",
       "        vertical-align: top;\n",
       "    }\n",
       "\n",
       "    .dataframe thead th {\n",
       "        text-align: right;\n",
       "    }\n",
       "</style>\n",
       "<table border=\"1\" class=\"dataframe\">\n",
       "  <thead>\n",
       "    <tr style=\"text-align: right;\">\n",
       "      <th></th>\n",
       "      <th>Make</th>\n",
       "      <th>Model</th>\n",
       "      <th>Year</th>\n",
       "      <th>Engine Fuel Type</th>\n",
       "      <th>Engine_HP</th>\n",
       "      <th>Engine_Cylinders</th>\n",
       "      <th>Transmission Type</th>\n",
       "      <th>Driven_Wheels</th>\n",
       "      <th>Number_of_Doors</th>\n",
       "      <th>Market Category</th>\n",
       "      <th>Vehicle Size</th>\n",
       "      <th>Vehicle Style</th>\n",
       "      <th>highway_MPG</th>\n",
       "      <th>city_mpg</th>\n",
       "      <th>Popularity</th>\n",
       "      <th>MSRP</th>\n",
       "    </tr>\n",
       "  </thead>\n",
       "  <tbody>\n",
       "    <tr>\n",
       "      <th>539</th>\n",
       "      <td>FIAT</td>\n",
       "      <td>500e</td>\n",
       "      <td>2015</td>\n",
       "      <td>electric</td>\n",
       "      <td>160.0</td>\n",
       "      <td>0.0</td>\n",
       "      <td>DIRECT_DRIVE</td>\n",
       "      <td>front wheel drive</td>\n",
       "      <td>2.0</td>\n",
       "      <td>Hatchback</td>\n",
       "      <td>Compact</td>\n",
       "      <td>2dr Hatchback</td>\n",
       "      <td>108</td>\n",
       "      <td>122</td>\n",
       "      <td>819</td>\n",
       "      <td>31800</td>\n",
       "    </tr>\n",
       "    <tr>\n",
       "      <th>540</th>\n",
       "      <td>FIAT</td>\n",
       "      <td>500e</td>\n",
       "      <td>2016</td>\n",
       "      <td>electric</td>\n",
       "      <td>160.0</td>\n",
       "      <td>0.0</td>\n",
       "      <td>DIRECT_DRIVE</td>\n",
       "      <td>front wheel drive</td>\n",
       "      <td>2.0</td>\n",
       "      <td>Hatchback</td>\n",
       "      <td>Compact</td>\n",
       "      <td>2dr Hatchback</td>\n",
       "      <td>103</td>\n",
       "      <td>121</td>\n",
       "      <td>819</td>\n",
       "      <td>31800</td>\n",
       "    </tr>\n",
       "    <tr>\n",
       "      <th>541</th>\n",
       "      <td>FIAT</td>\n",
       "      <td>500e</td>\n",
       "      <td>2017</td>\n",
       "      <td>electric</td>\n",
       "      <td>160.0</td>\n",
       "      <td>0.0</td>\n",
       "      <td>DIRECT_DRIVE</td>\n",
       "      <td>front wheel drive</td>\n",
       "      <td>2.0</td>\n",
       "      <td>Hatchback</td>\n",
       "      <td>Compact</td>\n",
       "      <td>2dr Hatchback</td>\n",
       "      <td>103</td>\n",
       "      <td>121</td>\n",
       "      <td>819</td>\n",
       "      <td>31800</td>\n",
       "    </tr>\n",
       "    <tr>\n",
       "      <th>1680</th>\n",
       "      <td>Mercedes-Benz</td>\n",
       "      <td>B-Class Electric Drive</td>\n",
       "      <td>2015</td>\n",
       "      <td>electric</td>\n",
       "      <td>177.0</td>\n",
       "      <td>0.0</td>\n",
       "      <td>DIRECT_DRIVE</td>\n",
       "      <td>front wheel drive</td>\n",
       "      <td>4.0</td>\n",
       "      <td>Hatchback,Luxury</td>\n",
       "      <td>Compact</td>\n",
       "      <td>4dr Hatchback</td>\n",
       "      <td>82</td>\n",
       "      <td>85</td>\n",
       "      <td>617</td>\n",
       "      <td>41450</td>\n",
       "    </tr>\n",
       "    <tr>\n",
       "      <th>1681</th>\n",
       "      <td>Mercedes-Benz</td>\n",
       "      <td>B-Class Electric Drive</td>\n",
       "      <td>2016</td>\n",
       "      <td>electric</td>\n",
       "      <td>177.0</td>\n",
       "      <td>0.0</td>\n",
       "      <td>DIRECT_DRIVE</td>\n",
       "      <td>front wheel drive</td>\n",
       "      <td>4.0</td>\n",
       "      <td>Hatchback,Luxury</td>\n",
       "      <td>Compact</td>\n",
       "      <td>4dr Hatchback</td>\n",
       "      <td>82</td>\n",
       "      <td>85</td>\n",
       "      <td>617</td>\n",
       "      <td>41450</td>\n",
       "    </tr>\n",
       "    <tr>\n",
       "      <th>...</th>\n",
       "      <td>...</td>\n",
       "      <td>...</td>\n",
       "      <td>...</td>\n",
       "      <td>...</td>\n",
       "      <td>...</td>\n",
       "      <td>...</td>\n",
       "      <td>...</td>\n",
       "      <td>...</td>\n",
       "      <td>...</td>\n",
       "      <td>...</td>\n",
       "      <td>...</td>\n",
       "      <td>...</td>\n",
       "      <td>...</td>\n",
       "      <td>...</td>\n",
       "      <td>...</td>\n",
       "      <td>...</td>\n",
       "    </tr>\n",
       "    <tr>\n",
       "      <th>9868</th>\n",
       "      <td>Chevrolet</td>\n",
       "      <td>Spark EV</td>\n",
       "      <td>2014</td>\n",
       "      <td>electric</td>\n",
       "      <td>140.0</td>\n",
       "      <td>0.0</td>\n",
       "      <td>DIRECT_DRIVE</td>\n",
       "      <td>front wheel drive</td>\n",
       "      <td>4.0</td>\n",
       "      <td>Hatchback</td>\n",
       "      <td>Compact</td>\n",
       "      <td>4dr Hatchback</td>\n",
       "      <td>109</td>\n",
       "      <td>128</td>\n",
       "      <td>1385</td>\n",
       "      <td>27010</td>\n",
       "    </tr>\n",
       "    <tr>\n",
       "      <th>9869</th>\n",
       "      <td>Chevrolet</td>\n",
       "      <td>Spark EV</td>\n",
       "      <td>2015</td>\n",
       "      <td>electric</td>\n",
       "      <td>140.0</td>\n",
       "      <td>0.0</td>\n",
       "      <td>DIRECT_DRIVE</td>\n",
       "      <td>front wheel drive</td>\n",
       "      <td>4.0</td>\n",
       "      <td>Hatchback</td>\n",
       "      <td>Compact</td>\n",
       "      <td>4dr Hatchback</td>\n",
       "      <td>109</td>\n",
       "      <td>128</td>\n",
       "      <td>1385</td>\n",
       "      <td>25170</td>\n",
       "    </tr>\n",
       "    <tr>\n",
       "      <th>9870</th>\n",
       "      <td>Chevrolet</td>\n",
       "      <td>Spark EV</td>\n",
       "      <td>2015</td>\n",
       "      <td>electric</td>\n",
       "      <td>140.0</td>\n",
       "      <td>0.0</td>\n",
       "      <td>DIRECT_DRIVE</td>\n",
       "      <td>front wheel drive</td>\n",
       "      <td>4.0</td>\n",
       "      <td>Hatchback</td>\n",
       "      <td>Compact</td>\n",
       "      <td>4dr Hatchback</td>\n",
       "      <td>109</td>\n",
       "      <td>128</td>\n",
       "      <td>1385</td>\n",
       "      <td>25560</td>\n",
       "    </tr>\n",
       "    <tr>\n",
       "      <th>9871</th>\n",
       "      <td>Chevrolet</td>\n",
       "      <td>Spark EV</td>\n",
       "      <td>2016</td>\n",
       "      <td>electric</td>\n",
       "      <td>140.0</td>\n",
       "      <td>0.0</td>\n",
       "      <td>DIRECT_DRIVE</td>\n",
       "      <td>front wheel drive</td>\n",
       "      <td>4.0</td>\n",
       "      <td>Hatchback</td>\n",
       "      <td>Compact</td>\n",
       "      <td>4dr Hatchback</td>\n",
       "      <td>109</td>\n",
       "      <td>128</td>\n",
       "      <td>1385</td>\n",
       "      <td>25510</td>\n",
       "    </tr>\n",
       "    <tr>\n",
       "      <th>9872</th>\n",
       "      <td>Chevrolet</td>\n",
       "      <td>Spark EV</td>\n",
       "      <td>2016</td>\n",
       "      <td>electric</td>\n",
       "      <td>140.0</td>\n",
       "      <td>0.0</td>\n",
       "      <td>DIRECT_DRIVE</td>\n",
       "      <td>front wheel drive</td>\n",
       "      <td>4.0</td>\n",
       "      <td>Hatchback</td>\n",
       "      <td>Compact</td>\n",
       "      <td>4dr Hatchback</td>\n",
       "      <td>109</td>\n",
       "      <td>128</td>\n",
       "      <td>1385</td>\n",
       "      <td>25120</td>\n",
       "    </tr>\n",
       "  </tbody>\n",
       "</table>\n",
       "<p>61 rows × 16 columns</p>\n",
       "</div>"
      ],
      "text/plain": [
       "               Make                   Model  Year Engine Fuel Type  Engine_HP  \\\n",
       "539            FIAT                    500e  2015         electric      160.0   \n",
       "540            FIAT                    500e  2016         electric      160.0   \n",
       "541            FIAT                    500e  2017         electric      160.0   \n",
       "1680  Mercedes-Benz  B-Class Electric Drive  2015         electric      177.0   \n",
       "1681  Mercedes-Benz  B-Class Electric Drive  2016         electric      177.0   \n",
       "...             ...                     ...   ...              ...        ...   \n",
       "9868      Chevrolet                Spark EV  2014         electric      140.0   \n",
       "9869      Chevrolet                Spark EV  2015         electric      140.0   \n",
       "9870      Chevrolet                Spark EV  2015         electric      140.0   \n",
       "9871      Chevrolet                Spark EV  2016         electric      140.0   \n",
       "9872      Chevrolet                Spark EV  2016         electric      140.0   \n",
       "\n",
       "      Engine_Cylinders Transmission Type      Driven_Wheels  Number_of_Doors  \\\n",
       "539                0.0      DIRECT_DRIVE  front wheel drive              2.0   \n",
       "540                0.0      DIRECT_DRIVE  front wheel drive              2.0   \n",
       "541                0.0      DIRECT_DRIVE  front wheel drive              2.0   \n",
       "1680               0.0      DIRECT_DRIVE  front wheel drive              4.0   \n",
       "1681               0.0      DIRECT_DRIVE  front wheel drive              4.0   \n",
       "...                ...               ...                ...              ...   \n",
       "9868               0.0      DIRECT_DRIVE  front wheel drive              4.0   \n",
       "9869               0.0      DIRECT_DRIVE  front wheel drive              4.0   \n",
       "9870               0.0      DIRECT_DRIVE  front wheel drive              4.0   \n",
       "9871               0.0      DIRECT_DRIVE  front wheel drive              4.0   \n",
       "9872               0.0      DIRECT_DRIVE  front wheel drive              4.0   \n",
       "\n",
       "       Market Category Vehicle Size  Vehicle Style  highway_MPG  city_mpg  \\\n",
       "539          Hatchback      Compact  2dr Hatchback          108       122   \n",
       "540          Hatchback      Compact  2dr Hatchback          103       121   \n",
       "541          Hatchback      Compact  2dr Hatchback          103       121   \n",
       "1680  Hatchback,Luxury      Compact  4dr Hatchback           82        85   \n",
       "1681  Hatchback,Luxury      Compact  4dr Hatchback           82        85   \n",
       "...                ...          ...            ...          ...       ...   \n",
       "9868         Hatchback      Compact  4dr Hatchback          109       128   \n",
       "9869         Hatchback      Compact  4dr Hatchback          109       128   \n",
       "9870         Hatchback      Compact  4dr Hatchback          109       128   \n",
       "9871         Hatchback      Compact  4dr Hatchback          109       128   \n",
       "9872         Hatchback      Compact  4dr Hatchback          109       128   \n",
       "\n",
       "      Popularity   MSRP  \n",
       "539          819  31800  \n",
       "540          819  31800  \n",
       "541          819  31800  \n",
       "1680         617  41450  \n",
       "1681         617  41450  \n",
       "...          ...    ...  \n",
       "9868        1385  27010  \n",
       "9869        1385  25170  \n",
       "9870        1385  25560  \n",
       "9871        1385  25510  \n",
       "9872        1385  25120  \n",
       "\n",
       "[61 rows x 16 columns]"
      ]
     },
     "execution_count": 538,
     "metadata": {},
     "output_type": "execute_result"
    }
   ],
   "source": [
    "data.loc[data.Engine_Cylinders<min_limit]"
   ]
  },
  {
   "cell_type": "code",
   "execution_count": 539,
   "id": "6b1f448e",
   "metadata": {},
   "outputs": [
    {
     "data": {
      "text/html": [
       "<div>\n",
       "<style scoped>\n",
       "    .dataframe tbody tr th:only-of-type {\n",
       "        vertical-align: middle;\n",
       "    }\n",
       "\n",
       "    .dataframe tbody tr th {\n",
       "        vertical-align: top;\n",
       "    }\n",
       "\n",
       "    .dataframe thead th {\n",
       "        text-align: right;\n",
       "    }\n",
       "</style>\n",
       "<table border=\"1\" class=\"dataframe\">\n",
       "  <thead>\n",
       "    <tr style=\"text-align: right;\">\n",
       "      <th></th>\n",
       "      <th>Make</th>\n",
       "      <th>Model</th>\n",
       "      <th>Year</th>\n",
       "      <th>Engine Fuel Type</th>\n",
       "      <th>Engine_HP</th>\n",
       "      <th>Engine_Cylinders</th>\n",
       "      <th>Transmission Type</th>\n",
       "      <th>Driven_Wheels</th>\n",
       "      <th>Number_of_Doors</th>\n",
       "      <th>Market Category</th>\n",
       "      <th>Vehicle Size</th>\n",
       "      <th>Vehicle Style</th>\n",
       "      <th>highway_MPG</th>\n",
       "      <th>city_mpg</th>\n",
       "      <th>Popularity</th>\n",
       "      <th>MSRP</th>\n",
       "    </tr>\n",
       "  </thead>\n",
       "  <tbody>\n",
       "    <tr>\n",
       "      <th>460</th>\n",
       "      <td>Ferrari</td>\n",
       "      <td>456M</td>\n",
       "      <td>2001</td>\n",
       "      <td>premium unleaded (required)</td>\n",
       "      <td>442.0</td>\n",
       "      <td>12.0</td>\n",
       "      <td>AUTOMATIC</td>\n",
       "      <td>rear wheel drive</td>\n",
       "      <td>2.0</td>\n",
       "      <td>Exotic,High-Performance</td>\n",
       "      <td>Compact</td>\n",
       "      <td>Coupe</td>\n",
       "      <td>14</td>\n",
       "      <td>9</td>\n",
       "      <td>2774</td>\n",
       "      <td>223970</td>\n",
       "    </tr>\n",
       "    <tr>\n",
       "      <th>461</th>\n",
       "      <td>Ferrari</td>\n",
       "      <td>456M</td>\n",
       "      <td>2001</td>\n",
       "      <td>premium unleaded (required)</td>\n",
       "      <td>442.0</td>\n",
       "      <td>12.0</td>\n",
       "      <td>MANUAL</td>\n",
       "      <td>rear wheel drive</td>\n",
       "      <td>2.0</td>\n",
       "      <td>Exotic,High-Performance</td>\n",
       "      <td>Compact</td>\n",
       "      <td>Coupe</td>\n",
       "      <td>15</td>\n",
       "      <td>9</td>\n",
       "      <td>2774</td>\n",
       "      <td>219775</td>\n",
       "    </tr>\n",
       "    <tr>\n",
       "      <th>462</th>\n",
       "      <td>Ferrari</td>\n",
       "      <td>456M</td>\n",
       "      <td>2002</td>\n",
       "      <td>premium unleaded (required)</td>\n",
       "      <td>442.0</td>\n",
       "      <td>12.0</td>\n",
       "      <td>AUTOMATIC</td>\n",
       "      <td>rear wheel drive</td>\n",
       "      <td>2.0</td>\n",
       "      <td>Exotic,High-Performance</td>\n",
       "      <td>Compact</td>\n",
       "      <td>Coupe</td>\n",
       "      <td>14</td>\n",
       "      <td>9</td>\n",
       "      <td>2774</td>\n",
       "      <td>228625</td>\n",
       "    </tr>\n",
       "    <tr>\n",
       "      <th>463</th>\n",
       "      <td>Ferrari</td>\n",
       "      <td>456M</td>\n",
       "      <td>2002</td>\n",
       "      <td>premium unleaded (required)</td>\n",
       "      <td>442.0</td>\n",
       "      <td>12.0</td>\n",
       "      <td>MANUAL</td>\n",
       "      <td>rear wheel drive</td>\n",
       "      <td>2.0</td>\n",
       "      <td>Exotic,High-Performance</td>\n",
       "      <td>Compact</td>\n",
       "      <td>Coupe</td>\n",
       "      <td>15</td>\n",
       "      <td>9</td>\n",
       "      <td>2774</td>\n",
       "      <td>224585</td>\n",
       "    </tr>\n",
       "    <tr>\n",
       "      <th>464</th>\n",
       "      <td>Ferrari</td>\n",
       "      <td>456M</td>\n",
       "      <td>2003</td>\n",
       "      <td>premium unleaded (required)</td>\n",
       "      <td>442.0</td>\n",
       "      <td>12.0</td>\n",
       "      <td>AUTOMATIC</td>\n",
       "      <td>rear wheel drive</td>\n",
       "      <td>2.0</td>\n",
       "      <td>Exotic,High-Performance</td>\n",
       "      <td>Compact</td>\n",
       "      <td>Coupe</td>\n",
       "      <td>14</td>\n",
       "      <td>9</td>\n",
       "      <td>2774</td>\n",
       "      <td>228625</td>\n",
       "    </tr>\n",
       "    <tr>\n",
       "      <th>...</th>\n",
       "      <td>...</td>\n",
       "      <td>...</td>\n",
       "      <td>...</td>\n",
       "      <td>...</td>\n",
       "      <td>...</td>\n",
       "      <td>...</td>\n",
       "      <td>...</td>\n",
       "      <td>...</td>\n",
       "      <td>...</td>\n",
       "      <td>...</td>\n",
       "      <td>...</td>\n",
       "      <td>...</td>\n",
       "      <td>...</td>\n",
       "      <td>...</td>\n",
       "      <td>...</td>\n",
       "      <td>...</td>\n",
       "    </tr>\n",
       "    <tr>\n",
       "      <th>11394</th>\n",
       "      <td>Aston Martin</td>\n",
       "      <td>Virage</td>\n",
       "      <td>2012</td>\n",
       "      <td>premium unleaded (required)</td>\n",
       "      <td>490.0</td>\n",
       "      <td>12.0</td>\n",
       "      <td>AUTOMATIC</td>\n",
       "      <td>rear wheel drive</td>\n",
       "      <td>2.0</td>\n",
       "      <td>Exotic,High-Performance</td>\n",
       "      <td>Midsize</td>\n",
       "      <td>Coupe</td>\n",
       "      <td>18</td>\n",
       "      <td>13</td>\n",
       "      <td>259</td>\n",
       "      <td>208295</td>\n",
       "    </tr>\n",
       "    <tr>\n",
       "      <th>11395</th>\n",
       "      <td>Aston Martin</td>\n",
       "      <td>Virage</td>\n",
       "      <td>2012</td>\n",
       "      <td>premium unleaded (required)</td>\n",
       "      <td>490.0</td>\n",
       "      <td>12.0</td>\n",
       "      <td>AUTOMATIC</td>\n",
       "      <td>rear wheel drive</td>\n",
       "      <td>2.0</td>\n",
       "      <td>Exotic,High-Performance</td>\n",
       "      <td>Midsize</td>\n",
       "      <td>Convertible</td>\n",
       "      <td>18</td>\n",
       "      <td>13</td>\n",
       "      <td>259</td>\n",
       "      <td>223295</td>\n",
       "    </tr>\n",
       "    <tr>\n",
       "      <th>11448</th>\n",
       "      <td>Rolls-Royce</td>\n",
       "      <td>Wraith</td>\n",
       "      <td>2014</td>\n",
       "      <td>premium unleaded (required)</td>\n",
       "      <td>260.0</td>\n",
       "      <td>12.0</td>\n",
       "      <td>AUTOMATIC</td>\n",
       "      <td>rear wheel drive</td>\n",
       "      <td>2.0</td>\n",
       "      <td>Exotic,Luxury,High-Performance</td>\n",
       "      <td>Large</td>\n",
       "      <td>Coupe</td>\n",
       "      <td>21</td>\n",
       "      <td>13</td>\n",
       "      <td>86</td>\n",
       "      <td>284900</td>\n",
       "    </tr>\n",
       "    <tr>\n",
       "      <th>11449</th>\n",
       "      <td>Rolls-Royce</td>\n",
       "      <td>Wraith</td>\n",
       "      <td>2015</td>\n",
       "      <td>premium unleaded (required)</td>\n",
       "      <td>260.0</td>\n",
       "      <td>12.0</td>\n",
       "      <td>AUTOMATIC</td>\n",
       "      <td>rear wheel drive</td>\n",
       "      <td>2.0</td>\n",
       "      <td>Exotic,Luxury,High-Performance</td>\n",
       "      <td>Large</td>\n",
       "      <td>Coupe</td>\n",
       "      <td>21</td>\n",
       "      <td>13</td>\n",
       "      <td>86</td>\n",
       "      <td>294025</td>\n",
       "    </tr>\n",
       "    <tr>\n",
       "      <th>11450</th>\n",
       "      <td>Rolls-Royce</td>\n",
       "      <td>Wraith</td>\n",
       "      <td>2016</td>\n",
       "      <td>premium unleaded (required)</td>\n",
       "      <td>260.0</td>\n",
       "      <td>12.0</td>\n",
       "      <td>AUTOMATIC</td>\n",
       "      <td>rear wheel drive</td>\n",
       "      <td>2.0</td>\n",
       "      <td>Exotic,Luxury,High-Performance</td>\n",
       "      <td>Large</td>\n",
       "      <td>Coupe</td>\n",
       "      <td>21</td>\n",
       "      <td>13</td>\n",
       "      <td>86</td>\n",
       "      <td>304350</td>\n",
       "    </tr>\n",
       "  </tbody>\n",
       "</table>\n",
       "<p>301 rows × 16 columns</p>\n",
       "</div>"
      ],
      "text/plain": [
       "               Make   Model  Year             Engine Fuel Type  Engine_HP  \\\n",
       "460         Ferrari    456M  2001  premium unleaded (required)      442.0   \n",
       "461         Ferrari    456M  2001  premium unleaded (required)      442.0   \n",
       "462         Ferrari    456M  2002  premium unleaded (required)      442.0   \n",
       "463         Ferrari    456M  2002  premium unleaded (required)      442.0   \n",
       "464         Ferrari    456M  2003  premium unleaded (required)      442.0   \n",
       "...             ...     ...   ...                          ...        ...   \n",
       "11394  Aston Martin  Virage  2012  premium unleaded (required)      490.0   \n",
       "11395  Aston Martin  Virage  2012  premium unleaded (required)      490.0   \n",
       "11448   Rolls-Royce  Wraith  2014  premium unleaded (required)      260.0   \n",
       "11449   Rolls-Royce  Wraith  2015  premium unleaded (required)      260.0   \n",
       "11450   Rolls-Royce  Wraith  2016  premium unleaded (required)      260.0   \n",
       "\n",
       "       Engine_Cylinders Transmission Type     Driven_Wheels  Number_of_Doors  \\\n",
       "460                12.0         AUTOMATIC  rear wheel drive              2.0   \n",
       "461                12.0            MANUAL  rear wheel drive              2.0   \n",
       "462                12.0         AUTOMATIC  rear wheel drive              2.0   \n",
       "463                12.0            MANUAL  rear wheel drive              2.0   \n",
       "464                12.0         AUTOMATIC  rear wheel drive              2.0   \n",
       "...                 ...               ...               ...              ...   \n",
       "11394              12.0         AUTOMATIC  rear wheel drive              2.0   \n",
       "11395              12.0         AUTOMATIC  rear wheel drive              2.0   \n",
       "11448              12.0         AUTOMATIC  rear wheel drive              2.0   \n",
       "11449              12.0         AUTOMATIC  rear wheel drive              2.0   \n",
       "11450              12.0         AUTOMATIC  rear wheel drive              2.0   \n",
       "\n",
       "                      Market Category Vehicle Size Vehicle Style  highway_MPG  \\\n",
       "460           Exotic,High-Performance      Compact         Coupe           14   \n",
       "461           Exotic,High-Performance      Compact         Coupe           15   \n",
       "462           Exotic,High-Performance      Compact         Coupe           14   \n",
       "463           Exotic,High-Performance      Compact         Coupe           15   \n",
       "464           Exotic,High-Performance      Compact         Coupe           14   \n",
       "...                               ...          ...           ...          ...   \n",
       "11394         Exotic,High-Performance      Midsize         Coupe           18   \n",
       "11395         Exotic,High-Performance      Midsize   Convertible           18   \n",
       "11448  Exotic,Luxury,High-Performance        Large         Coupe           21   \n",
       "11449  Exotic,Luxury,High-Performance        Large         Coupe           21   \n",
       "11450  Exotic,Luxury,High-Performance        Large         Coupe           21   \n",
       "\n",
       "       city_mpg  Popularity    MSRP  \n",
       "460           9        2774  223970  \n",
       "461           9        2774  219775  \n",
       "462           9        2774  228625  \n",
       "463           9        2774  224585  \n",
       "464           9        2774  228625  \n",
       "...         ...         ...     ...  \n",
       "11394        13         259  208295  \n",
       "11395        13         259  223295  \n",
       "11448        13          86  284900  \n",
       "11449        13          86  294025  \n",
       "11450        13          86  304350  \n",
       "\n",
       "[301 rows x 16 columns]"
      ]
     },
     "execution_count": 539,
     "metadata": {},
     "output_type": "execute_result"
    }
   ],
   "source": [
    "data.loc[data.Engine_Cylinders>max_limit]"
   ]
  },
  {
   "cell_type": "code",
   "execution_count": 541,
   "id": "d8abc516",
   "metadata": {},
   "outputs": [],
   "source": [
    "data.loc[data['Engine_Cylinders']<min_limit,'Engine_Cylinders']=np.median(data.Engine_Cylinders)\n"
   ]
  },
  {
   "cell_type": "code",
   "execution_count": 542,
   "id": "8f7acee3",
   "metadata": {},
   "outputs": [],
   "source": [
    "data.loc[data['Engine_Cylinders']>max_limit,'Engine_Cylinders']=np.median(data.Engine_Cylinders)\n"
   ]
  },
  {
   "cell_type": "code",
   "execution_count": 543,
   "id": "9c780602",
   "metadata": {},
   "outputs": [
    {
     "data": {
      "text/html": [
       "<div>\n",
       "<style scoped>\n",
       "    .dataframe tbody tr th:only-of-type {\n",
       "        vertical-align: middle;\n",
       "    }\n",
       "\n",
       "    .dataframe tbody tr th {\n",
       "        vertical-align: top;\n",
       "    }\n",
       "\n",
       "    .dataframe thead th {\n",
       "        text-align: right;\n",
       "    }\n",
       "</style>\n",
       "<table border=\"1\" class=\"dataframe\">\n",
       "  <thead>\n",
       "    <tr style=\"text-align: right;\">\n",
       "      <th></th>\n",
       "      <th>Make</th>\n",
       "      <th>Model</th>\n",
       "      <th>Year</th>\n",
       "      <th>Engine Fuel Type</th>\n",
       "      <th>Engine_HP</th>\n",
       "      <th>Engine_Cylinders</th>\n",
       "      <th>Transmission Type</th>\n",
       "      <th>Driven_Wheels</th>\n",
       "      <th>Number_of_Doors</th>\n",
       "      <th>Market Category</th>\n",
       "      <th>Vehicle Size</th>\n",
       "      <th>Vehicle Style</th>\n",
       "      <th>highway_MPG</th>\n",
       "      <th>city_mpg</th>\n",
       "      <th>Popularity</th>\n",
       "      <th>MSRP</th>\n",
       "    </tr>\n",
       "  </thead>\n",
       "  <tbody>\n",
       "  </tbody>\n",
       "</table>\n",
       "</div>"
      ],
      "text/plain": [
       "Empty DataFrame\n",
       "Columns: [Make, Model, Year, Engine Fuel Type, Engine_HP, Engine_Cylinders, Transmission Type, Driven_Wheels, Number_of_Doors, Market Category, Vehicle Size, Vehicle Style, highway_MPG, city_mpg, Popularity, MSRP]\n",
       "Index: []"
      ]
     },
     "execution_count": 543,
     "metadata": {},
     "output_type": "execute_result"
    }
   ],
   "source": [
    "data.loc[data.Engine_Cylinders<min_limit]"
   ]
  },
  {
   "cell_type": "code",
   "execution_count": 544,
   "id": "b28073fc",
   "metadata": {},
   "outputs": [
    {
     "data": {
      "text/html": [
       "<div>\n",
       "<style scoped>\n",
       "    .dataframe tbody tr th:only-of-type {\n",
       "        vertical-align: middle;\n",
       "    }\n",
       "\n",
       "    .dataframe tbody tr th {\n",
       "        vertical-align: top;\n",
       "    }\n",
       "\n",
       "    .dataframe thead th {\n",
       "        text-align: right;\n",
       "    }\n",
       "</style>\n",
       "<table border=\"1\" class=\"dataframe\">\n",
       "  <thead>\n",
       "    <tr style=\"text-align: right;\">\n",
       "      <th></th>\n",
       "      <th>Make</th>\n",
       "      <th>Model</th>\n",
       "      <th>Year</th>\n",
       "      <th>Engine Fuel Type</th>\n",
       "      <th>Engine_HP</th>\n",
       "      <th>Engine_Cylinders</th>\n",
       "      <th>Transmission Type</th>\n",
       "      <th>Driven_Wheels</th>\n",
       "      <th>Number_of_Doors</th>\n",
       "      <th>Market Category</th>\n",
       "      <th>Vehicle Size</th>\n",
       "      <th>Vehicle Style</th>\n",
       "      <th>highway_MPG</th>\n",
       "      <th>city_mpg</th>\n",
       "      <th>Popularity</th>\n",
       "      <th>MSRP</th>\n",
       "    </tr>\n",
       "  </thead>\n",
       "  <tbody>\n",
       "  </tbody>\n",
       "</table>\n",
       "</div>"
      ],
      "text/plain": [
       "Empty DataFrame\n",
       "Columns: [Make, Model, Year, Engine Fuel Type, Engine_HP, Engine_Cylinders, Transmission Type, Driven_Wheels, Number_of_Doors, Market Category, Vehicle Size, Vehicle Style, highway_MPG, city_mpg, Popularity, MSRP]\n",
       "Index: []"
      ]
     },
     "execution_count": 544,
     "metadata": {},
     "output_type": "execute_result"
    }
   ],
   "source": [
    "data.loc[data.Engine_Cylinders>max_limit]"
   ]
  },
  {
   "cell_type": "code",
   "execution_count": 545,
   "id": "ea9dfe29",
   "metadata": {},
   "outputs": [
    {
     "data": {
      "text/plain": [
       "(-1.0, 7.0)"
      ]
     },
     "execution_count": 545,
     "metadata": {},
     "output_type": "execute_result"
    }
   ],
   "source": [
    "IQR =stats.iqr(data.Number_of_Doors,interpolation='midpoint')\n",
    "Q1=data.Number_of_Doors.quantile(0.25)\n",
    "Q3=data.Number_of_Doors.quantile(0.75)\n",
    "min_limit=Q1-1.5*IQR\n",
    "max_limit=Q3+1.5*IQR\n",
    "min_limit,max_limit\n"
   ]
  },
  {
   "cell_type": "code",
   "execution_count": 546,
   "id": "eedfb0ef",
   "metadata": {},
   "outputs": [
    {
     "data": {
      "text/html": [
       "<div>\n",
       "<style scoped>\n",
       "    .dataframe tbody tr th:only-of-type {\n",
       "        vertical-align: middle;\n",
       "    }\n",
       "\n",
       "    .dataframe tbody tr th {\n",
       "        vertical-align: top;\n",
       "    }\n",
       "\n",
       "    .dataframe thead th {\n",
       "        text-align: right;\n",
       "    }\n",
       "</style>\n",
       "<table border=\"1\" class=\"dataframe\">\n",
       "  <thead>\n",
       "    <tr style=\"text-align: right;\">\n",
       "      <th></th>\n",
       "      <th>Make</th>\n",
       "      <th>Model</th>\n",
       "      <th>Year</th>\n",
       "      <th>Engine Fuel Type</th>\n",
       "      <th>Engine_HP</th>\n",
       "      <th>Engine_Cylinders</th>\n",
       "      <th>Transmission Type</th>\n",
       "      <th>Driven_Wheels</th>\n",
       "      <th>Number_of_Doors</th>\n",
       "      <th>Market Category</th>\n",
       "      <th>Vehicle Size</th>\n",
       "      <th>Vehicle Style</th>\n",
       "      <th>highway_MPG</th>\n",
       "      <th>city_mpg</th>\n",
       "      <th>Popularity</th>\n",
       "      <th>MSRP</th>\n",
       "    </tr>\n",
       "  </thead>\n",
       "  <tbody>\n",
       "  </tbody>\n",
       "</table>\n",
       "</div>"
      ],
      "text/plain": [
       "Empty DataFrame\n",
       "Columns: [Make, Model, Year, Engine Fuel Type, Engine_HP, Engine_Cylinders, Transmission Type, Driven_Wheels, Number_of_Doors, Market Category, Vehicle Size, Vehicle Style, highway_MPG, city_mpg, Popularity, MSRP]\n",
       "Index: []"
      ]
     },
     "execution_count": 546,
     "metadata": {},
     "output_type": "execute_result"
    }
   ],
   "source": [
    "data.loc[data.Number_of_Doors<min_limit]"
   ]
  },
  {
   "cell_type": "code",
   "execution_count": 547,
   "id": "b2ea19c4",
   "metadata": {},
   "outputs": [
    {
     "data": {
      "text/html": [
       "<div>\n",
       "<style scoped>\n",
       "    .dataframe tbody tr th:only-of-type {\n",
       "        vertical-align: middle;\n",
       "    }\n",
       "\n",
       "    .dataframe tbody tr th {\n",
       "        vertical-align: top;\n",
       "    }\n",
       "\n",
       "    .dataframe thead th {\n",
       "        text-align: right;\n",
       "    }\n",
       "</style>\n",
       "<table border=\"1\" class=\"dataframe\">\n",
       "  <thead>\n",
       "    <tr style=\"text-align: right;\">\n",
       "      <th></th>\n",
       "      <th>Make</th>\n",
       "      <th>Model</th>\n",
       "      <th>Year</th>\n",
       "      <th>Engine Fuel Type</th>\n",
       "      <th>Engine_HP</th>\n",
       "      <th>Engine_Cylinders</th>\n",
       "      <th>Transmission Type</th>\n",
       "      <th>Driven_Wheels</th>\n",
       "      <th>Number_of_Doors</th>\n",
       "      <th>Market Category</th>\n",
       "      <th>Vehicle Size</th>\n",
       "      <th>Vehicle Style</th>\n",
       "      <th>highway_MPG</th>\n",
       "      <th>city_mpg</th>\n",
       "      <th>Popularity</th>\n",
       "      <th>MSRP</th>\n",
       "    </tr>\n",
       "  </thead>\n",
       "  <tbody>\n",
       "  </tbody>\n",
       "</table>\n",
       "</div>"
      ],
      "text/plain": [
       "Empty DataFrame\n",
       "Columns: [Make, Model, Year, Engine Fuel Type, Engine_HP, Engine_Cylinders, Transmission Type, Driven_Wheels, Number_of_Doors, Market Category, Vehicle Size, Vehicle Style, highway_MPG, city_mpg, Popularity, MSRP]\n",
       "Index: []"
      ]
     },
     "execution_count": 547,
     "metadata": {},
     "output_type": "execute_result"
    }
   ],
   "source": [
    "data.loc[data.Number_of_Doors>max_limit]"
   ]
  },
  {
   "cell_type": "code",
   "execution_count": null,
   "id": "8ec7d9d7",
   "metadata": {},
   "outputs": [],
   "source": [
    "#There is no outlier in Number_of_Doors"
   ]
  },
  {
   "cell_type": "code",
   "execution_count": 548,
   "id": "2b622569",
   "metadata": {},
   "outputs": [
    {
     "data": {
      "text/plain": [
       "(10.0, 42.0)"
      ]
     },
     "execution_count": 548,
     "metadata": {},
     "output_type": "execute_result"
    }
   ],
   "source": [
    "IQR =stats.iqr(data.highway_MPG,interpolation='midpoint')\n",
    "Q1=data.highway_MPG.quantile(0.25)\n",
    "Q3=data.highway_MPG.quantile(0.75)\n",
    "min_limit=Q1-1.5*IQR\n",
    "max_limit=Q3+1.5*IQR\n",
    "min_limit,max_limit\n"
   ]
  },
  {
   "cell_type": "code",
   "execution_count": 549,
   "id": "700902d9",
   "metadata": {},
   "outputs": [
    {
     "data": {
      "text/html": [
       "<div>\n",
       "<style scoped>\n",
       "    .dataframe tbody tr th:only-of-type {\n",
       "        vertical-align: middle;\n",
       "    }\n",
       "\n",
       "    .dataframe tbody tr th {\n",
       "        vertical-align: top;\n",
       "    }\n",
       "\n",
       "    .dataframe thead th {\n",
       "        text-align: right;\n",
       "    }\n",
       "</style>\n",
       "<table border=\"1\" class=\"dataframe\">\n",
       "  <thead>\n",
       "    <tr style=\"text-align: right;\">\n",
       "      <th></th>\n",
       "      <th>Make</th>\n",
       "      <th>Model</th>\n",
       "      <th>Year</th>\n",
       "      <th>Engine Fuel Type</th>\n",
       "      <th>Engine_HP</th>\n",
       "      <th>Engine_Cylinders</th>\n",
       "      <th>Transmission Type</th>\n",
       "      <th>Driven_Wheels</th>\n",
       "      <th>Number_of_Doors</th>\n",
       "      <th>Market Category</th>\n",
       "      <th>Vehicle Size</th>\n",
       "      <th>Vehicle Style</th>\n",
       "      <th>highway_MPG</th>\n",
       "      <th>city_mpg</th>\n",
       "      <th>Popularity</th>\n",
       "      <th>MSRP</th>\n",
       "    </tr>\n",
       "  </thead>\n",
       "  <tbody>\n",
       "  </tbody>\n",
       "</table>\n",
       "</div>"
      ],
      "text/plain": [
       "Empty DataFrame\n",
       "Columns: [Make, Model, Year, Engine Fuel Type, Engine_HP, Engine_Cylinders, Transmission Type, Driven_Wheels, Number_of_Doors, Market Category, Vehicle Size, Vehicle Style, highway_MPG, city_mpg, Popularity, MSRP]\n",
       "Index: []"
      ]
     },
     "execution_count": 549,
     "metadata": {},
     "output_type": "execute_result"
    }
   ],
   "source": [
    "data.loc[data.highway_MPG<min_limit]"
   ]
  },
  {
   "cell_type": "code",
   "execution_count": 550,
   "id": "8cbed29e",
   "metadata": {},
   "outputs": [
    {
     "data": {
      "text/html": [
       "<div>\n",
       "<style scoped>\n",
       "    .dataframe tbody tr th:only-of-type {\n",
       "        vertical-align: middle;\n",
       "    }\n",
       "\n",
       "    .dataframe tbody tr th {\n",
       "        vertical-align: top;\n",
       "    }\n",
       "\n",
       "    .dataframe thead th {\n",
       "        text-align: right;\n",
       "    }\n",
       "</style>\n",
       "<table border=\"1\" class=\"dataframe\">\n",
       "  <thead>\n",
       "    <tr style=\"text-align: right;\">\n",
       "      <th></th>\n",
       "      <th>Make</th>\n",
       "      <th>Model</th>\n",
       "      <th>Year</th>\n",
       "      <th>Engine Fuel Type</th>\n",
       "      <th>Engine_HP</th>\n",
       "      <th>Engine_Cylinders</th>\n",
       "      <th>Transmission Type</th>\n",
       "      <th>Driven_Wheels</th>\n",
       "      <th>Number_of_Doors</th>\n",
       "      <th>Market Category</th>\n",
       "      <th>Vehicle Size</th>\n",
       "      <th>Vehicle Style</th>\n",
       "      <th>highway_MPG</th>\n",
       "      <th>city_mpg</th>\n",
       "      <th>Popularity</th>\n",
       "      <th>MSRP</th>\n",
       "    </tr>\n",
       "  </thead>\n",
       "  <tbody>\n",
       "    <tr>\n",
       "      <th>135</th>\n",
       "      <td>BMW</td>\n",
       "      <td>3 Series</td>\n",
       "      <td>2015</td>\n",
       "      <td>diesel</td>\n",
       "      <td>180.0</td>\n",
       "      <td>4.0</td>\n",
       "      <td>AUTOMATIC</td>\n",
       "      <td>rear wheel drive</td>\n",
       "      <td>4.0</td>\n",
       "      <td>Diesel,Luxury</td>\n",
       "      <td>Midsize</td>\n",
       "      <td>Sedan</td>\n",
       "      <td>45</td>\n",
       "      <td>32</td>\n",
       "      <td>3916</td>\n",
       "      <td>39000</td>\n",
       "    </tr>\n",
       "    <tr>\n",
       "      <th>140</th>\n",
       "      <td>BMW</td>\n",
       "      <td>3 Series</td>\n",
       "      <td>2015</td>\n",
       "      <td>diesel</td>\n",
       "      <td>180.0</td>\n",
       "      <td>4.0</td>\n",
       "      <td>AUTOMATIC</td>\n",
       "      <td>all wheel drive</td>\n",
       "      <td>4.0</td>\n",
       "      <td>Diesel,Luxury</td>\n",
       "      <td>Midsize</td>\n",
       "      <td>Wagon</td>\n",
       "      <td>43</td>\n",
       "      <td>31</td>\n",
       "      <td>3916</td>\n",
       "      <td>43450</td>\n",
       "    </tr>\n",
       "    <tr>\n",
       "      <th>142</th>\n",
       "      <td>BMW</td>\n",
       "      <td>3 Series</td>\n",
       "      <td>2015</td>\n",
       "      <td>diesel</td>\n",
       "      <td>180.0</td>\n",
       "      <td>4.0</td>\n",
       "      <td>AUTOMATIC</td>\n",
       "      <td>all wheel drive</td>\n",
       "      <td>4.0</td>\n",
       "      <td>Diesel,Luxury</td>\n",
       "      <td>Midsize</td>\n",
       "      <td>Sedan</td>\n",
       "      <td>43</td>\n",
       "      <td>31</td>\n",
       "      <td>3916</td>\n",
       "      <td>41000</td>\n",
       "    </tr>\n",
       "    <tr>\n",
       "      <th>539</th>\n",
       "      <td>FIAT</td>\n",
       "      <td>500e</td>\n",
       "      <td>2015</td>\n",
       "      <td>electric</td>\n",
       "      <td>160.0</td>\n",
       "      <td>6.0</td>\n",
       "      <td>DIRECT_DRIVE</td>\n",
       "      <td>front wheel drive</td>\n",
       "      <td>2.0</td>\n",
       "      <td>Hatchback</td>\n",
       "      <td>Compact</td>\n",
       "      <td>2dr Hatchback</td>\n",
       "      <td>108</td>\n",
       "      <td>122</td>\n",
       "      <td>819</td>\n",
       "      <td>31800</td>\n",
       "    </tr>\n",
       "    <tr>\n",
       "      <th>540</th>\n",
       "      <td>FIAT</td>\n",
       "      <td>500e</td>\n",
       "      <td>2016</td>\n",
       "      <td>electric</td>\n",
       "      <td>160.0</td>\n",
       "      <td>6.0</td>\n",
       "      <td>DIRECT_DRIVE</td>\n",
       "      <td>front wheel drive</td>\n",
       "      <td>2.0</td>\n",
       "      <td>Hatchback</td>\n",
       "      <td>Compact</td>\n",
       "      <td>2dr Hatchback</td>\n",
       "      <td>103</td>\n",
       "      <td>121</td>\n",
       "      <td>819</td>\n",
       "      <td>31800</td>\n",
       "    </tr>\n",
       "    <tr>\n",
       "      <th>...</th>\n",
       "      <td>...</td>\n",
       "      <td>...</td>\n",
       "      <td>...</td>\n",
       "      <td>...</td>\n",
       "      <td>...</td>\n",
       "      <td>...</td>\n",
       "      <td>...</td>\n",
       "      <td>...</td>\n",
       "      <td>...</td>\n",
       "      <td>...</td>\n",
       "      <td>...</td>\n",
       "      <td>...</td>\n",
       "      <td>...</td>\n",
       "      <td>...</td>\n",
       "      <td>...</td>\n",
       "      <td>...</td>\n",
       "    </tr>\n",
       "    <tr>\n",
       "      <th>9868</th>\n",
       "      <td>Chevrolet</td>\n",
       "      <td>Spark EV</td>\n",
       "      <td>2014</td>\n",
       "      <td>electric</td>\n",
       "      <td>140.0</td>\n",
       "      <td>6.0</td>\n",
       "      <td>DIRECT_DRIVE</td>\n",
       "      <td>front wheel drive</td>\n",
       "      <td>4.0</td>\n",
       "      <td>Hatchback</td>\n",
       "      <td>Compact</td>\n",
       "      <td>4dr Hatchback</td>\n",
       "      <td>109</td>\n",
       "      <td>128</td>\n",
       "      <td>1385</td>\n",
       "      <td>27010</td>\n",
       "    </tr>\n",
       "    <tr>\n",
       "      <th>9869</th>\n",
       "      <td>Chevrolet</td>\n",
       "      <td>Spark EV</td>\n",
       "      <td>2015</td>\n",
       "      <td>electric</td>\n",
       "      <td>140.0</td>\n",
       "      <td>6.0</td>\n",
       "      <td>DIRECT_DRIVE</td>\n",
       "      <td>front wheel drive</td>\n",
       "      <td>4.0</td>\n",
       "      <td>Hatchback</td>\n",
       "      <td>Compact</td>\n",
       "      <td>4dr Hatchback</td>\n",
       "      <td>109</td>\n",
       "      <td>128</td>\n",
       "      <td>1385</td>\n",
       "      <td>25170</td>\n",
       "    </tr>\n",
       "    <tr>\n",
       "      <th>9870</th>\n",
       "      <td>Chevrolet</td>\n",
       "      <td>Spark EV</td>\n",
       "      <td>2015</td>\n",
       "      <td>electric</td>\n",
       "      <td>140.0</td>\n",
       "      <td>6.0</td>\n",
       "      <td>DIRECT_DRIVE</td>\n",
       "      <td>front wheel drive</td>\n",
       "      <td>4.0</td>\n",
       "      <td>Hatchback</td>\n",
       "      <td>Compact</td>\n",
       "      <td>4dr Hatchback</td>\n",
       "      <td>109</td>\n",
       "      <td>128</td>\n",
       "      <td>1385</td>\n",
       "      <td>25560</td>\n",
       "    </tr>\n",
       "    <tr>\n",
       "      <th>9871</th>\n",
       "      <td>Chevrolet</td>\n",
       "      <td>Spark EV</td>\n",
       "      <td>2016</td>\n",
       "      <td>electric</td>\n",
       "      <td>140.0</td>\n",
       "      <td>6.0</td>\n",
       "      <td>DIRECT_DRIVE</td>\n",
       "      <td>front wheel drive</td>\n",
       "      <td>4.0</td>\n",
       "      <td>Hatchback</td>\n",
       "      <td>Compact</td>\n",
       "      <td>4dr Hatchback</td>\n",
       "      <td>109</td>\n",
       "      <td>128</td>\n",
       "      <td>1385</td>\n",
       "      <td>25510</td>\n",
       "    </tr>\n",
       "    <tr>\n",
       "      <th>9872</th>\n",
       "      <td>Chevrolet</td>\n",
       "      <td>Spark EV</td>\n",
       "      <td>2016</td>\n",
       "      <td>electric</td>\n",
       "      <td>140.0</td>\n",
       "      <td>6.0</td>\n",
       "      <td>DIRECT_DRIVE</td>\n",
       "      <td>front wheel drive</td>\n",
       "      <td>4.0</td>\n",
       "      <td>Hatchback</td>\n",
       "      <td>Compact</td>\n",
       "      <td>4dr Hatchback</td>\n",
       "      <td>109</td>\n",
       "      <td>128</td>\n",
       "      <td>1385</td>\n",
       "      <td>25120</td>\n",
       "    </tr>\n",
       "  </tbody>\n",
       "</table>\n",
       "<p>187 rows × 16 columns</p>\n",
       "</div>"
      ],
      "text/plain": [
       "           Make     Model  Year Engine Fuel Type  Engine_HP  Engine_Cylinders  \\\n",
       "135         BMW  3 Series  2015           diesel      180.0               4.0   \n",
       "140         BMW  3 Series  2015           diesel      180.0               4.0   \n",
       "142         BMW  3 Series  2015           diesel      180.0               4.0   \n",
       "539        FIAT      500e  2015         electric      160.0               6.0   \n",
       "540        FIAT      500e  2016         electric      160.0               6.0   \n",
       "...         ...       ...   ...              ...        ...               ...   \n",
       "9868  Chevrolet  Spark EV  2014         electric      140.0               6.0   \n",
       "9869  Chevrolet  Spark EV  2015         electric      140.0               6.0   \n",
       "9870  Chevrolet  Spark EV  2015         electric      140.0               6.0   \n",
       "9871  Chevrolet  Spark EV  2016         electric      140.0               6.0   \n",
       "9872  Chevrolet  Spark EV  2016         electric      140.0               6.0   \n",
       "\n",
       "     Transmission Type      Driven_Wheels  Number_of_Doors Market Category  \\\n",
       "135          AUTOMATIC   rear wheel drive              4.0   Diesel,Luxury   \n",
       "140          AUTOMATIC    all wheel drive              4.0   Diesel,Luxury   \n",
       "142          AUTOMATIC    all wheel drive              4.0   Diesel,Luxury   \n",
       "539       DIRECT_DRIVE  front wheel drive              2.0       Hatchback   \n",
       "540       DIRECT_DRIVE  front wheel drive              2.0       Hatchback   \n",
       "...                ...                ...              ...             ...   \n",
       "9868      DIRECT_DRIVE  front wheel drive              4.0       Hatchback   \n",
       "9869      DIRECT_DRIVE  front wheel drive              4.0       Hatchback   \n",
       "9870      DIRECT_DRIVE  front wheel drive              4.0       Hatchback   \n",
       "9871      DIRECT_DRIVE  front wheel drive              4.0       Hatchback   \n",
       "9872      DIRECT_DRIVE  front wheel drive              4.0       Hatchback   \n",
       "\n",
       "     Vehicle Size  Vehicle Style  highway_MPG  city_mpg  Popularity   MSRP  \n",
       "135       Midsize          Sedan           45        32        3916  39000  \n",
       "140       Midsize          Wagon           43        31        3916  43450  \n",
       "142       Midsize          Sedan           43        31        3916  41000  \n",
       "539       Compact  2dr Hatchback          108       122         819  31800  \n",
       "540       Compact  2dr Hatchback          103       121         819  31800  \n",
       "...           ...            ...          ...       ...         ...    ...  \n",
       "9868      Compact  4dr Hatchback          109       128        1385  27010  \n",
       "9869      Compact  4dr Hatchback          109       128        1385  25170  \n",
       "9870      Compact  4dr Hatchback          109       128        1385  25560  \n",
       "9871      Compact  4dr Hatchback          109       128        1385  25510  \n",
       "9872      Compact  4dr Hatchback          109       128        1385  25120  \n",
       "\n",
       "[187 rows x 16 columns]"
      ]
     },
     "execution_count": 550,
     "metadata": {},
     "output_type": "execute_result"
    }
   ],
   "source": [
    "data.loc[data.highway_MPG>max_limit]"
   ]
  },
  {
   "cell_type": "code",
   "execution_count": 551,
   "id": "6cbdd0f1",
   "metadata": {},
   "outputs": [],
   "source": [
    "data.loc[data['highway_MPG']>max_limit,'highway_MPG']=np.median(data.highway_MPG)\n"
   ]
  },
  {
   "cell_type": "code",
   "execution_count": 552,
   "id": "748775f2",
   "metadata": {},
   "outputs": [
    {
     "data": {
      "text/html": [
       "<div>\n",
       "<style scoped>\n",
       "    .dataframe tbody tr th:only-of-type {\n",
       "        vertical-align: middle;\n",
       "    }\n",
       "\n",
       "    .dataframe tbody tr th {\n",
       "        vertical-align: top;\n",
       "    }\n",
       "\n",
       "    .dataframe thead th {\n",
       "        text-align: right;\n",
       "    }\n",
       "</style>\n",
       "<table border=\"1\" class=\"dataframe\">\n",
       "  <thead>\n",
       "    <tr style=\"text-align: right;\">\n",
       "      <th></th>\n",
       "      <th>Make</th>\n",
       "      <th>Model</th>\n",
       "      <th>Year</th>\n",
       "      <th>Engine Fuel Type</th>\n",
       "      <th>Engine_HP</th>\n",
       "      <th>Engine_Cylinders</th>\n",
       "      <th>Transmission Type</th>\n",
       "      <th>Driven_Wheels</th>\n",
       "      <th>Number_of_Doors</th>\n",
       "      <th>Market Category</th>\n",
       "      <th>Vehicle Size</th>\n",
       "      <th>Vehicle Style</th>\n",
       "      <th>highway_MPG</th>\n",
       "      <th>city_mpg</th>\n",
       "      <th>Popularity</th>\n",
       "      <th>MSRP</th>\n",
       "    </tr>\n",
       "  </thead>\n",
       "  <tbody>\n",
       "  </tbody>\n",
       "</table>\n",
       "</div>"
      ],
      "text/plain": [
       "Empty DataFrame\n",
       "Columns: [Make, Model, Year, Engine Fuel Type, Engine_HP, Engine_Cylinders, Transmission Type, Driven_Wheels, Number_of_Doors, Market Category, Vehicle Size, Vehicle Style, highway_MPG, city_mpg, Popularity, MSRP]\n",
       "Index: []"
      ]
     },
     "execution_count": 552,
     "metadata": {},
     "output_type": "execute_result"
    }
   ],
   "source": [
    "data.loc[data.highway_MPG>max_limit]"
   ]
  },
  {
   "cell_type": "code",
   "execution_count": 553,
   "id": "bcaff290",
   "metadata": {},
   "outputs": [
    {
     "data": {
      "text/plain": [
       "(7.0, 31.0)"
      ]
     },
     "execution_count": 553,
     "metadata": {},
     "output_type": "execute_result"
    }
   ],
   "source": [
    "IQR =stats.iqr(data.city_mpg,interpolation='midpoint')\n",
    "Q1=data.city_mpg.quantile(0.25)\n",
    "Q3=data.city_mpg.quantile(0.75)\n",
    "min_limit=Q1-1.5*IQR\n",
    "max_limit=Q3+1.5*IQR\n",
    "min_limit,max_limit\n"
   ]
  },
  {
   "cell_type": "code",
   "execution_count": 554,
   "id": "bea993cc",
   "metadata": {},
   "outputs": [
    {
     "data": {
      "text/html": [
       "<div>\n",
       "<style scoped>\n",
       "    .dataframe tbody tr th:only-of-type {\n",
       "        vertical-align: middle;\n",
       "    }\n",
       "\n",
       "    .dataframe tbody tr th {\n",
       "        vertical-align: top;\n",
       "    }\n",
       "\n",
       "    .dataframe thead th {\n",
       "        text-align: right;\n",
       "    }\n",
       "</style>\n",
       "<table border=\"1\" class=\"dataframe\">\n",
       "  <thead>\n",
       "    <tr style=\"text-align: right;\">\n",
       "      <th></th>\n",
       "      <th>Make</th>\n",
       "      <th>Model</th>\n",
       "      <th>Year</th>\n",
       "      <th>Engine Fuel Type</th>\n",
       "      <th>Engine_HP</th>\n",
       "      <th>Engine_Cylinders</th>\n",
       "      <th>Transmission Type</th>\n",
       "      <th>Driven_Wheels</th>\n",
       "      <th>Number_of_Doors</th>\n",
       "      <th>Market Category</th>\n",
       "      <th>Vehicle Size</th>\n",
       "      <th>Vehicle Style</th>\n",
       "      <th>highway_MPG</th>\n",
       "      <th>city_mpg</th>\n",
       "      <th>Popularity</th>\n",
       "      <th>MSRP</th>\n",
       "    </tr>\n",
       "  </thead>\n",
       "  <tbody>\n",
       "  </tbody>\n",
       "</table>\n",
       "</div>"
      ],
      "text/plain": [
       "Empty DataFrame\n",
       "Columns: [Make, Model, Year, Engine Fuel Type, Engine_HP, Engine_Cylinders, Transmission Type, Driven_Wheels, Number_of_Doors, Market Category, Vehicle Size, Vehicle Style, highway_MPG, city_mpg, Popularity, MSRP]\n",
       "Index: []"
      ]
     },
     "execution_count": 554,
     "metadata": {},
     "output_type": "execute_result"
    }
   ],
   "source": [
    "data.loc[data.city_mpg<min_limit]"
   ]
  },
  {
   "cell_type": "code",
   "execution_count": 555,
   "id": "bcf813bb",
   "metadata": {},
   "outputs": [
    {
     "data": {
      "text/html": [
       "<div>\n",
       "<style scoped>\n",
       "    .dataframe tbody tr th:only-of-type {\n",
       "        vertical-align: middle;\n",
       "    }\n",
       "\n",
       "    .dataframe tbody tr th {\n",
       "        vertical-align: top;\n",
       "    }\n",
       "\n",
       "    .dataframe thead th {\n",
       "        text-align: right;\n",
       "    }\n",
       "</style>\n",
       "<table border=\"1\" class=\"dataframe\">\n",
       "  <thead>\n",
       "    <tr style=\"text-align: right;\">\n",
       "      <th></th>\n",
       "      <th>Make</th>\n",
       "      <th>Model</th>\n",
       "      <th>Year</th>\n",
       "      <th>Engine Fuel Type</th>\n",
       "      <th>Engine_HP</th>\n",
       "      <th>Engine_Cylinders</th>\n",
       "      <th>Transmission Type</th>\n",
       "      <th>Driven_Wheels</th>\n",
       "      <th>Number_of_Doors</th>\n",
       "      <th>Market Category</th>\n",
       "      <th>Vehicle Size</th>\n",
       "      <th>Vehicle Style</th>\n",
       "      <th>highway_MPG</th>\n",
       "      <th>city_mpg</th>\n",
       "      <th>Popularity</th>\n",
       "      <th>MSRP</th>\n",
       "    </tr>\n",
       "  </thead>\n",
       "  <tbody>\n",
       "    <tr>\n",
       "      <th>135</th>\n",
       "      <td>BMW</td>\n",
       "      <td>3 Series</td>\n",
       "      <td>2015</td>\n",
       "      <td>diesel</td>\n",
       "      <td>180.0</td>\n",
       "      <td>4.0</td>\n",
       "      <td>AUTOMATIC</td>\n",
       "      <td>rear wheel drive</td>\n",
       "      <td>4.0</td>\n",
       "      <td>Diesel,Luxury</td>\n",
       "      <td>Midsize</td>\n",
       "      <td>Sedan</td>\n",
       "      <td>26</td>\n",
       "      <td>32</td>\n",
       "      <td>3916</td>\n",
       "      <td>39000</td>\n",
       "    </tr>\n",
       "    <tr>\n",
       "      <th>146</th>\n",
       "      <td>BMW</td>\n",
       "      <td>3 Series</td>\n",
       "      <td>2016</td>\n",
       "      <td>diesel</td>\n",
       "      <td>180.0</td>\n",
       "      <td>4.0</td>\n",
       "      <td>AUTOMATIC</td>\n",
       "      <td>rear wheel drive</td>\n",
       "      <td>4.0</td>\n",
       "      <td>Diesel,Luxury</td>\n",
       "      <td>Midsize</td>\n",
       "      <td>Sedan</td>\n",
       "      <td>42</td>\n",
       "      <td>32</td>\n",
       "      <td>3916</td>\n",
       "      <td>39850</td>\n",
       "    </tr>\n",
       "    <tr>\n",
       "      <th>161</th>\n",
       "      <td>BMW</td>\n",
       "      <td>3 Series</td>\n",
       "      <td>2017</td>\n",
       "      <td>diesel</td>\n",
       "      <td>180.0</td>\n",
       "      <td>4.0</td>\n",
       "      <td>AUTOMATIC</td>\n",
       "      <td>rear wheel drive</td>\n",
       "      <td>4.0</td>\n",
       "      <td>Diesel,Luxury</td>\n",
       "      <td>Midsize</td>\n",
       "      <td>Sedan</td>\n",
       "      <td>42</td>\n",
       "      <td>32</td>\n",
       "      <td>3916</td>\n",
       "      <td>40250</td>\n",
       "    </tr>\n",
       "    <tr>\n",
       "      <th>539</th>\n",
       "      <td>FIAT</td>\n",
       "      <td>500e</td>\n",
       "      <td>2015</td>\n",
       "      <td>electric</td>\n",
       "      <td>160.0</td>\n",
       "      <td>6.0</td>\n",
       "      <td>DIRECT_DRIVE</td>\n",
       "      <td>front wheel drive</td>\n",
       "      <td>2.0</td>\n",
       "      <td>Hatchback</td>\n",
       "      <td>Compact</td>\n",
       "      <td>2dr Hatchback</td>\n",
       "      <td>26</td>\n",
       "      <td>122</td>\n",
       "      <td>819</td>\n",
       "      <td>31800</td>\n",
       "    </tr>\n",
       "    <tr>\n",
       "      <th>540</th>\n",
       "      <td>FIAT</td>\n",
       "      <td>500e</td>\n",
       "      <td>2016</td>\n",
       "      <td>electric</td>\n",
       "      <td>160.0</td>\n",
       "      <td>6.0</td>\n",
       "      <td>DIRECT_DRIVE</td>\n",
       "      <td>front wheel drive</td>\n",
       "      <td>2.0</td>\n",
       "      <td>Hatchback</td>\n",
       "      <td>Compact</td>\n",
       "      <td>2dr Hatchback</td>\n",
       "      <td>26</td>\n",
       "      <td>121</td>\n",
       "      <td>819</td>\n",
       "      <td>31800</td>\n",
       "    </tr>\n",
       "    <tr>\n",
       "      <th>...</th>\n",
       "      <td>...</td>\n",
       "      <td>...</td>\n",
       "      <td>...</td>\n",
       "      <td>...</td>\n",
       "      <td>...</td>\n",
       "      <td>...</td>\n",
       "      <td>...</td>\n",
       "      <td>...</td>\n",
       "      <td>...</td>\n",
       "      <td>...</td>\n",
       "      <td>...</td>\n",
       "      <td>...</td>\n",
       "      <td>...</td>\n",
       "      <td>...</td>\n",
       "      <td>...</td>\n",
       "      <td>...</td>\n",
       "    </tr>\n",
       "    <tr>\n",
       "      <th>10110</th>\n",
       "      <td>Suzuki</td>\n",
       "      <td>Swift</td>\n",
       "      <td>2015</td>\n",
       "      <td>regular unleaded</td>\n",
       "      <td>79.0</td>\n",
       "      <td>4.0</td>\n",
       "      <td>MANUAL</td>\n",
       "      <td>front wheel drive</td>\n",
       "      <td>2.0</td>\n",
       "      <td>Hatchback</td>\n",
       "      <td>Compact</td>\n",
       "      <td>2dr Hatchback</td>\n",
       "      <td>39</td>\n",
       "      <td>33</td>\n",
       "      <td>481</td>\n",
       "      <td>2000</td>\n",
       "    </tr>\n",
       "    <tr>\n",
       "      <th>10792</th>\n",
       "      <td>Mazda</td>\n",
       "      <td>Tribute Hybrid</td>\n",
       "      <td>2008</td>\n",
       "      <td>regular unleaded</td>\n",
       "      <td>133.0</td>\n",
       "      <td>4.0</td>\n",
       "      <td>AUTOMATIC</td>\n",
       "      <td>front wheel drive</td>\n",
       "      <td>4.0</td>\n",
       "      <td>Crossover,Hybrid</td>\n",
       "      <td>Compact</td>\n",
       "      <td>4dr SUV</td>\n",
       "      <td>30</td>\n",
       "      <td>34</td>\n",
       "      <td>586</td>\n",
       "      <td>27995</td>\n",
       "    </tr>\n",
       "    <tr>\n",
       "      <th>10795</th>\n",
       "      <td>Mazda</td>\n",
       "      <td>Tribute Hybrid</td>\n",
       "      <td>2008</td>\n",
       "      <td>regular unleaded</td>\n",
       "      <td>133.0</td>\n",
       "      <td>4.0</td>\n",
       "      <td>AUTOMATIC</td>\n",
       "      <td>front wheel drive</td>\n",
       "      <td>4.0</td>\n",
       "      <td>Crossover,Hybrid</td>\n",
       "      <td>Compact</td>\n",
       "      <td>4dr SUV</td>\n",
       "      <td>30</td>\n",
       "      <td>34</td>\n",
       "      <td>586</td>\n",
       "      <td>25485</td>\n",
       "    </tr>\n",
       "    <tr>\n",
       "      <th>10796</th>\n",
       "      <td>Mazda</td>\n",
       "      <td>Tribute Hybrid</td>\n",
       "      <td>2009</td>\n",
       "      <td>regular unleaded</td>\n",
       "      <td>177.0</td>\n",
       "      <td>4.0</td>\n",
       "      <td>AUTOMATIC</td>\n",
       "      <td>front wheel drive</td>\n",
       "      <td>4.0</td>\n",
       "      <td>Crossover,Hybrid</td>\n",
       "      <td>Compact</td>\n",
       "      <td>4dr SUV</td>\n",
       "      <td>31</td>\n",
       "      <td>34</td>\n",
       "      <td>586</td>\n",
       "      <td>29175</td>\n",
       "    </tr>\n",
       "    <tr>\n",
       "      <th>10797</th>\n",
       "      <td>Mazda</td>\n",
       "      <td>Tribute Hybrid</td>\n",
       "      <td>2009</td>\n",
       "      <td>regular unleaded</td>\n",
       "      <td>177.0</td>\n",
       "      <td>4.0</td>\n",
       "      <td>AUTOMATIC</td>\n",
       "      <td>front wheel drive</td>\n",
       "      <td>4.0</td>\n",
       "      <td>Crossover,Hybrid</td>\n",
       "      <td>Compact</td>\n",
       "      <td>4dr SUV</td>\n",
       "      <td>31</td>\n",
       "      <td>34</td>\n",
       "      <td>586</td>\n",
       "      <td>31695</td>\n",
       "    </tr>\n",
       "  </tbody>\n",
       "</table>\n",
       "<p>304 rows × 16 columns</p>\n",
       "</div>"
      ],
      "text/plain": [
       "         Make           Model  Year  Engine Fuel Type  Engine_HP  \\\n",
       "135       BMW        3 Series  2015            diesel      180.0   \n",
       "146       BMW        3 Series  2016            diesel      180.0   \n",
       "161       BMW        3 Series  2017            diesel      180.0   \n",
       "539      FIAT            500e  2015          electric      160.0   \n",
       "540      FIAT            500e  2016          electric      160.0   \n",
       "...       ...             ...   ...               ...        ...   \n",
       "10110  Suzuki           Swift  2015  regular unleaded       79.0   \n",
       "10792   Mazda  Tribute Hybrid  2008  regular unleaded      133.0   \n",
       "10795   Mazda  Tribute Hybrid  2008  regular unleaded      133.0   \n",
       "10796   Mazda  Tribute Hybrid  2009  regular unleaded      177.0   \n",
       "10797   Mazda  Tribute Hybrid  2009  regular unleaded      177.0   \n",
       "\n",
       "       Engine_Cylinders Transmission Type      Driven_Wheels  Number_of_Doors  \\\n",
       "135                 4.0         AUTOMATIC   rear wheel drive              4.0   \n",
       "146                 4.0         AUTOMATIC   rear wheel drive              4.0   \n",
       "161                 4.0         AUTOMATIC   rear wheel drive              4.0   \n",
       "539                 6.0      DIRECT_DRIVE  front wheel drive              2.0   \n",
       "540                 6.0      DIRECT_DRIVE  front wheel drive              2.0   \n",
       "...                 ...               ...                ...              ...   \n",
       "10110               4.0            MANUAL  front wheel drive              2.0   \n",
       "10792               4.0         AUTOMATIC  front wheel drive              4.0   \n",
       "10795               4.0         AUTOMATIC  front wheel drive              4.0   \n",
       "10796               4.0         AUTOMATIC  front wheel drive              4.0   \n",
       "10797               4.0         AUTOMATIC  front wheel drive              4.0   \n",
       "\n",
       "        Market Category Vehicle Size  Vehicle Style  highway_MPG  city_mpg  \\\n",
       "135       Diesel,Luxury      Midsize          Sedan           26        32   \n",
       "146       Diesel,Luxury      Midsize          Sedan           42        32   \n",
       "161       Diesel,Luxury      Midsize          Sedan           42        32   \n",
       "539           Hatchback      Compact  2dr Hatchback           26       122   \n",
       "540           Hatchback      Compact  2dr Hatchback           26       121   \n",
       "...                 ...          ...            ...          ...       ...   \n",
       "10110         Hatchback      Compact  2dr Hatchback           39        33   \n",
       "10792  Crossover,Hybrid      Compact        4dr SUV           30        34   \n",
       "10795  Crossover,Hybrid      Compact        4dr SUV           30        34   \n",
       "10796  Crossover,Hybrid      Compact        4dr SUV           31        34   \n",
       "10797  Crossover,Hybrid      Compact        4dr SUV           31        34   \n",
       "\n",
       "       Popularity   MSRP  \n",
       "135          3916  39000  \n",
       "146          3916  39850  \n",
       "161          3916  40250  \n",
       "539           819  31800  \n",
       "540           819  31800  \n",
       "...           ...    ...  \n",
       "10110         481   2000  \n",
       "10792         586  27995  \n",
       "10795         586  25485  \n",
       "10796         586  29175  \n",
       "10797         586  31695  \n",
       "\n",
       "[304 rows x 16 columns]"
      ]
     },
     "execution_count": 555,
     "metadata": {},
     "output_type": "execute_result"
    }
   ],
   "source": [
    "data.loc[data.city_mpg>max_limit]"
   ]
  },
  {
   "cell_type": "code",
   "execution_count": 556,
   "id": "09a3feb1",
   "metadata": {},
   "outputs": [],
   "source": [
    "data.loc[data['city_mpg']>max_limit,'city_mpg']=np.median(data.city_mpg)\n"
   ]
  },
  {
   "cell_type": "code",
   "execution_count": 557,
   "id": "ea266ea9",
   "metadata": {},
   "outputs": [
    {
     "data": {
      "text/html": [
       "<div>\n",
       "<style scoped>\n",
       "    .dataframe tbody tr th:only-of-type {\n",
       "        vertical-align: middle;\n",
       "    }\n",
       "\n",
       "    .dataframe tbody tr th {\n",
       "        vertical-align: top;\n",
       "    }\n",
       "\n",
       "    .dataframe thead th {\n",
       "        text-align: right;\n",
       "    }\n",
       "</style>\n",
       "<table border=\"1\" class=\"dataframe\">\n",
       "  <thead>\n",
       "    <tr style=\"text-align: right;\">\n",
       "      <th></th>\n",
       "      <th>Make</th>\n",
       "      <th>Model</th>\n",
       "      <th>Year</th>\n",
       "      <th>Engine Fuel Type</th>\n",
       "      <th>Engine_HP</th>\n",
       "      <th>Engine_Cylinders</th>\n",
       "      <th>Transmission Type</th>\n",
       "      <th>Driven_Wheels</th>\n",
       "      <th>Number_of_Doors</th>\n",
       "      <th>Market Category</th>\n",
       "      <th>Vehicle Size</th>\n",
       "      <th>Vehicle Style</th>\n",
       "      <th>highway_MPG</th>\n",
       "      <th>city_mpg</th>\n",
       "      <th>Popularity</th>\n",
       "      <th>MSRP</th>\n",
       "    </tr>\n",
       "  </thead>\n",
       "  <tbody>\n",
       "  </tbody>\n",
       "</table>\n",
       "</div>"
      ],
      "text/plain": [
       "Empty DataFrame\n",
       "Columns: [Make, Model, Year, Engine Fuel Type, Engine_HP, Engine_Cylinders, Transmission Type, Driven_Wheels, Number_of_Doors, Market Category, Vehicle Size, Vehicle Style, highway_MPG, city_mpg, Popularity, MSRP]\n",
       "Index: []"
      ]
     },
     "execution_count": 557,
     "metadata": {},
     "output_type": "execute_result"
    }
   ],
   "source": [
    "data.loc[data.city_mpg>max_limit]"
   ]
  },
  {
   "cell_type": "code",
   "execution_count": 558,
   "id": "b756a298",
   "metadata": {},
   "outputs": [
    {
     "data": {
      "text/plain": [
       "(-1641.0, 4199.0)"
      ]
     },
     "execution_count": 558,
     "metadata": {},
     "output_type": "execute_result"
    }
   ],
   "source": [
    "IQR =stats.iqr(data.Popularity,interpolation='midpoint')\n",
    "Q1=data.Popularity.quantile(0.25)\n",
    "Q3=data.Popularity.quantile(0.75)\n",
    "min_limit=Q1-1.5*IQR\n",
    "max_limit=Q3+1.5*IQR\n",
    "min_limit,max_limit\n"
   ]
  },
  {
   "cell_type": "code",
   "execution_count": 559,
   "id": "8f9133d5",
   "metadata": {},
   "outputs": [
    {
     "data": {
      "text/html": [
       "<div>\n",
       "<style scoped>\n",
       "    .dataframe tbody tr th:only-of-type {\n",
       "        vertical-align: middle;\n",
       "    }\n",
       "\n",
       "    .dataframe tbody tr th {\n",
       "        vertical-align: top;\n",
       "    }\n",
       "\n",
       "    .dataframe thead th {\n",
       "        text-align: right;\n",
       "    }\n",
       "</style>\n",
       "<table border=\"1\" class=\"dataframe\">\n",
       "  <thead>\n",
       "    <tr style=\"text-align: right;\">\n",
       "      <th></th>\n",
       "      <th>Make</th>\n",
       "      <th>Model</th>\n",
       "      <th>Year</th>\n",
       "      <th>Engine Fuel Type</th>\n",
       "      <th>Engine_HP</th>\n",
       "      <th>Engine_Cylinders</th>\n",
       "      <th>Transmission Type</th>\n",
       "      <th>Driven_Wheels</th>\n",
       "      <th>Number_of_Doors</th>\n",
       "      <th>Market Category</th>\n",
       "      <th>Vehicle Size</th>\n",
       "      <th>Vehicle Style</th>\n",
       "      <th>highway_MPG</th>\n",
       "      <th>city_mpg</th>\n",
       "      <th>Popularity</th>\n",
       "      <th>MSRP</th>\n",
       "    </tr>\n",
       "  </thead>\n",
       "  <tbody>\n",
       "  </tbody>\n",
       "</table>\n",
       "</div>"
      ],
      "text/plain": [
       "Empty DataFrame\n",
       "Columns: [Make, Model, Year, Engine Fuel Type, Engine_HP, Engine_Cylinders, Transmission Type, Driven_Wheels, Number_of_Doors, Market Category, Vehicle Size, Vehicle Style, highway_MPG, city_mpg, Popularity, MSRP]\n",
       "Index: []"
      ]
     },
     "execution_count": 559,
     "metadata": {},
     "output_type": "execute_result"
    }
   ],
   "source": [
    "data.loc[data.Popularity<min_limit]"
   ]
  },
  {
   "cell_type": "code",
   "execution_count": 560,
   "id": "2044a520",
   "metadata": {},
   "outputs": [
    {
     "data": {
      "text/html": [
       "<div>\n",
       "<style scoped>\n",
       "    .dataframe tbody tr th:only-of-type {\n",
       "        vertical-align: middle;\n",
       "    }\n",
       "\n",
       "    .dataframe tbody tr th {\n",
       "        vertical-align: top;\n",
       "    }\n",
       "\n",
       "    .dataframe thead th {\n",
       "        text-align: right;\n",
       "    }\n",
       "</style>\n",
       "<table border=\"1\" class=\"dataframe\">\n",
       "  <thead>\n",
       "    <tr style=\"text-align: right;\">\n",
       "      <th></th>\n",
       "      <th>Make</th>\n",
       "      <th>Model</th>\n",
       "      <th>Year</th>\n",
       "      <th>Engine Fuel Type</th>\n",
       "      <th>Engine_HP</th>\n",
       "      <th>Engine_Cylinders</th>\n",
       "      <th>Transmission Type</th>\n",
       "      <th>Driven_Wheels</th>\n",
       "      <th>Number_of_Doors</th>\n",
       "      <th>Market Category</th>\n",
       "      <th>Vehicle Size</th>\n",
       "      <th>Vehicle Style</th>\n",
       "      <th>highway_MPG</th>\n",
       "      <th>city_mpg</th>\n",
       "      <th>Popularity</th>\n",
       "      <th>MSRP</th>\n",
       "    </tr>\n",
       "  </thead>\n",
       "  <tbody>\n",
       "    <tr>\n",
       "      <th>1469</th>\n",
       "      <td>Ford</td>\n",
       "      <td>Aspire</td>\n",
       "      <td>2015</td>\n",
       "      <td>regular unleaded</td>\n",
       "      <td>63.0</td>\n",
       "      <td>4.0</td>\n",
       "      <td>MANUAL</td>\n",
       "      <td>front wheel drive</td>\n",
       "      <td>2.0</td>\n",
       "      <td>Hatchback</td>\n",
       "      <td>Compact</td>\n",
       "      <td>2dr Hatchback</td>\n",
       "      <td>38</td>\n",
       "      <td>31</td>\n",
       "      <td>5657</td>\n",
       "      <td>2000</td>\n",
       "    </tr>\n",
       "    <tr>\n",
       "      <th>1470</th>\n",
       "      <td>Ford</td>\n",
       "      <td>Aspire</td>\n",
       "      <td>2015</td>\n",
       "      <td>regular unleaded</td>\n",
       "      <td>63.0</td>\n",
       "      <td>4.0</td>\n",
       "      <td>MANUAL</td>\n",
       "      <td>front wheel drive</td>\n",
       "      <td>2.0</td>\n",
       "      <td>Hatchback</td>\n",
       "      <td>Compact</td>\n",
       "      <td>2dr Hatchback</td>\n",
       "      <td>38</td>\n",
       "      <td>31</td>\n",
       "      <td>5657</td>\n",
       "      <td>2000</td>\n",
       "    </tr>\n",
       "    <tr>\n",
       "      <th>1471</th>\n",
       "      <td>Ford</td>\n",
       "      <td>Aspire</td>\n",
       "      <td>2015</td>\n",
       "      <td>regular unleaded</td>\n",
       "      <td>63.0</td>\n",
       "      <td>4.0</td>\n",
       "      <td>MANUAL</td>\n",
       "      <td>front wheel drive</td>\n",
       "      <td>4.0</td>\n",
       "      <td>Hatchback</td>\n",
       "      <td>Compact</td>\n",
       "      <td>4dr Hatchback</td>\n",
       "      <td>38</td>\n",
       "      <td>31</td>\n",
       "      <td>5657</td>\n",
       "      <td>2000</td>\n",
       "    </tr>\n",
       "    <tr>\n",
       "      <th>1472</th>\n",
       "      <td>Ford</td>\n",
       "      <td>Aspire</td>\n",
       "      <td>2015</td>\n",
       "      <td>regular unleaded</td>\n",
       "      <td>63.0</td>\n",
       "      <td>4.0</td>\n",
       "      <td>MANUAL</td>\n",
       "      <td>front wheel drive</td>\n",
       "      <td>4.0</td>\n",
       "      <td>Hatchback</td>\n",
       "      <td>Compact</td>\n",
       "      <td>4dr Hatchback</td>\n",
       "      <td>38</td>\n",
       "      <td>29</td>\n",
       "      <td>5657</td>\n",
       "      <td>2000</td>\n",
       "    </tr>\n",
       "    <tr>\n",
       "      <th>1473</th>\n",
       "      <td>Ford</td>\n",
       "      <td>Aspire</td>\n",
       "      <td>2015</td>\n",
       "      <td>regular unleaded</td>\n",
       "      <td>63.0</td>\n",
       "      <td>4.0</td>\n",
       "      <td>MANUAL</td>\n",
       "      <td>front wheel drive</td>\n",
       "      <td>2.0</td>\n",
       "      <td>Hatchback</td>\n",
       "      <td>Compact</td>\n",
       "      <td>2dr Hatchback</td>\n",
       "      <td>38</td>\n",
       "      <td>29</td>\n",
       "      <td>5657</td>\n",
       "      <td>2000</td>\n",
       "    </tr>\n",
       "    <tr>\n",
       "      <th>...</th>\n",
       "      <td>...</td>\n",
       "      <td>...</td>\n",
       "      <td>...</td>\n",
       "      <td>...</td>\n",
       "      <td>...</td>\n",
       "      <td>...</td>\n",
       "      <td>...</td>\n",
       "      <td>...</td>\n",
       "      <td>...</td>\n",
       "      <td>...</td>\n",
       "      <td>...</td>\n",
       "      <td>...</td>\n",
       "      <td>...</td>\n",
       "      <td>...</td>\n",
       "      <td>...</td>\n",
       "      <td>...</td>\n",
       "    </tr>\n",
       "    <tr>\n",
       "      <th>10734</th>\n",
       "      <td>Ford</td>\n",
       "      <td>Transit Wagon</td>\n",
       "      <td>2017</td>\n",
       "      <td>flex-fuel (unleaded/E85)</td>\n",
       "      <td>275.0</td>\n",
       "      <td>6.0</td>\n",
       "      <td>AUTOMATIC</td>\n",
       "      <td>rear wheel drive</td>\n",
       "      <td>3.0</td>\n",
       "      <td>Flex Fuel</td>\n",
       "      <td>Large</td>\n",
       "      <td>Passenger Van</td>\n",
       "      <td>19</td>\n",
       "      <td>14</td>\n",
       "      <td>5657</td>\n",
       "      <td>35825</td>\n",
       "    </tr>\n",
       "    <tr>\n",
       "      <th>10735</th>\n",
       "      <td>Ford</td>\n",
       "      <td>Transit Wagon</td>\n",
       "      <td>2017</td>\n",
       "      <td>regular unleaded</td>\n",
       "      <td>275.0</td>\n",
       "      <td>6.0</td>\n",
       "      <td>AUTOMATIC</td>\n",
       "      <td>rear wheel drive</td>\n",
       "      <td>3.0</td>\n",
       "      <td>Diesel</td>\n",
       "      <td>Large</td>\n",
       "      <td>Passenger Van</td>\n",
       "      <td>19</td>\n",
       "      <td>14</td>\n",
       "      <td>5657</td>\n",
       "      <td>42220</td>\n",
       "    </tr>\n",
       "    <tr>\n",
       "      <th>10736</th>\n",
       "      <td>Ford</td>\n",
       "      <td>Transit Wagon</td>\n",
       "      <td>2017</td>\n",
       "      <td>regular unleaded</td>\n",
       "      <td>275.0</td>\n",
       "      <td>6.0</td>\n",
       "      <td>AUTOMATIC</td>\n",
       "      <td>rear wheel drive</td>\n",
       "      <td>3.0</td>\n",
       "      <td>Diesel</td>\n",
       "      <td>Midsize</td>\n",
       "      <td>Passenger Van</td>\n",
       "      <td>19</td>\n",
       "      <td>14</td>\n",
       "      <td>5657</td>\n",
       "      <td>39460</td>\n",
       "    </tr>\n",
       "    <tr>\n",
       "      <th>10737</th>\n",
       "      <td>Ford</td>\n",
       "      <td>Transit Wagon</td>\n",
       "      <td>2017</td>\n",
       "      <td>regular unleaded</td>\n",
       "      <td>275.0</td>\n",
       "      <td>6.0</td>\n",
       "      <td>AUTOMATIC</td>\n",
       "      <td>rear wheel drive</td>\n",
       "      <td>3.0</td>\n",
       "      <td>Diesel</td>\n",
       "      <td>Midsize</td>\n",
       "      <td>Passenger Van</td>\n",
       "      <td>19</td>\n",
       "      <td>14</td>\n",
       "      <td>5657</td>\n",
       "      <td>38165</td>\n",
       "    </tr>\n",
       "    <tr>\n",
       "      <th>10738</th>\n",
       "      <td>Ford</td>\n",
       "      <td>Transit Wagon</td>\n",
       "      <td>2017</td>\n",
       "      <td>regular unleaded</td>\n",
       "      <td>275.0</td>\n",
       "      <td>6.0</td>\n",
       "      <td>AUTOMATIC</td>\n",
       "      <td>rear wheel drive</td>\n",
       "      <td>3.0</td>\n",
       "      <td>Diesel</td>\n",
       "      <td>Large</td>\n",
       "      <td>Passenger Van</td>\n",
       "      <td>19</td>\n",
       "      <td>14</td>\n",
       "      <td>5657</td>\n",
       "      <td>40925</td>\n",
       "    </tr>\n",
       "  </tbody>\n",
       "</table>\n",
       "<p>499 rows × 16 columns</p>\n",
       "</div>"
      ],
      "text/plain": [
       "       Make          Model  Year          Engine Fuel Type  Engine_HP  \\\n",
       "1469   Ford         Aspire  2015          regular unleaded       63.0   \n",
       "1470   Ford         Aspire  2015          regular unleaded       63.0   \n",
       "1471   Ford         Aspire  2015          regular unleaded       63.0   \n",
       "1472   Ford         Aspire  2015          regular unleaded       63.0   \n",
       "1473   Ford         Aspire  2015          regular unleaded       63.0   \n",
       "...     ...            ...   ...                       ...        ...   \n",
       "10734  Ford  Transit Wagon  2017  flex-fuel (unleaded/E85)      275.0   \n",
       "10735  Ford  Transit Wagon  2017          regular unleaded      275.0   \n",
       "10736  Ford  Transit Wagon  2017          regular unleaded      275.0   \n",
       "10737  Ford  Transit Wagon  2017          regular unleaded      275.0   \n",
       "10738  Ford  Transit Wagon  2017          regular unleaded      275.0   \n",
       "\n",
       "       Engine_Cylinders Transmission Type      Driven_Wheels  Number_of_Doors  \\\n",
       "1469                4.0            MANUAL  front wheel drive              2.0   \n",
       "1470                4.0            MANUAL  front wheel drive              2.0   \n",
       "1471                4.0            MANUAL  front wheel drive              4.0   \n",
       "1472                4.0            MANUAL  front wheel drive              4.0   \n",
       "1473                4.0            MANUAL  front wheel drive              2.0   \n",
       "...                 ...               ...                ...              ...   \n",
       "10734               6.0         AUTOMATIC   rear wheel drive              3.0   \n",
       "10735               6.0         AUTOMATIC   rear wheel drive              3.0   \n",
       "10736               6.0         AUTOMATIC   rear wheel drive              3.0   \n",
       "10737               6.0         AUTOMATIC   rear wheel drive              3.0   \n",
       "10738               6.0         AUTOMATIC   rear wheel drive              3.0   \n",
       "\n",
       "      Market Category Vehicle Size  Vehicle Style  highway_MPG  city_mpg  \\\n",
       "1469        Hatchback      Compact  2dr Hatchback           38        31   \n",
       "1470        Hatchback      Compact  2dr Hatchback           38        31   \n",
       "1471        Hatchback      Compact  4dr Hatchback           38        31   \n",
       "1472        Hatchback      Compact  4dr Hatchback           38        29   \n",
       "1473        Hatchback      Compact  2dr Hatchback           38        29   \n",
       "...               ...          ...            ...          ...       ...   \n",
       "10734       Flex Fuel        Large  Passenger Van           19        14   \n",
       "10735          Diesel        Large  Passenger Van           19        14   \n",
       "10736          Diesel      Midsize  Passenger Van           19        14   \n",
       "10737          Diesel      Midsize  Passenger Van           19        14   \n",
       "10738          Diesel        Large  Passenger Van           19        14   \n",
       "\n",
       "       Popularity   MSRP  \n",
       "1469         5657   2000  \n",
       "1470         5657   2000  \n",
       "1471         5657   2000  \n",
       "1472         5657   2000  \n",
       "1473         5657   2000  \n",
       "...           ...    ...  \n",
       "10734        5657  35825  \n",
       "10735        5657  42220  \n",
       "10736        5657  39460  \n",
       "10737        5657  38165  \n",
       "10738        5657  40925  \n",
       "\n",
       "[499 rows x 16 columns]"
      ]
     },
     "execution_count": 560,
     "metadata": {},
     "output_type": "execute_result"
    }
   ],
   "source": [
    "data.loc[data.Popularity>max_limit]"
   ]
  },
  {
   "cell_type": "code",
   "execution_count": 561,
   "id": "b8083ea2",
   "metadata": {},
   "outputs": [],
   "source": [
    "data.loc[data['Popularity']>max_limit,'Popularity']=np.median(data.Popularity)\n"
   ]
  },
  {
   "cell_type": "code",
   "execution_count": 562,
   "id": "0147bfff",
   "metadata": {},
   "outputs": [
    {
     "data": {
      "text/html": [
       "<div>\n",
       "<style scoped>\n",
       "    .dataframe tbody tr th:only-of-type {\n",
       "        vertical-align: middle;\n",
       "    }\n",
       "\n",
       "    .dataframe tbody tr th {\n",
       "        vertical-align: top;\n",
       "    }\n",
       "\n",
       "    .dataframe thead th {\n",
       "        text-align: right;\n",
       "    }\n",
       "</style>\n",
       "<table border=\"1\" class=\"dataframe\">\n",
       "  <thead>\n",
       "    <tr style=\"text-align: right;\">\n",
       "      <th></th>\n",
       "      <th>Make</th>\n",
       "      <th>Model</th>\n",
       "      <th>Year</th>\n",
       "      <th>Engine Fuel Type</th>\n",
       "      <th>Engine_HP</th>\n",
       "      <th>Engine_Cylinders</th>\n",
       "      <th>Transmission Type</th>\n",
       "      <th>Driven_Wheels</th>\n",
       "      <th>Number_of_Doors</th>\n",
       "      <th>Market Category</th>\n",
       "      <th>Vehicle Size</th>\n",
       "      <th>Vehicle Style</th>\n",
       "      <th>highway_MPG</th>\n",
       "      <th>city_mpg</th>\n",
       "      <th>Popularity</th>\n",
       "      <th>MSRP</th>\n",
       "    </tr>\n",
       "  </thead>\n",
       "  <tbody>\n",
       "  </tbody>\n",
       "</table>\n",
       "</div>"
      ],
      "text/plain": [
       "Empty DataFrame\n",
       "Columns: [Make, Model, Year, Engine Fuel Type, Engine_HP, Engine_Cylinders, Transmission Type, Driven_Wheels, Number_of_Doors, Market Category, Vehicle Size, Vehicle Style, highway_MPG, city_mpg, Popularity, MSRP]\n",
       "Index: []"
      ]
     },
     "execution_count": 562,
     "metadata": {},
     "output_type": "execute_result"
    }
   ],
   "source": [
    "data.loc[data.Popularity>max_limit]"
   ]
  },
  {
   "cell_type": "code",
   "execution_count": 565,
   "id": "caad4786",
   "metadata": {},
   "outputs": [
    {
     "data": {
      "text/plain": [
       "Make                  object\n",
       "Model                 object\n",
       "Year                   int64\n",
       "Engine Fuel Type      object\n",
       "Engine_HP            float64\n",
       "Engine_Cylinders     float64\n",
       "Transmission Type     object\n",
       "Driven_Wheels         object\n",
       "Number_of_Doors      float64\n",
       "Market Category       object\n",
       "Vehicle Size          object\n",
       "Vehicle Style         object\n",
       "highway_MPG            int64\n",
       "city_mpg               int64\n",
       "Popularity             int64\n",
       "MSRP                   int64\n",
       "dtype: object"
      ]
     },
     "execution_count": 565,
     "metadata": {},
     "output_type": "execute_result"
    }
   ],
   "source": [
    "data.dtypes"
   ]
  },
  {
   "cell_type": "code",
   "execution_count": 567,
   "id": "cbdeafaa",
   "metadata": {},
   "outputs": [],
   "source": [
    "data.rename(columns={'Engine Fuel Type': 'Engine_Fuel_Type'}, inplace=True)\n",
    "data.rename(columns={'Transmission Type': 'Transmission_Type'}, inplace=True)\n"
   ]
  },
  {
   "cell_type": "markdown",
   "id": "318ff50a",
   "metadata": {},
   "source": [
    "# Label Encoding"
   ]
  },
  {
   "cell_type": "code",
   "execution_count": 568,
   "id": "475c6b57",
   "metadata": {},
   "outputs": [],
   "source": [
    "from sklearn.preprocessing import LabelEncoder\n",
    "\n",
    "# Initialize LabelEncoder\n",
    "label_encoder = LabelEncoder()\n",
    "\n",
    "# Fit and transform the \"Make\" column\n",
    "data['Make'] = label_encoder.fit_transform(data['Make'])\n",
    "\n",
    "# Fit and transform the \"Model\" column\n",
    "data['Model'] = label_encoder.fit_transform(data['Model'])\n",
    "\n",
    "data['Engine_Fuel_Type'] = label_encoder.fit_transform(data['Engine_Fuel_Type'])\n",
    "\n",
    "data['Transmission_Type'] = label_encoder.fit_transform(data['Transmission_Type'])\n",
    "\n",
    "data['Driven_Wheels'] = label_encoder.fit_transform(data['Driven_Wheels'])\n",
    "\n",
    "data['Market Category'] = label_encoder.fit_transform(data['Market Category'])\n",
    "\n",
    "data['Vehicle Size'] = label_encoder.fit_transform(data['Vehicle Size'])\n",
    "\n",
    "data['Vehicle Style'] = label_encoder.fit_transform(data['Vehicle Style'])"
   ]
  },
  {
   "cell_type": "code",
   "execution_count": 569,
   "id": "106a5abe",
   "metadata": {},
   "outputs": [
    {
     "data": {
      "text/html": [
       "<div>\n",
       "<style scoped>\n",
       "    .dataframe tbody tr th:only-of-type {\n",
       "        vertical-align: middle;\n",
       "    }\n",
       "\n",
       "    .dataframe tbody tr th {\n",
       "        vertical-align: top;\n",
       "    }\n",
       "\n",
       "    .dataframe thead th {\n",
       "        text-align: right;\n",
       "    }\n",
       "</style>\n",
       "<table border=\"1\" class=\"dataframe\">\n",
       "  <thead>\n",
       "    <tr style=\"text-align: right;\">\n",
       "      <th></th>\n",
       "      <th>Make</th>\n",
       "      <th>Model</th>\n",
       "      <th>Year</th>\n",
       "      <th>Engine_Fuel_Type</th>\n",
       "      <th>Engine_HP</th>\n",
       "      <th>Engine_Cylinders</th>\n",
       "      <th>Transmission_Type</th>\n",
       "      <th>Driven_Wheels</th>\n",
       "      <th>Number_of_Doors</th>\n",
       "      <th>Market Category</th>\n",
       "      <th>Vehicle Size</th>\n",
       "      <th>Vehicle Style</th>\n",
       "      <th>highway_MPG</th>\n",
       "      <th>city_mpg</th>\n",
       "      <th>Popularity</th>\n",
       "      <th>MSRP</th>\n",
       "    </tr>\n",
       "  </thead>\n",
       "  <tbody>\n",
       "    <tr>\n",
       "      <th>0</th>\n",
       "      <td>4</td>\n",
       "      <td>1</td>\n",
       "      <td>2011</td>\n",
       "      <td>7</td>\n",
       "      <td>335.0</td>\n",
       "      <td>6.0</td>\n",
       "      <td>3</td>\n",
       "      <td>3</td>\n",
       "      <td>2.0</td>\n",
       "      <td>38</td>\n",
       "      <td>0</td>\n",
       "      <td>8</td>\n",
       "      <td>26</td>\n",
       "      <td>19</td>\n",
       "      <td>3916</td>\n",
       "      <td>46135</td>\n",
       "    </tr>\n",
       "    <tr>\n",
       "      <th>1</th>\n",
       "      <td>4</td>\n",
       "      <td>0</td>\n",
       "      <td>2011</td>\n",
       "      <td>7</td>\n",
       "      <td>300.0</td>\n",
       "      <td>6.0</td>\n",
       "      <td>3</td>\n",
       "      <td>3</td>\n",
       "      <td>2.0</td>\n",
       "      <td>67</td>\n",
       "      <td>0</td>\n",
       "      <td>6</td>\n",
       "      <td>28</td>\n",
       "      <td>19</td>\n",
       "      <td>3916</td>\n",
       "      <td>40650</td>\n",
       "    </tr>\n",
       "    <tr>\n",
       "      <th>2</th>\n",
       "      <td>4</td>\n",
       "      <td>0</td>\n",
       "      <td>2011</td>\n",
       "      <td>7</td>\n",
       "      <td>300.0</td>\n",
       "      <td>6.0</td>\n",
       "      <td>3</td>\n",
       "      <td>3</td>\n",
       "      <td>2.0</td>\n",
       "      <td>64</td>\n",
       "      <td>0</td>\n",
       "      <td>8</td>\n",
       "      <td>28</td>\n",
       "      <td>20</td>\n",
       "      <td>3916</td>\n",
       "      <td>36350</td>\n",
       "    </tr>\n",
       "    <tr>\n",
       "      <th>3</th>\n",
       "      <td>4</td>\n",
       "      <td>0</td>\n",
       "      <td>2011</td>\n",
       "      <td>7</td>\n",
       "      <td>230.0</td>\n",
       "      <td>6.0</td>\n",
       "      <td>3</td>\n",
       "      <td>3</td>\n",
       "      <td>2.0</td>\n",
       "      <td>67</td>\n",
       "      <td>0</td>\n",
       "      <td>8</td>\n",
       "      <td>28</td>\n",
       "      <td>18</td>\n",
       "      <td>3916</td>\n",
       "      <td>29450</td>\n",
       "    </tr>\n",
       "    <tr>\n",
       "      <th>4</th>\n",
       "      <td>4</td>\n",
       "      <td>0</td>\n",
       "      <td>2011</td>\n",
       "      <td>7</td>\n",
       "      <td>230.0</td>\n",
       "      <td>6.0</td>\n",
       "      <td>3</td>\n",
       "      <td>3</td>\n",
       "      <td>2.0</td>\n",
       "      <td>63</td>\n",
       "      <td>0</td>\n",
       "      <td>6</td>\n",
       "      <td>28</td>\n",
       "      <td>18</td>\n",
       "      <td>3916</td>\n",
       "      <td>34500</td>\n",
       "    </tr>\n",
       "  </tbody>\n",
       "</table>\n",
       "</div>"
      ],
      "text/plain": [
       "   Make  Model  Year  Engine_Fuel_Type  Engine_HP  Engine_Cylinders  \\\n",
       "0     4      1  2011                 7      335.0               6.0   \n",
       "1     4      0  2011                 7      300.0               6.0   \n",
       "2     4      0  2011                 7      300.0               6.0   \n",
       "3     4      0  2011                 7      230.0               6.0   \n",
       "4     4      0  2011                 7      230.0               6.0   \n",
       "\n",
       "   Transmission_Type  Driven_Wheels  Number_of_Doors  Market Category  \\\n",
       "0                  3              3              2.0               38   \n",
       "1                  3              3              2.0               67   \n",
       "2                  3              3              2.0               64   \n",
       "3                  3              3              2.0               67   \n",
       "4                  3              3              2.0               63   \n",
       "\n",
       "   Vehicle Size  Vehicle Style  highway_MPG  city_mpg  Popularity   MSRP  \n",
       "0             0              8           26        19        3916  46135  \n",
       "1             0              6           28        19        3916  40650  \n",
       "2             0              8           28        20        3916  36350  \n",
       "3             0              8           28        18        3916  29450  \n",
       "4             0              6           28        18        3916  34500  "
      ]
     },
     "execution_count": 569,
     "metadata": {},
     "output_type": "execute_result"
    }
   ],
   "source": [
    "data.head()"
   ]
  },
  {
   "cell_type": "markdown",
   "id": "2e99b1a9",
   "metadata": {},
   "source": [
    "# Feature Scaling"
   ]
  },
  {
   "cell_type": "code",
   "execution_count": 574,
   "id": "d2375f35",
   "metadata": {},
   "outputs": [],
   "source": [
    "from sklearn.preprocessing import MinMaxScaler"
   ]
  },
  {
   "cell_type": "code",
   "execution_count": 577,
   "id": "1d595d84",
   "metadata": {},
   "outputs": [],
   "source": [
    "df = pd.DataFrame(data)\n",
    "df = df.drop('MSRP', axis=1)"
   ]
  },
  {
   "cell_type": "code",
   "execution_count": 578,
   "id": "38586771",
   "metadata": {},
   "outputs": [
    {
     "data": {
      "text/html": [
       "<div>\n",
       "<style scoped>\n",
       "    .dataframe tbody tr th:only-of-type {\n",
       "        vertical-align: middle;\n",
       "    }\n",
       "\n",
       "    .dataframe tbody tr th {\n",
       "        vertical-align: top;\n",
       "    }\n",
       "\n",
       "    .dataframe thead th {\n",
       "        text-align: right;\n",
       "    }\n",
       "</style>\n",
       "<table border=\"1\" class=\"dataframe\">\n",
       "  <thead>\n",
       "    <tr style=\"text-align: right;\">\n",
       "      <th></th>\n",
       "      <th>Make</th>\n",
       "      <th>Model</th>\n",
       "      <th>Year</th>\n",
       "      <th>Engine_Fuel_Type</th>\n",
       "      <th>Engine_HP</th>\n",
       "      <th>Engine_Cylinders</th>\n",
       "      <th>Transmission_Type</th>\n",
       "      <th>Driven_Wheels</th>\n",
       "      <th>Number_of_Doors</th>\n",
       "      <th>Market Category</th>\n",
       "      <th>Vehicle Size</th>\n",
       "      <th>Vehicle Style</th>\n",
       "      <th>highway_MPG</th>\n",
       "      <th>city_mpg</th>\n",
       "      <th>Popularity</th>\n",
       "    </tr>\n",
       "  </thead>\n",
       "  <tbody>\n",
       "    <tr>\n",
       "      <th>0</th>\n",
       "      <td>4</td>\n",
       "      <td>1</td>\n",
       "      <td>2011</td>\n",
       "      <td>7</td>\n",
       "      <td>335.0</td>\n",
       "      <td>6.0</td>\n",
       "      <td>3</td>\n",
       "      <td>3</td>\n",
       "      <td>2.0</td>\n",
       "      <td>38</td>\n",
       "      <td>0</td>\n",
       "      <td>8</td>\n",
       "      <td>26</td>\n",
       "      <td>19</td>\n",
       "      <td>3916</td>\n",
       "    </tr>\n",
       "    <tr>\n",
       "      <th>1</th>\n",
       "      <td>4</td>\n",
       "      <td>0</td>\n",
       "      <td>2011</td>\n",
       "      <td>7</td>\n",
       "      <td>300.0</td>\n",
       "      <td>6.0</td>\n",
       "      <td>3</td>\n",
       "      <td>3</td>\n",
       "      <td>2.0</td>\n",
       "      <td>67</td>\n",
       "      <td>0</td>\n",
       "      <td>6</td>\n",
       "      <td>28</td>\n",
       "      <td>19</td>\n",
       "      <td>3916</td>\n",
       "    </tr>\n",
       "    <tr>\n",
       "      <th>2</th>\n",
       "      <td>4</td>\n",
       "      <td>0</td>\n",
       "      <td>2011</td>\n",
       "      <td>7</td>\n",
       "      <td>300.0</td>\n",
       "      <td>6.0</td>\n",
       "      <td>3</td>\n",
       "      <td>3</td>\n",
       "      <td>2.0</td>\n",
       "      <td>64</td>\n",
       "      <td>0</td>\n",
       "      <td>8</td>\n",
       "      <td>28</td>\n",
       "      <td>20</td>\n",
       "      <td>3916</td>\n",
       "    </tr>\n",
       "    <tr>\n",
       "      <th>3</th>\n",
       "      <td>4</td>\n",
       "      <td>0</td>\n",
       "      <td>2011</td>\n",
       "      <td>7</td>\n",
       "      <td>230.0</td>\n",
       "      <td>6.0</td>\n",
       "      <td>3</td>\n",
       "      <td>3</td>\n",
       "      <td>2.0</td>\n",
       "      <td>67</td>\n",
       "      <td>0</td>\n",
       "      <td>8</td>\n",
       "      <td>28</td>\n",
       "      <td>18</td>\n",
       "      <td>3916</td>\n",
       "    </tr>\n",
       "    <tr>\n",
       "      <th>4</th>\n",
       "      <td>4</td>\n",
       "      <td>0</td>\n",
       "      <td>2011</td>\n",
       "      <td>7</td>\n",
       "      <td>230.0</td>\n",
       "      <td>6.0</td>\n",
       "      <td>3</td>\n",
       "      <td>3</td>\n",
       "      <td>2.0</td>\n",
       "      <td>63</td>\n",
       "      <td>0</td>\n",
       "      <td>6</td>\n",
       "      <td>28</td>\n",
       "      <td>18</td>\n",
       "      <td>3916</td>\n",
       "    </tr>\n",
       "  </tbody>\n",
       "</table>\n",
       "</div>"
      ],
      "text/plain": [
       "   Make  Model  Year  Engine_Fuel_Type  Engine_HP  Engine_Cylinders  \\\n",
       "0     4      1  2011                 7      335.0               6.0   \n",
       "1     4      0  2011                 7      300.0               6.0   \n",
       "2     4      0  2011                 7      300.0               6.0   \n",
       "3     4      0  2011                 7      230.0               6.0   \n",
       "4     4      0  2011                 7      230.0               6.0   \n",
       "\n",
       "   Transmission_Type  Driven_Wheels  Number_of_Doors  Market Category  \\\n",
       "0                  3              3              2.0               38   \n",
       "1                  3              3              2.0               67   \n",
       "2                  3              3              2.0               64   \n",
       "3                  3              3              2.0               67   \n",
       "4                  3              3              2.0               63   \n",
       "\n",
       "   Vehicle Size  Vehicle Style  highway_MPG  city_mpg  Popularity  \n",
       "0             0              8           26        19        3916  \n",
       "1             0              6           28        19        3916  \n",
       "2             0              8           28        20        3916  \n",
       "3             0              8           28        18        3916  \n",
       "4             0              6           28        18        3916  "
      ]
     },
     "execution_count": 578,
     "metadata": {},
     "output_type": "execute_result"
    }
   ],
   "source": [
    "df.head()"
   ]
  },
  {
   "cell_type": "code",
   "execution_count": 579,
   "id": "7b8a66f1",
   "metadata": {},
   "outputs": [
    {
     "data": {
      "text/html": [
       "<div>\n",
       "<style scoped>\n",
       "    .dataframe tbody tr th:only-of-type {\n",
       "        vertical-align: middle;\n",
       "    }\n",
       "\n",
       "    .dataframe tbody tr th {\n",
       "        vertical-align: top;\n",
       "    }\n",
       "\n",
       "    .dataframe thead th {\n",
       "        text-align: right;\n",
       "    }\n",
       "</style>\n",
       "<table border=\"1\" class=\"dataframe\">\n",
       "  <thead>\n",
       "    <tr style=\"text-align: right;\">\n",
       "      <th></th>\n",
       "      <th>Make</th>\n",
       "      <th>Model</th>\n",
       "      <th>Year</th>\n",
       "      <th>Engine_Fuel_Type</th>\n",
       "      <th>Engine_HP</th>\n",
       "      <th>Engine_Cylinders</th>\n",
       "      <th>Transmission_Type</th>\n",
       "      <th>Driven_Wheels</th>\n",
       "      <th>Number_of_Doors</th>\n",
       "      <th>Market Category</th>\n",
       "      <th>Vehicle Size</th>\n",
       "      <th>Vehicle Style</th>\n",
       "      <th>highway_MPG</th>\n",
       "      <th>city_mpg</th>\n",
       "      <th>Popularity</th>\n",
       "    </tr>\n",
       "  </thead>\n",
       "  <tbody>\n",
       "    <tr>\n",
       "      <th>0</th>\n",
       "      <td>0.085106</td>\n",
       "      <td>0.001385</td>\n",
       "      <td>0.6250</td>\n",
       "      <td>0.875</td>\n",
       "      <td>0.608696</td>\n",
       "      <td>0.6</td>\n",
       "      <td>0.75</td>\n",
       "      <td>1.000000</td>\n",
       "      <td>0.0</td>\n",
       "      <td>0.542857</td>\n",
       "      <td>0.0</td>\n",
       "      <td>0.533333</td>\n",
       "      <td>0.466667</td>\n",
       "      <td>0.500000</td>\n",
       "      <td>1.000000</td>\n",
       "    </tr>\n",
       "    <tr>\n",
       "      <th>1</th>\n",
       "      <td>0.085106</td>\n",
       "      <td>0.000000</td>\n",
       "      <td>0.6250</td>\n",
       "      <td>0.875</td>\n",
       "      <td>0.532609</td>\n",
       "      <td>0.6</td>\n",
       "      <td>0.75</td>\n",
       "      <td>1.000000</td>\n",
       "      <td>0.0</td>\n",
       "      <td>0.957143</td>\n",
       "      <td>0.0</td>\n",
       "      <td>0.400000</td>\n",
       "      <td>0.533333</td>\n",
       "      <td>0.500000</td>\n",
       "      <td>1.000000</td>\n",
       "    </tr>\n",
       "    <tr>\n",
       "      <th>2</th>\n",
       "      <td>0.085106</td>\n",
       "      <td>0.000000</td>\n",
       "      <td>0.6250</td>\n",
       "      <td>0.875</td>\n",
       "      <td>0.532609</td>\n",
       "      <td>0.6</td>\n",
       "      <td>0.75</td>\n",
       "      <td>1.000000</td>\n",
       "      <td>0.0</td>\n",
       "      <td>0.914286</td>\n",
       "      <td>0.0</td>\n",
       "      <td>0.533333</td>\n",
       "      <td>0.533333</td>\n",
       "      <td>0.541667</td>\n",
       "      <td>1.000000</td>\n",
       "    </tr>\n",
       "    <tr>\n",
       "      <th>3</th>\n",
       "      <td>0.085106</td>\n",
       "      <td>0.000000</td>\n",
       "      <td>0.6250</td>\n",
       "      <td>0.875</td>\n",
       "      <td>0.380435</td>\n",
       "      <td>0.6</td>\n",
       "      <td>0.75</td>\n",
       "      <td>1.000000</td>\n",
       "      <td>0.0</td>\n",
       "      <td>0.957143</td>\n",
       "      <td>0.0</td>\n",
       "      <td>0.533333</td>\n",
       "      <td>0.533333</td>\n",
       "      <td>0.458333</td>\n",
       "      <td>1.000000</td>\n",
       "    </tr>\n",
       "    <tr>\n",
       "      <th>4</th>\n",
       "      <td>0.085106</td>\n",
       "      <td>0.000000</td>\n",
       "      <td>0.6250</td>\n",
       "      <td>0.875</td>\n",
       "      <td>0.380435</td>\n",
       "      <td>0.6</td>\n",
       "      <td>0.75</td>\n",
       "      <td>1.000000</td>\n",
       "      <td>0.0</td>\n",
       "      <td>0.900000</td>\n",
       "      <td>0.0</td>\n",
       "      <td>0.400000</td>\n",
       "      <td>0.533333</td>\n",
       "      <td>0.458333</td>\n",
       "      <td>1.000000</td>\n",
       "    </tr>\n",
       "    <tr>\n",
       "      <th>...</th>\n",
       "      <td>...</td>\n",
       "      <td>...</td>\n",
       "      <td>...</td>\n",
       "      <td>...</td>\n",
       "      <td>...</td>\n",
       "      <td>...</td>\n",
       "      <td>...</td>\n",
       "      <td>...</td>\n",
       "      <td>...</td>\n",
       "      <td>...</td>\n",
       "      <td>...</td>\n",
       "      <td>...</td>\n",
       "      <td>...</td>\n",
       "      <td>...</td>\n",
       "      <td>...</td>\n",
       "    </tr>\n",
       "    <tr>\n",
       "      <th>8167</th>\n",
       "      <td>0.000000</td>\n",
       "      <td>0.984765</td>\n",
       "      <td>0.6875</td>\n",
       "      <td>0.875</td>\n",
       "      <td>0.532609</td>\n",
       "      <td>0.6</td>\n",
       "      <td>0.25</td>\n",
       "      <td>0.000000</td>\n",
       "      <td>1.0</td>\n",
       "      <td>0.185714</td>\n",
       "      <td>1.0</td>\n",
       "      <td>0.133333</td>\n",
       "      <td>0.366667</td>\n",
       "      <td>0.375000</td>\n",
       "      <td>0.051610</td>\n",
       "    </tr>\n",
       "    <tr>\n",
       "      <th>8168</th>\n",
       "      <td>0.000000</td>\n",
       "      <td>0.984765</td>\n",
       "      <td>0.6875</td>\n",
       "      <td>0.875</td>\n",
       "      <td>0.532609</td>\n",
       "      <td>0.6</td>\n",
       "      <td>0.25</td>\n",
       "      <td>0.000000</td>\n",
       "      <td>1.0</td>\n",
       "      <td>0.185714</td>\n",
       "      <td>1.0</td>\n",
       "      <td>0.133333</td>\n",
       "      <td>0.366667</td>\n",
       "      <td>0.375000</td>\n",
       "      <td>0.051610</td>\n",
       "    </tr>\n",
       "    <tr>\n",
       "      <th>8169</th>\n",
       "      <td>0.000000</td>\n",
       "      <td>0.984765</td>\n",
       "      <td>0.6875</td>\n",
       "      <td>0.875</td>\n",
       "      <td>0.532609</td>\n",
       "      <td>0.6</td>\n",
       "      <td>0.25</td>\n",
       "      <td>0.000000</td>\n",
       "      <td>1.0</td>\n",
       "      <td>0.185714</td>\n",
       "      <td>1.0</td>\n",
       "      <td>0.133333</td>\n",
       "      <td>0.366667</td>\n",
       "      <td>0.375000</td>\n",
       "      <td>0.051610</td>\n",
       "    </tr>\n",
       "    <tr>\n",
       "      <th>8170</th>\n",
       "      <td>0.000000</td>\n",
       "      <td>0.984765</td>\n",
       "      <td>0.7500</td>\n",
       "      <td>0.750</td>\n",
       "      <td>0.532609</td>\n",
       "      <td>0.6</td>\n",
       "      <td>0.25</td>\n",
       "      <td>0.000000</td>\n",
       "      <td>1.0</td>\n",
       "      <td>0.185714</td>\n",
       "      <td>1.0</td>\n",
       "      <td>0.133333</td>\n",
       "      <td>0.366667</td>\n",
       "      <td>0.375000</td>\n",
       "      <td>0.051610</td>\n",
       "    </tr>\n",
       "    <tr>\n",
       "      <th>8171</th>\n",
       "      <td>0.531915</td>\n",
       "      <td>0.986150</td>\n",
       "      <td>0.3125</td>\n",
       "      <td>1.000</td>\n",
       "      <td>0.360870</td>\n",
       "      <td>0.6</td>\n",
       "      <td>0.25</td>\n",
       "      <td>0.666667</td>\n",
       "      <td>1.0</td>\n",
       "      <td>0.900000</td>\n",
       "      <td>1.0</td>\n",
       "      <td>0.933333</td>\n",
       "      <td>0.466667</td>\n",
       "      <td>0.416667</td>\n",
       "      <td>0.015074</td>\n",
       "    </tr>\n",
       "  </tbody>\n",
       "</table>\n",
       "<p>8172 rows × 15 columns</p>\n",
       "</div>"
      ],
      "text/plain": [
       "          Make     Model    Year  Engine_Fuel_Type  Engine_HP  \\\n",
       "0     0.085106  0.001385  0.6250             0.875   0.608696   \n",
       "1     0.085106  0.000000  0.6250             0.875   0.532609   \n",
       "2     0.085106  0.000000  0.6250             0.875   0.532609   \n",
       "3     0.085106  0.000000  0.6250             0.875   0.380435   \n",
       "4     0.085106  0.000000  0.6250             0.875   0.380435   \n",
       "...        ...       ...     ...               ...        ...   \n",
       "8167  0.000000  0.984765  0.6875             0.875   0.532609   \n",
       "8168  0.000000  0.984765  0.6875             0.875   0.532609   \n",
       "8169  0.000000  0.984765  0.6875             0.875   0.532609   \n",
       "8170  0.000000  0.984765  0.7500             0.750   0.532609   \n",
       "8171  0.531915  0.986150  0.3125             1.000   0.360870   \n",
       "\n",
       "      Engine_Cylinders  Transmission_Type  Driven_Wheels  Number_of_Doors  \\\n",
       "0                  0.6               0.75       1.000000              0.0   \n",
       "1                  0.6               0.75       1.000000              0.0   \n",
       "2                  0.6               0.75       1.000000              0.0   \n",
       "3                  0.6               0.75       1.000000              0.0   \n",
       "4                  0.6               0.75       1.000000              0.0   \n",
       "...                ...                ...            ...              ...   \n",
       "8167               0.6               0.25       0.000000              1.0   \n",
       "8168               0.6               0.25       0.000000              1.0   \n",
       "8169               0.6               0.25       0.000000              1.0   \n",
       "8170               0.6               0.25       0.000000              1.0   \n",
       "8171               0.6               0.25       0.666667              1.0   \n",
       "\n",
       "      Market Category  Vehicle Size  Vehicle Style  highway_MPG  city_mpg  \\\n",
       "0            0.542857           0.0       0.533333     0.466667  0.500000   \n",
       "1            0.957143           0.0       0.400000     0.533333  0.500000   \n",
       "2            0.914286           0.0       0.533333     0.533333  0.541667   \n",
       "3            0.957143           0.0       0.533333     0.533333  0.458333   \n",
       "4            0.900000           0.0       0.400000     0.533333  0.458333   \n",
       "...               ...           ...            ...          ...       ...   \n",
       "8167         0.185714           1.0       0.133333     0.366667  0.375000   \n",
       "8168         0.185714           1.0       0.133333     0.366667  0.375000   \n",
       "8169         0.185714           1.0       0.133333     0.366667  0.375000   \n",
       "8170         0.185714           1.0       0.133333     0.366667  0.375000   \n",
       "8171         0.900000           1.0       0.933333     0.466667  0.416667   \n",
       "\n",
       "      Popularity  \n",
       "0       1.000000  \n",
       "1       1.000000  \n",
       "2       1.000000  \n",
       "3       1.000000  \n",
       "4       1.000000  \n",
       "...          ...  \n",
       "8167    0.051610  \n",
       "8168    0.051610  \n",
       "8169    0.051610  \n",
       "8170    0.051610  \n",
       "8171    0.015074  \n",
       "\n",
       "[8172 rows x 15 columns]"
      ]
     },
     "execution_count": 579,
     "metadata": {},
     "output_type": "execute_result"
    }
   ],
   "source": [
    "scaler = MinMaxScaler()\n",
    "\n",
    "df_scaled = pd.DataFrame(scaler.fit_transform(df), columns=df.columns)\n",
    "df_scaled"
   ]
  },
  {
   "cell_type": "code",
   "execution_count": 588,
   "id": "93b4b58f",
   "metadata": {},
   "outputs": [
    {
     "name": "stdout",
     "output_type": "stream",
     "text": [
      "Selected features:\n",
      " Make                   -100.027339\n",
      "Model                 -8024.984059\n",
      "Engine_Fuel_Type       -896.226970\n",
      "Engine_HP             81419.503279\n",
      "Engine_Cylinders     -28163.983959\n",
      "Transmission_Type    -45819.356518\n",
      "Driven_Wheels         -6130.436872\n",
      "Number_of_Doors      -29964.093752\n",
      "Market Category      -23762.760731\n",
      "Vehicle Size         -14644.527497\n",
      "Vehicle Style         12100.493562\n",
      "city_mpg            -116172.571063\n",
      "Popularity            -3874.650994\n",
      "dtype: float64\n"
     ]
    }
   ],
   "source": []
  },
  {
   "cell_type": "markdown",
   "id": "18a2eded",
   "metadata": {},
   "source": [
    "# Splitting into train and test data"
   ]
  },
  {
   "cell_type": "code",
   "execution_count": 582,
   "id": "ca6c31a5",
   "metadata": {},
   "outputs": [],
   "source": [
    "y= data['MSRP']#target\n",
    "x= df_scaled"
   ]
  },
  {
   "cell_type": "markdown",
   "id": "5d6062b9",
   "metadata": {},
   "source": [
    "# BUILDING AND EVALUATING THE MODEL"
   ]
  },
  {
   "cell_type": "code",
   "execution_count": 583,
   "id": "d391649f",
   "metadata": {},
   "outputs": [],
   "source": [
    "#lINEAR REGRESSION\n",
    "from sklearn.model_selection import train_test_split\n",
    "x_train,x_test,y_train,y_test = train_test_split(x,y,test_size=.2,random_state=42)"
   ]
  },
  {
   "cell_type": "code",
   "execution_count": 584,
   "id": "b0b6cc98",
   "metadata": {},
   "outputs": [],
   "source": [
    "from sklearn import linear_model\n",
    "lr = linear_model.LinearRegression() "
   ]
  },
  {
   "cell_type": "code",
   "execution_count": 585,
   "id": "7a9e2775",
   "metadata": {},
   "outputs": [],
   "source": [
    "model = lr.fit(x_train,y_train)"
   ]
  },
  {
   "cell_type": "code",
   "execution_count": 586,
   "id": "2fa94795",
   "metadata": {},
   "outputs": [],
   "source": [
    "y_pred = model.predict(x_test)"
   ]
  },
  {
   "cell_type": "code",
   "execution_count": 587,
   "id": "3aa84f34",
   "metadata": {},
   "outputs": [
    {
     "name": "stdout",
     "output_type": "stream",
     "text": [
      "MSE is :  1612968751.7637641\n",
      "R2 is :  0.28081813868565864\n"
     ]
    }
   ],
   "source": [
    "from sklearn.metrics import mean_squared_error,r2_score\n",
    "print('MSE is : ',mean_squared_error(y_test,y_pred))\n",
    "print('R2 is : ',r2_score(y_test,y_pred))"
   ]
  },
  {
   "cell_type": "code",
   "execution_count": 589,
   "id": "234e9c6e",
   "metadata": {},
   "outputs": [],
   "source": [
    "#RANDOMFOREST REGRESSOR"
   ]
  },
  {
   "cell_type": "code",
   "execution_count": 592,
   "id": "78baf901",
   "metadata": {},
   "outputs": [
    {
     "name": "stdout",
     "output_type": "stream",
     "text": [
      "Mean Squared Error: 79919256.56813043\n",
      "R2 is :  0.9643660302590013\n"
     ]
    }
   ],
   "source": [
    "from sklearn.ensemble import RandomForestRegressor\n",
    "from sklearn.model_selection import train_test_split\n",
    "from sklearn.metrics import mean_squared_error,r2_score\n",
    "\n",
    "\n",
    "# Initialize the Random Forest Regressor\n",
    "rf_regressor = RandomForestRegressor()\n",
    "\n",
    "# Fit the model on the training data\n",
    "rf_regressor.fit(x_train, y_train)\n",
    "\n",
    "# Predict on the test data\n",
    "y_pred = rf_regressor.predict(x_test)\n",
    "\n",
    "# Calculate the mean squared error\n",
    "mse = mean_squared_error(y_test, y_pred)\n",
    "print(\"Mean Squared Error:\", mse)\n",
    "print('R2 is : ',r2_score(y_test,y_pred))"
   ]
  },
  {
   "cell_type": "code",
   "execution_count": 593,
   "id": "730f7479",
   "metadata": {},
   "outputs": [
    {
     "name": "stdout",
     "output_type": "stream",
     "text": [
      "Mean Squared Error: 908523552.0078427\n",
      "R2 is :  0.5949123884350282\n"
     ]
    }
   ],
   "source": [
    "from sklearn.tree import DecisionTreeRegressor\n",
    "\n",
    "\n",
    "\n",
    "# Initialize the Decision Tree Regressor\n",
    "dt_regressor = DecisionTreeRegressor()\n",
    "\n",
    "# Fit the model on the training data\n",
    "dt_regressor.fit(x_train, y_train)\n",
    "\n",
    "# Predict on the test data\n",
    "y_pred = dt_regressor.predict(x_test)\n",
    "\n",
    "# Calculate the mean squared error\n",
    "mse = mean_squared_error(y_test, y_pred)\n",
    "print(\"Mean Squared Error:\", mse)\n",
    "print('R2 is : ',r2_score(y_test,y_pred))"
   ]
  },
  {
   "cell_type": "code",
   "execution_count": null,
   "id": "204b01f9",
   "metadata": {},
   "outputs": [],
   "source": [
    "# Clearly RandomForest is the best model as it gives r2 score as 0.96. A model with lower mse and higher r2 score is said to be the best fit model."
   ]
  }
 ],
 "metadata": {
  "kernelspec": {
   "display_name": "Python 3 (ipykernel)",
   "language": "python",
   "name": "python3"
  },
  "language_info": {
   "codemirror_mode": {
    "name": "ipython",
    "version": 3
   },
   "file_extension": ".py",
   "mimetype": "text/x-python",
   "name": "python",
   "nbconvert_exporter": "python",
   "pygments_lexer": "ipython3",
   "version": "3.9.13"
  }
 },
 "nbformat": 4,
 "nbformat_minor": 5
}
